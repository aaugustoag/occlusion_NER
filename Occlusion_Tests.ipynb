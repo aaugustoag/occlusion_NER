{
 "cells": [
  {
   "cell_type": "markdown",
   "id": "a2d3362f",
   "metadata": {},
   "source": [
    "# Oclusão"
   ]
  },
  {
   "cell_type": "code",
   "execution_count": 1,
   "id": "0374ac57",
   "metadata": {},
   "outputs": [],
   "source": [
    "import numpy as np\n",
    "import pickle\n",
    "import json"
   ]
  },
  {
   "cell_type": "code",
   "execution_count": 2,
   "id": "0bf17744",
   "metadata": {},
   "outputs": [
    {
     "name": "stderr",
     "output_type": "stream",
     "text": [
      "Using TensorFlow backend.\n"
     ]
    }
   ],
   "source": [
    "from dataPreprocess import prepare_data, make_and_save_dict, map_words_and_tags, pad_seq, get_sets"
   ]
  },
  {
   "cell_type": "code",
   "execution_count": 3,
   "id": "04068e51",
   "metadata": {},
   "outputs": [],
   "source": [
    "tag2idx = {'I-PER': 0,\n",
    "           'I-MISC': 1,\n",
    "           'I-LOC': 2,\n",
    "           'B-LOC': 3,\n",
    "           'I-ORG': 4,\n",
    "           'O': 5,\n",
    "           'B-ORG': 6,\n",
    "           'B-MISC': 7,\n",
    "           'B-PER': 8,\n",
    "          }\n",
    "num_tags = len(tag2idx)\n",
    "tags_set = get_sets(tag2idx)"
   ]
  },
  {
   "cell_type": "code",
   "execution_count": 4,
   "id": "07c40d33",
   "metadata": {},
   "outputs": [
    {
     "data": {
      "text/plain": [
       "26870"
      ]
     },
     "execution_count": 4,
     "metadata": {},
     "output_type": "execute_result"
    }
   ],
   "source": [
    "# import word dict and tag dict\n",
    "word_dict2 = '../model_hu/word_dict2.pkl'\n",
    "with open(word_dict2, 'rb') as f:\n",
    "    word2idx = pickle.load(f)\n",
    "num_words = len(word2idx)\n",
    "words_set = get_sets(word2idx)\n",
    "words_set = {}\n",
    "for wd in word2idx:\n",
    "    words_set.update({word2idx[wd]: wd})\n",
    "len(word2idx)"
   ]
  },
  {
   "cell_type": "markdown",
   "id": "a75e9ff3",
   "metadata": {},
   "source": [
    "## Import Dataset"
   ]
  },
  {
   "cell_type": "code",
   "execution_count": 5,
   "id": "c1bacb20",
   "metadata": {},
   "outputs": [
    {
     "name": "stderr",
     "output_type": "stream",
     "text": [
      "C:\\Users\\gfra2\\anaconda3\\envs\\projeto_20220828\\lib\\site-packages\\numpy\\core\\_asarray.py:83: VisibleDeprecationWarning: Creating an ndarray from ragged nested sequences (which is a list-or-tuple of lists-or-tuples-or ndarrays with different lengths or shapes) is deprecated. If you meant to do this, you must specify 'dtype=object' when creating the ndarray\n",
      "  return array(a, dtype, copy=False, order=order)\n"
     ]
    },
    {
     "data": {
      "text/plain": [
       "(14041, 3453)"
      ]
     },
     "execution_count": 5,
     "metadata": {},
     "output_type": "execute_result"
    }
   ],
   "source": [
    "# dataset\n",
    "max_len = 75\n",
    "num_tags = len(tags_set)\n",
    "teste = '../conll2003/test.txt'\n",
    "X_te, y_te = prepare_data(teste, num_tags, max_len, word2idx, tag2idx)\n",
    "treino = '../conll2003/train.txt'\n",
    "X_tr, y_tr = prepare_data(treino, num_tags, max_len, word2idx, tag2idx)\n",
    "len(X_tr), len(X_te)"
   ]
  },
  {
   "cell_type": "markdown",
   "id": "9238d130",
   "metadata": {},
   "source": [
    "## Import Models"
   ]
  },
  {
   "cell_type": "code",
   "execution_count": 6,
   "id": "7741645c",
   "metadata": {},
   "outputs": [],
   "source": [
    "from keras.models import load_model"
   ]
  },
  {
   "cell_type": "code",
   "execution_count": 7,
   "id": "96376ec2",
   "metadata": {},
   "outputs": [],
   "source": [
    "model1 = '../project_models/828model_glove.h5'\n",
    "model2 = '../project_models/828model_glove.h10'\n",
    "model3 = '../project_models/828model_glove.h20'\n",
    "model4 = '../project_models/828model_glove.h50'\n",
    "model5 = '../project_models/828model_glove.h100'\n",
    "models_folders = [model1, model2, model3, model4, model5]"
   ]
  },
  {
   "cell_type": "code",
   "execution_count": 8,
   "id": "3237a85e",
   "metadata": {},
   "outputs": [],
   "source": [
    "models = []\n",
    "for m in models_folders:\n",
    "    models.append(load_model(m))"
   ]
  },
  {
   "cell_type": "markdown",
   "id": "b03957dd",
   "metadata": {},
   "source": [
    "# Oclusion Tests"
   ]
  },
  {
   "cell_type": "code",
   "execution_count": 9,
   "id": "068082c9",
   "metadata": {},
   "outputs": [],
   "source": [
    "from ocl_cal import oclusion"
   ]
  },
  {
   "cell_type": "markdown",
   "id": "f932f260",
   "metadata": {},
   "source": [
    "## Test Sent 1"
   ]
  },
  {
   "cell_type": "code",
   "execution_count": null,
   "id": "0f43634c",
   "metadata": {},
   "outputs": [],
   "source": []
  },
  {
   "cell_type": "markdown",
   "id": "47e11c80",
   "metadata": {},
   "source": [
    "## Test Sent B-PER 1"
   ]
  },
  {
   "cell_type": "code",
   "execution_count": 10,
   "id": "a0f0130c",
   "metadata": {},
   "outputs": [
    {
     "name": "stdout",
     "output_type": "stream",
     "text": [
      "tour manager clive lloyd on wednesday apologised for lara 's behaviour in confronting australia coach geoff marsh in the opposition dressing room to protest against his dismissal in the second test on tuesday .\n"
     ]
    }
   ],
   "source": [
    "exp = 307\n",
    "test_sent = X_te[exp]\n",
    "sentence_str = []\n",
    "for w in test_sent:\n",
    "    if w == 0:\n",
    "        break\n",
    "    sentence_str.append(words_set[w])\n",
    "print(' '.join(sentence_str))\n",
    "\n",
    "end_sent = np.where(test_sent == 0)[0][0]\n",
    "test_true = np.argmax(y_te[exp], -1)"
   ]
  },
  {
   "cell_type": "code",
   "execution_count": 21,
   "id": "64f339c2",
   "metadata": {},
   "outputs": [
    {
     "name": "stdout",
     "output_type": "stream",
     "text": [
      "Alvo\n",
      "Word: clive          \n",
      "Tag : B-PER\n"
     ]
    }
   ],
   "source": [
    "word_idx_target = 2\n",
    "tag_target = 'B-PER'\n",
    "print(\"Alvo\")\n",
    "print(\"{:4}: {:15}\".format('Word', words_set[X_te[exp][word_idx_target]]))\n",
    "print(\"{:4}: {:5}\".format('Tag', tag_target))"
   ]
  },
  {
   "cell_type": "code",
   "execution_count": 22,
   "id": "2ac2599f",
   "metadata": {},
   "outputs": [],
   "source": [
    "pf = []\n",
    "for model in models:\n",
    "    p = model.predict(np.array([test_sent]))\n",
    "    pf.append(np.argmax(p, axis=-1))"
   ]
  },
  {
   "cell_type": "code",
   "execution_count": 23,
   "id": "c937510d",
   "metadata": {},
   "outputs": [
    {
     "name": "stdout",
     "output_type": "stream",
     "text": [
      "    Word           | True    -  Pred1   -  Pred2   -  Pred3   -  Pred4   -  Pred5 \n",
      " 0- tour           | O       -  O       -  O       -  O       -  O       -  O     \n",
      " 1- manager        | O       -  O       -  O       -  O       -  O       -  O     \n",
      " 2- clive          | B-PER   -  B-PER   -  B-PER   -  B-PER   -  B-PER   -  B-PER \n",
      " 3- lloyd          | I-PER   -  I-PER   -  I-PER   -  I-PER   -  I-PER   -  I-PER \n",
      " 4- on             | O       -  O       -  O       -  O       -  O       -  O     \n",
      " 5- wednesday      | O       -  O       -  O       -  O       -  O       -  O     \n",
      " 6- apologised     | O       -  O       -  O       -  O       -  O       -  O     \n",
      " 7- for            | O       -  O       -  O       -  O       -  O       -  O     \n",
      " 8- lara           | B-PER   -  B-PER   -  B-PER   -  B-PER   -  B-PER   -  B-PER \n",
      " 9- 's             | O       -  O       -  O       -  O       -  O       -  O     \n",
      "10- behaviour      | O       -  O       -  O       -  O       -  O       -  O     \n",
      "11- in             | O       -  O       -  O       -  O       -  O       -  O     \n",
      "12- confronting    | O       -  O       -  O       -  O       -  O       -  O     \n",
      "13- australia      | B-LOC   -  I-LOC   -  B-LOC   -  B-LOC   -  B-LOC   -  B-LOC \n",
      "14- coach          | O       -  O       -  O       -  O       -  O       -  O     \n",
      "15- geoff          | B-PER   -  B-PER   -  B-PER   -  B-PER   -  B-PER   -  B-PER \n",
      "16- marsh          | I-PER   -  I-PER   -  I-PER   -  I-PER   -  I-PER   -  I-PER \n",
      "17- in             | O       -  O       -  O       -  O       -  O       -  O     \n",
      "18- the            | O       -  O       -  O       -  O       -  O       -  O     \n",
      "19- opposition     | O       -  O       -  O       -  O       -  O       -  O     \n",
      "20- dressing       | O       -  O       -  O       -  O       -  O       -  O     \n",
      "21- room           | O       -  O       -  O       -  O       -  O       -  O     \n",
      "22- to             | O       -  O       -  O       -  O       -  O       -  O     \n",
      "23- protest        | O       -  O       -  O       -  O       -  O       -  O     \n",
      "24- against        | O       -  O       -  O       -  O       -  O       -  O     \n",
      "25- his            | O       -  O       -  O       -  O       -  O       -  O     \n",
      "26- dismissal      | O       -  O       -  O       -  O       -  O       -  O     \n",
      "27- in             | O       -  O       -  O       -  O       -  O       -  O     \n",
      "28- the            | O       -  O       -  O       -  O       -  O       -  O     \n",
      "29- second         | O       -  O       -  O       -  O       -  O       -  O     \n",
      "30- test           | O       -  O       -  O       -  O       -  O       -  O     \n",
      "31- on             | O       -  O       -  O       -  O       -  O       -  O     \n",
      "32- tuesday        | O       -  O       -  O       -  O       -  O       -  O     \n",
      "33- .              | O       -  O       -  O       -  O       -  O       -  O     \n"
     ]
    }
   ],
   "source": [
    "seq_len=0\n",
    "print(\"{:2}  {:15}| {:6}  -  {:6}  -  {:6}  -  {:6}  -  {:6}  -  {:6}\".format(\n",
    "    \"\", \"Word\", \"True\", \"Pred1\", \"Pred2\", \"Pred3\", \"Pred4\", \"Pred5\"))\n",
    "for w, t, pred1, pred2, pred3, pred4, pred5 in zip(X_te[exp], test_true, pf[0][0], pf[1][0], pf[2][0], pf[3][0], pf[4][0]):\n",
    "    if w != 0:\n",
    "        seq_len += 1\n",
    "        print(\"{:2}- {:15}| {:6}  -  {:6}  -  {:6}  -  {:6}  -  {:6}  -  {:6}\".format(\n",
    "            seq_len - 1, words_set[w], tags_set[t],\n",
    "            tags_set[pred1], tags_set[pred2], tags_set[pred3], tags_set[pred4], tags_set[pred5]))"
   ]
  },
  {
   "cell_type": "code",
   "execution_count": 24,
   "id": "7f078928",
   "metadata": {},
   "outputs": [],
   "source": [
    "sorted_scr_list = []\n",
    "for model in models:\n",
    "    sorted_scr_list.append(oclusion (test_sent, tags_set, word_idx_target, tag_target, model))"
   ]
  },
  {
   "cell_type": "code",
   "execution_count": 25,
   "id": "7369881f",
   "metadata": {},
   "outputs": [
    {
     "name": "stdout",
     "output_type": "stream",
     "text": [
      "Alvo\n",
      "Word: clive          \n",
      "Tag : B-PER\n",
      "\n",
      "  Ranked Relecance 1    |  Ranked Relecance 2    |  Ranked Relecance 3    |  Ranked Relecance 4    |  Ranked Relecance 5  \n",
      "1- clive      (9.48E-01)|1- clive      (9.82E-01)|1- clive      (9.82E-01)|1- clive      (1.00E+00)|1- clive      (1.00E+00)\n",
      "2- lloyd      (2.87E-01)|2- lloyd      (4.37E-01)|2- lloyd      (7.81E-01)|2- lloyd      (8.91E-01)|2- lloyd      (9.66E-01)\n",
      "3- manager    (1.77E-02)|3- manager    (3.41E-03)|3- lara       (1.61E-04)|3- lara       (4.45E-04)|3- lara       (1.31E-05)\n",
      "4- apologised (9.28E-04)|4- apologised (1.72E-03)|4- manager    (1.14E-04)|4- for        (4.02E-06)|4- for        (6.13E-07)\n",
      "5- lara       (4.93E-04)|5- tour       (4.15E-04)|5- apologised (8.61E-05)|5- wednesday  (3.67E-06)|5- geoff      (2.38E-07)\n"
     ]
    }
   ],
   "source": [
    "print_top_rel = 5\n",
    "i=0\n",
    "print(\"Alvo\")\n",
    "print(\"{:4}: {:15}\".format('Word', words_set[X_te[exp][word_idx_target]]))\n",
    "print(\"{:4}: {:5}\".format('Tag', tag_target))\n",
    "print()\n",
    "print(\"  {:20}  |  {:20}  |  {:20}  |  {:20}  |  {:20}\".format(\"Ranked Relecance 1\", \"Ranked Relecance 2\",\n",
    "                                                        \"Ranked Relecance 3\", \"Ranked Relecance 4\", \"Ranked Relecance 5\"))\n",
    "for idx1, idx2, idx3, idx4, idx5 in zip(sorted_scr_list[0].indices, sorted_scr_list[1].indices,\n",
    "                                        sorted_scr_list[2].indices, sorted_scr_list[3].indices,\n",
    "                                        sorted_scr_list[4].indices):\n",
    "    print(\"{:1}- {:11}({:.2E})|{:1}- {:11}({:.2E})|{:1}- {:11}({:.2E})|{:1}- {:11}({:.2E})|{:1}- {:11}({:.2E})\".format(\n",
    "        i+1, words_set[X_te[exp][idx1]], sorted_scr_list[0].values[i],\n",
    "        i+1, words_set[X_te[exp][idx2]], sorted_scr_list[1].values[i],\n",
    "        i+1, words_set[X_te[exp][idx3]], sorted_scr_list[2].values[i],\n",
    "        i+1, words_set[X_te[exp][idx4]], sorted_scr_list[3].values[i],\n",
    "        i+1, words_set[X_te[exp][idx5]], sorted_scr_list[4].values[i]))\n",
    "    if i+1 == print_top_rel:\n",
    "        break\n",
    "    i += 1"
   ]
  },
  {
   "cell_type": "code",
   "execution_count": null,
   "id": "671913fa",
   "metadata": {},
   "outputs": [],
   "source": []
  },
  {
   "cell_type": "markdown",
   "id": "f7299dd1",
   "metadata": {},
   "source": [
    "## Test Sent B-PER 2"
   ]
  },
  {
   "cell_type": "code",
   "execution_count": 10,
   "id": "af0e9615",
   "metadata": {},
   "outputs": [
    {
     "name": "stdout",
     "output_type": "stream",
     "text": [
      "tour manager clive lloyd on wednesday apologised for lara 's behaviour in confronting australia coach geoff marsh in the opposition dressing room to protest against his dismissal in the second test on tuesday .\n"
     ]
    }
   ],
   "source": [
    "exp = 307\n",
    "test_sent = X_te[exp]\n",
    "sentence_str = []\n",
    "for w in test_sent:\n",
    "    if w == 0:\n",
    "        break\n",
    "    sentence_str.append(words_set[w])\n",
    "print(' '.join(sentence_str))\n",
    "\n",
    "end_sent = np.where(test_sent == 0)[0][0]\n",
    "test_true = np.argmax(y_te[exp], -1)"
   ]
  },
  {
   "cell_type": "code",
   "execution_count": 26,
   "id": "de5a6221",
   "metadata": {},
   "outputs": [
    {
     "name": "stdout",
     "output_type": "stream",
     "text": [
      "Alvo\n",
      "Word: lara           \n",
      "Tag : B-PER\n"
     ]
    }
   ],
   "source": [
    "word_idx_target = 8\n",
    "tag_target = 'B-PER'\n",
    "print(\"Alvo\")\n",
    "print(\"{:4}: {:15}\".format('Word', words_set[X_te[exp][word_idx_target]]))\n",
    "print(\"{:4}: {:5}\".format('Tag', tag_target))"
   ]
  },
  {
   "cell_type": "code",
   "execution_count": 27,
   "id": "b6247ec1",
   "metadata": {},
   "outputs": [],
   "source": [
    "pf = []\n",
    "for model in models:\n",
    "    p = model.predict(np.array([test_sent]))\n",
    "    pf.append(np.argmax(p, axis=-1))"
   ]
  },
  {
   "cell_type": "code",
   "execution_count": 28,
   "id": "056ad968",
   "metadata": {},
   "outputs": [
    {
     "name": "stdout",
     "output_type": "stream",
     "text": [
      "    Word           | True    -  Pred1   -  Pred2   -  Pred3   -  Pred4   -  Pred5 \n",
      " 0- tour           | O       -  O       -  O       -  O       -  O       -  O     \n",
      " 1- manager        | O       -  O       -  O       -  O       -  O       -  O     \n",
      " 2- clive          | B-PER   -  B-PER   -  B-PER   -  B-PER   -  B-PER   -  B-PER \n",
      " 3- lloyd          | I-PER   -  I-PER   -  I-PER   -  I-PER   -  I-PER   -  I-PER \n",
      " 4- on             | O       -  O       -  O       -  O       -  O       -  O     \n",
      " 5- wednesday      | O       -  O       -  O       -  O       -  O       -  O     \n",
      " 6- apologised     | O       -  O       -  O       -  O       -  O       -  O     \n",
      " 7- for            | O       -  O       -  O       -  O       -  O       -  O     \n",
      " 8- lara           | B-PER   -  B-PER   -  B-PER   -  B-PER   -  B-PER   -  B-PER \n",
      " 9- 's             | O       -  O       -  O       -  O       -  O       -  O     \n",
      "10- behaviour      | O       -  O       -  O       -  O       -  O       -  O     \n",
      "11- in             | O       -  O       -  O       -  O       -  O       -  O     \n",
      "12- confronting    | O       -  O       -  O       -  O       -  O       -  O     \n",
      "13- australia      | B-LOC   -  I-LOC   -  B-LOC   -  B-LOC   -  B-LOC   -  B-LOC \n",
      "14- coach          | O       -  O       -  O       -  O       -  O       -  O     \n",
      "15- geoff          | B-PER   -  B-PER   -  B-PER   -  B-PER   -  B-PER   -  B-PER \n",
      "16- marsh          | I-PER   -  I-PER   -  I-PER   -  I-PER   -  I-PER   -  I-PER \n",
      "17- in             | O       -  O       -  O       -  O       -  O       -  O     \n",
      "18- the            | O       -  O       -  O       -  O       -  O       -  O     \n",
      "19- opposition     | O       -  O       -  O       -  O       -  O       -  O     \n",
      "20- dressing       | O       -  O       -  O       -  O       -  O       -  O     \n",
      "21- room           | O       -  O       -  O       -  O       -  O       -  O     \n",
      "22- to             | O       -  O       -  O       -  O       -  O       -  O     \n",
      "23- protest        | O       -  O       -  O       -  O       -  O       -  O     \n",
      "24- against        | O       -  O       -  O       -  O       -  O       -  O     \n",
      "25- his            | O       -  O       -  O       -  O       -  O       -  O     \n",
      "26- dismissal      | O       -  O       -  O       -  O       -  O       -  O     \n",
      "27- in             | O       -  O       -  O       -  O       -  O       -  O     \n",
      "28- the            | O       -  O       -  O       -  O       -  O       -  O     \n",
      "29- second         | O       -  O       -  O       -  O       -  O       -  O     \n",
      "30- test           | O       -  O       -  O       -  O       -  O       -  O     \n",
      "31- on             | O       -  O       -  O       -  O       -  O       -  O     \n",
      "32- tuesday        | O       -  O       -  O       -  O       -  O       -  O     \n",
      "33- .              | O       -  O       -  O       -  O       -  O       -  O     \n"
     ]
    }
   ],
   "source": [
    "seq_len=0\n",
    "print(\"{:2}  {:15}| {:6}  -  {:6}  -  {:6}  -  {:6}  -  {:6}  -  {:6}\".format(\n",
    "    \"\", \"Word\", \"True\", \"Pred1\", \"Pred2\", \"Pred3\", \"Pred4\", \"Pred5\"))\n",
    "for w, t, pred1, pred2, pred3, pred4, pred5 in zip(X_te[exp], test_true, pf[0][0], pf[1][0], pf[2][0], pf[3][0], pf[4][0]):\n",
    "    if w != 0:\n",
    "        seq_len += 1\n",
    "        print(\"{:2}- {:15}| {:6}  -  {:6}  -  {:6}  -  {:6}  -  {:6}  -  {:6}\".format(\n",
    "            seq_len - 1, words_set[w], tags_set[t],\n",
    "            tags_set[pred1], tags_set[pred2], tags_set[pred3], tags_set[pred4], tags_set[pred5]))"
   ]
  },
  {
   "cell_type": "code",
   "execution_count": 29,
   "id": "6682cc7f",
   "metadata": {},
   "outputs": [],
   "source": [
    "sorted_scr_list = []\n",
    "for model in models:\n",
    "    sorted_scr_list.append(oclusion (test_sent, tags_set, word_idx_target, tag_target, model))"
   ]
  },
  {
   "cell_type": "code",
   "execution_count": 30,
   "id": "5f5b3640",
   "metadata": {
    "scrolled": true
   },
   "outputs": [
    {
     "name": "stdout",
     "output_type": "stream",
     "text": [
      "Alvo\n",
      "Word: lara           \n",
      "Tag : B-PER\n",
      "\n",
      "  Ranked Relecance 1    |  Ranked Relecance 2    |  Ranked Relecance 3    |  Ranked Relecance 4    |  Ranked Relecance 5  \n",
      "1- lara       (9.65E-01)|1- lara       (9.86E-01)|1- lara       (9.87E-01)|1- lara       (9.98E-01)|1- lara       (1.00E+00)\n",
      "2- apologised (4.49E-02)|2- apologised (4.28E-02)|2- clive      (7.07E-03)|2- apologised (8.05E-05)|2- apologised (7.08E-06)\n",
      "3- clive      (3.24E-03)|3- clive      (2.34E-03)|3- apologised (4.95E-03)|3- clive      (2.10E-05)|3- for        (3.56E-07)\n",
      "4- geoff      (7.74E-04)|4- geoff      (7.35E-04)|4- for        (2.41E-04)|4- wednesday  (1.88E-05)|4- wednesday  (3.56E-07)\n",
      "5- for        (7.62E-04)|5- for        (6.79E-04)|5- wednesday  (1.90E-04)|5- for        (5.13E-06)|5- 's         (1.68E-07)\n"
     ]
    }
   ],
   "source": [
    "print_top_rel = 5\n",
    "i=0\n",
    "print(\"Alvo\")\n",
    "print(\"{:4}: {:15}\".format('Word', words_set[X_te[exp][word_idx_target]]))\n",
    "print(\"{:4}: {:5}\".format('Tag', tag_target))\n",
    "print()\n",
    "print(\"  {:20}  |  {:20}  |  {:20}  |  {:20}  |  {:20}\".format(\"Ranked Relecance 1\", \"Ranked Relecance 2\",\n",
    "                                                        \"Ranked Relecance 3\", \"Ranked Relecance 4\", \"Ranked Relecance 5\"))\n",
    "for idx1, idx2, idx3, idx4, idx5 in zip(sorted_scr_list[0].indices, sorted_scr_list[1].indices,\n",
    "                                        sorted_scr_list[2].indices, sorted_scr_list[3].indices,\n",
    "                                        sorted_scr_list[4].indices):\n",
    "    print(\"{:1}- {:11}({:.2E})|{:1}- {:11}({:.2E})|{:1}- {:11}({:.2E})|{:1}- {:11}({:.2E})|{:1}- {:11}({:.2E})\".format(\n",
    "        i+1, words_set[X_te[exp][idx1]], sorted_scr_list[0].values[i],\n",
    "        i+1, words_set[X_te[exp][idx2]], sorted_scr_list[1].values[i],\n",
    "        i+1, words_set[X_te[exp][idx3]], sorted_scr_list[2].values[i],\n",
    "        i+1, words_set[X_te[exp][idx4]], sorted_scr_list[3].values[i],\n",
    "        i+1, words_set[X_te[exp][idx5]], sorted_scr_list[4].values[i]))\n",
    "    if i+1 == print_top_rel:\n",
    "        break\n",
    "    i += 1"
   ]
  },
  {
   "cell_type": "code",
   "execution_count": null,
   "id": "e593ab28",
   "metadata": {},
   "outputs": [],
   "source": []
  },
  {
   "cell_type": "markdown",
   "id": "00205896",
   "metadata": {},
   "source": [
    "## Test Sent B-PER 3"
   ]
  },
  {
   "cell_type": "code",
   "execution_count": 31,
   "id": "01dd70da",
   "metadata": {},
   "outputs": [
    {
     "name": "stdout",
     "output_type": "stream",
     "text": [
      "australia went on to win the match at the sydney cricket ground by 124 runs to take a two-nil lead in the five-test series after lara failed in both innings .\n"
     ]
    }
   ],
   "source": [
    "exp = 310\n",
    "test_sent = X_te[exp]\n",
    "sentence_str = []\n",
    "for w in test_sent:\n",
    "    if w == 0:\n",
    "        break\n",
    "    sentence_str.append(words_set[w])\n",
    "print(' '.join(sentence_str))\n",
    "\n",
    "end_sent = np.where(test_sent == 0)[0][0]\n",
    "test_true = np.argmax(y_te[exp], -1)"
   ]
  },
  {
   "cell_type": "code",
   "execution_count": 35,
   "id": "50572cee",
   "metadata": {},
   "outputs": [
    {
     "name": "stdout",
     "output_type": "stream",
     "text": [
      "Alvo\n",
      "Word: lara           \n",
      "Tag : B-PER\n"
     ]
    }
   ],
   "source": [
    "word_idx_target = 25\n",
    "tag_target = 'B-PER'\n",
    "print(\"Alvo\")\n",
    "print(\"{:4}: {:15}\".format('Word', words_set[X_te[exp][word_idx_target]]))\n",
    "print(\"{:4}: {:5}\".format('Tag', tag_target))"
   ]
  },
  {
   "cell_type": "code",
   "execution_count": 36,
   "id": "5f0b44a3",
   "metadata": {},
   "outputs": [],
   "source": [
    "pf = []\n",
    "for model in models:\n",
    "    p = model.predict(np.array([test_sent]))\n",
    "    pf.append(np.argmax(p, axis=-1))"
   ]
  },
  {
   "cell_type": "code",
   "execution_count": 37,
   "id": "1c333d1b",
   "metadata": {},
   "outputs": [
    {
     "name": "stdout",
     "output_type": "stream",
     "text": [
      "    Word           | True    -  Pred1   -  Pred2   -  Pred3   -  Pred4   -  Pred5 \n",
      " 0- australia      | B-LOC   -  B-LOC   -  B-LOC   -  B-LOC   -  B-LOC   -  B-LOC \n",
      " 1- went           | O       -  O       -  O       -  O       -  O       -  O     \n",
      " 2- on             | O       -  O       -  O       -  O       -  O       -  O     \n",
      " 3- to             | O       -  O       -  O       -  O       -  O       -  O     \n",
      " 4- win            | O       -  O       -  O       -  O       -  O       -  O     \n",
      " 5- the            | O       -  O       -  O       -  O       -  O       -  O     \n",
      " 6- match          | O       -  O       -  O       -  O       -  O       -  O     \n",
      " 7- at             | O       -  O       -  O       -  O       -  O       -  O     \n",
      " 8- the            | O       -  O       -  O       -  O       -  O       -  O     \n",
      " 9- sydney         | B-LOC   -  B-LOC   -  B-LOC   -  B-LOC   -  B-LOC   -  B-LOC \n",
      "10- cricket        | I-LOC   -  I-LOC   -  O       -  O       -  O       -  O     \n",
      "11- ground         | I-LOC   -  O       -  O       -  O       -  O       -  O     \n",
      "12- by             | O       -  O       -  O       -  O       -  O       -  O     \n",
      "13- 124            | O       -  O       -  O       -  O       -  O       -  O     \n",
      "14- runs           | O       -  O       -  O       -  O       -  O       -  O     \n",
      "15- to             | O       -  O       -  O       -  O       -  O       -  O     \n",
      "16- take           | O       -  O       -  O       -  O       -  O       -  O     \n",
      "17- a              | O       -  O       -  O       -  O       -  O       -  O     \n",
      "18- two-nil        | O       -  O       -  O       -  O       -  O       -  O     \n",
      "19- lead           | O       -  O       -  O       -  O       -  O       -  O     \n",
      "20- in             | O       -  O       -  O       -  O       -  O       -  O     \n",
      "21- the            | O       -  O       -  O       -  O       -  O       -  O     \n",
      "22- five-test      | O       -  B-MISC  -  B-MISC  -  O       -  O       -  O     \n",
      "23- series         | O       -  I-MISC  -  O       -  O       -  O       -  O     \n",
      "24- after          | O       -  O       -  O       -  O       -  O       -  O     \n",
      "25- lara           | B-PER   -  B-PER   -  B-PER   -  B-PER   -  B-PER   -  B-PER \n",
      "26- failed         | O       -  O       -  O       -  O       -  O       -  O     \n",
      "27- in             | O       -  O       -  O       -  O       -  O       -  O     \n",
      "28- both           | O       -  O       -  O       -  O       -  O       -  O     \n",
      "29- innings        | O       -  O       -  O       -  O       -  O       -  O     \n",
      "30- .              | O       -  O       -  O       -  O       -  O       -  O     \n"
     ]
    }
   ],
   "source": [
    "seq_len=0\n",
    "print(\"{:2}  {:15}| {:6}  -  {:6}  -  {:6}  -  {:6}  -  {:6}  -  {:6}\".format(\n",
    "    \"\", \"Word\", \"True\", \"Pred1\", \"Pred2\", \"Pred3\", \"Pred4\", \"Pred5\"))\n",
    "for w, t, pred1, pred2, pred3, pred4, pred5 in zip(X_te[exp], test_true, pf[0][0], pf[1][0], pf[2][0], pf[3][0], pf[4][0]):\n",
    "    if w != 0:\n",
    "        seq_len += 1\n",
    "        print(\"{:2}- {:15}| {:6}  -  {:6}  -  {:6}  -  {:6}  -  {:6}  -  {:6}\".format(\n",
    "            seq_len - 1, words_set[w], tags_set[t],\n",
    "            tags_set[pred1], tags_set[pred2], tags_set[pred3], tags_set[pred4], tags_set[pred5]))"
   ]
  },
  {
   "cell_type": "code",
   "execution_count": 38,
   "id": "f10671b5",
   "metadata": {},
   "outputs": [],
   "source": [
    "sorted_scr_list = []\n",
    "for model in models:\n",
    "    sorted_scr_list.append(oclusion (test_sent, tags_set, word_idx_target, tag_target, model))"
   ]
  },
  {
   "cell_type": "code",
   "execution_count": 39,
   "id": "5c7ce05c",
   "metadata": {
    "scrolled": true
   },
   "outputs": [
    {
     "name": "stdout",
     "output_type": "stream",
     "text": [
      "Alvo\n",
      "Word: lara           \n",
      "Tag : B-PER\n",
      "\n",
      "  Ranked Relecance 1    |  Ranked Relecance 2    |  Ranked Relecance 3    |  Ranked Relecance 4    |  Ranked Relecance 5  \n",
      "1- lara       (9.43E-01)|1- lara       (9.72E-01)|1- lara       (9.89E-01)|1- lara       (9.97E-01)|1- lara       (1.00E+00)\n",
      "2- two-nil    (1.14E-02)|2- five-test  (4.01E-03)|2- five-test  (5.19E-04)|2- five-test  (4.02E-05)|2- five-test  (2.32E-06)\n",
      "3- five-test  (3.82E-03)|3- two-nil    (2.53E-03)|3- two-nil    (1.48E-04)|3- two-nil    (1.73E-06)|3- a          (1.09E-07)\n",
      "4- after      (1.52E-03)|4- after      (2.74E-04)|4- a          (1.08E-04)|4- series     (1.33E-06)|4- 124        (5.26E-08)\n",
      "5- both       (4.40E-04)|5- both       (1.90E-04)|5- innings    (5.69E-05)|5- a          (9.06E-07)|5- innings    (2.83E-08)\n"
     ]
    }
   ],
   "source": [
    "print_top_rel = 5\n",
    "i=0\n",
    "print(\"Alvo\")\n",
    "print(\"{:4}: {:15}\".format('Word', words_set[X_te[exp][word_idx_target]]))\n",
    "print(\"{:4}: {:5}\".format('Tag', tag_target))\n",
    "print()\n",
    "print(\"  {:20}  |  {:20}  |  {:20}  |  {:20}  |  {:20}\".format(\"Ranked Relecance 1\", \"Ranked Relecance 2\",\n",
    "                                                        \"Ranked Relecance 3\", \"Ranked Relecance 4\", \"Ranked Relecance 5\"))\n",
    "for idx1, idx2, idx3, idx4, idx5 in zip(sorted_scr_list[0].indices, sorted_scr_list[1].indices,\n",
    "                                        sorted_scr_list[2].indices, sorted_scr_list[3].indices,\n",
    "                                        sorted_scr_list[4].indices):\n",
    "    print(\"{:1}- {:11}({:.2E})|{:1}- {:11}({:.2E})|{:1}- {:11}({:.2E})|{:1}- {:11}({:.2E})|{:1}- {:11}({:.2E})\".format(\n",
    "        i+1, words_set[X_te[exp][idx1]], sorted_scr_list[0].values[i],\n",
    "        i+1, words_set[X_te[exp][idx2]], sorted_scr_list[1].values[i],\n",
    "        i+1, words_set[X_te[exp][idx3]], sorted_scr_list[2].values[i],\n",
    "        i+1, words_set[X_te[exp][idx4]], sorted_scr_list[3].values[i],\n",
    "        i+1, words_set[X_te[exp][idx5]], sorted_scr_list[4].values[i]))\n",
    "    if i+1 == print_top_rel:\n",
    "        break\n",
    "    i += 1"
   ]
  },
  {
   "cell_type": "code",
   "execution_count": null,
   "id": "0f5ad884",
   "metadata": {},
   "outputs": [],
   "source": []
  },
  {
   "cell_type": "markdown",
   "id": "f1912d56",
   "metadata": {},
   "source": [
    "## Test Sent B-LOC 1"
   ]
  },
  {
   "cell_type": "code",
   "execution_count": 136,
   "id": "baef398c",
   "metadata": {},
   "outputs": [
    {
     "name": "stdout",
     "output_type": "stream",
     "text": [
      "australia went on to win the match at the sydney cricket ground by 124 runs to take a two-nil lead in the five-test series after lara failed in both innings .\n"
     ]
    }
   ],
   "source": [
    "exp = 310\n",
    "test_sent = X_te[exp]\n",
    "sentence_str = []\n",
    "for w in test_sent:\n",
    "    if w == 0:\n",
    "        break\n",
    "    sentence_str.append(words_set[w])\n",
    "print(' '.join(sentence_str))\n",
    "\n",
    "end_sent = np.where(test_sent == 0)[0][0]\n",
    "test_true = np.argmax(y_te[exp], -1)"
   ]
  },
  {
   "cell_type": "code",
   "execution_count": 40,
   "id": "9f3d1513",
   "metadata": {},
   "outputs": [
    {
     "name": "stdout",
     "output_type": "stream",
     "text": [
      "Alvo\n",
      "Word: sydney         \n",
      "Tag : B-LOC\n"
     ]
    }
   ],
   "source": [
    "word_idx_target = 9\n",
    "tag_target = 'B-LOC'\n",
    "print(\"Alvo\")\n",
    "print(\"{:4}: {:15}\".format('Word', words_set[X_te[exp][word_idx_target]]))\n",
    "print(\"{:4}: {:5}\".format('Tag', tag_target))"
   ]
  },
  {
   "cell_type": "code",
   "execution_count": 41,
   "id": "479138c1",
   "metadata": {},
   "outputs": [],
   "source": [
    "pf = []\n",
    "for model in models:\n",
    "    p = model.predict(np.array([test_sent]))\n",
    "    pf.append(np.argmax(p, axis=-1))"
   ]
  },
  {
   "cell_type": "code",
   "execution_count": 42,
   "id": "0ccc3a50",
   "metadata": {},
   "outputs": [
    {
     "name": "stdout",
     "output_type": "stream",
     "text": [
      "    Word           | True    -  Pred1   -  Pred2   -  Pred3   -  Pred4   -  Pred5 \n",
      " 0- australia      | B-LOC   -  B-LOC   -  B-LOC   -  B-LOC   -  B-LOC   -  B-LOC \n",
      " 1- went           | O       -  O       -  O       -  O       -  O       -  O     \n",
      " 2- on             | O       -  O       -  O       -  O       -  O       -  O     \n",
      " 3- to             | O       -  O       -  O       -  O       -  O       -  O     \n",
      " 4- win            | O       -  O       -  O       -  O       -  O       -  O     \n",
      " 5- the            | O       -  O       -  O       -  O       -  O       -  O     \n",
      " 6- match          | O       -  O       -  O       -  O       -  O       -  O     \n",
      " 7- at             | O       -  O       -  O       -  O       -  O       -  O     \n",
      " 8- the            | O       -  O       -  O       -  O       -  O       -  O     \n",
      " 9- sydney         | B-LOC   -  B-LOC   -  B-LOC   -  B-LOC   -  B-LOC   -  B-LOC \n",
      "10- cricket        | I-LOC   -  I-LOC   -  O       -  O       -  O       -  O     \n",
      "11- ground         | I-LOC   -  O       -  O       -  O       -  O       -  O     \n",
      "12- by             | O       -  O       -  O       -  O       -  O       -  O     \n",
      "13- 124            | O       -  O       -  O       -  O       -  O       -  O     \n",
      "14- runs           | O       -  O       -  O       -  O       -  O       -  O     \n",
      "15- to             | O       -  O       -  O       -  O       -  O       -  O     \n",
      "16- take           | O       -  O       -  O       -  O       -  O       -  O     \n",
      "17- a              | O       -  O       -  O       -  O       -  O       -  O     \n",
      "18- two-nil        | O       -  O       -  O       -  O       -  O       -  O     \n",
      "19- lead           | O       -  O       -  O       -  O       -  O       -  O     \n",
      "20- in             | O       -  O       -  O       -  O       -  O       -  O     \n",
      "21- the            | O       -  O       -  O       -  O       -  O       -  O     \n",
      "22- five-test      | O       -  B-MISC  -  B-MISC  -  O       -  O       -  O     \n",
      "23- series         | O       -  I-MISC  -  O       -  O       -  O       -  O     \n",
      "24- after          | O       -  O       -  O       -  O       -  O       -  O     \n",
      "25- lara           | B-PER   -  B-PER   -  B-PER   -  B-PER   -  B-PER   -  B-PER \n",
      "26- failed         | O       -  O       -  O       -  O       -  O       -  O     \n",
      "27- in             | O       -  O       -  O       -  O       -  O       -  O     \n",
      "28- both           | O       -  O       -  O       -  O       -  O       -  O     \n",
      "29- innings        | O       -  O       -  O       -  O       -  O       -  O     \n",
      "30- .              | O       -  O       -  O       -  O       -  O       -  O     \n"
     ]
    }
   ],
   "source": [
    "seq_len=0\n",
    "print(\"{:2}  {:15}| {:6}  -  {:6}  -  {:6}  -  {:6}  -  {:6}  -  {:6}\".format(\n",
    "    \"\", \"Word\", \"True\", \"Pred1\", \"Pred2\", \"Pred3\", \"Pred4\", \"Pred5\"))\n",
    "for w, t, pred1, pred2, pred3, pred4, pred5 in zip(X_te[exp], test_true, pf[0][0], pf[1][0], pf[2][0], pf[3][0], pf[4][0]):\n",
    "    if w != 0:\n",
    "        seq_len += 1\n",
    "        print(\"{:2}- {:15}| {:6}  -  {:6}  -  {:6}  -  {:6}  -  {:6}  -  {:6}\".format(\n",
    "            seq_len - 1, words_set[w], tags_set[t],\n",
    "            tags_set[pred1], tags_set[pred2], tags_set[pred3], tags_set[pred4], tags_set[pred5]))"
   ]
  },
  {
   "cell_type": "code",
   "execution_count": 43,
   "id": "2818bfe9",
   "metadata": {},
   "outputs": [],
   "source": [
    "sorted_scr_list = []\n",
    "for model in models:\n",
    "    sorted_scr_list.append(oclusion (test_sent, tags_set, word_idx_target, tag_target, model))"
   ]
  },
  {
   "cell_type": "code",
   "execution_count": 44,
   "id": "781f2623",
   "metadata": {
    "scrolled": true
   },
   "outputs": [
    {
     "name": "stdout",
     "output_type": "stream",
     "text": [
      "Alvo\n",
      "Word: sydney         \n",
      "Tag : B-LOC\n",
      "\n",
      "  Ranked Relecance 1    |  Ranked Relecance 2    |  Ranked Relecance 3    |  Ranked Relecance 4    |  Ranked Relecance 5  \n",
      "1- sydney     (8.36E-01)|1- sydney     (9.20E-01)|1- sydney     (9.71E-01)|1- sydney     (9.95E-01)|1- sydney     (1.00E+00)\n",
      "2- cricket    (2.67E-01)|2- cricket    (4.08E-02)|2- the        (1.22E-01)|2- the        (2.63E-01)|2- the        (3.14E-02)\n",
      "3- the        (3.44E-02)|3- the        (9.10E-03)|3- cricket    (1.58E-02)|3- cricket    (4.77E-04)|3- cricket    (5.64E-05)\n",
      "4- australia  (1.12E-03)|4- australia  (1.20E-04)|4- australia  (2.74E-05)|4- australia  (1.51E-04)|4- five-test  (7.23E-07)\n",
      "5- at         (2.38E-04)|5- at         (4.00E-05)|5- at         (1.08E-05)|5- five-test  (7.59E-06)|5- australia  (1.19E-07)\n"
     ]
    }
   ],
   "source": [
    "print_top_rel = 5\n",
    "i=0\n",
    "print(\"Alvo\")\n",
    "print(\"{:4}: {:15}\".format('Word', words_set[X_te[exp][word_idx_target]]))\n",
    "print(\"{:4}: {:5}\".format('Tag', tag_target))\n",
    "print()\n",
    "print(\"  {:20}  |  {:20}  |  {:20}  |  {:20}  |  {:20}\".format(\"Ranked Relecance 1\", \"Ranked Relecance 2\",\n",
    "                                                        \"Ranked Relecance 3\", \"Ranked Relecance 4\", \"Ranked Relecance 5\"))\n",
    "for idx1, idx2, idx3, idx4, idx5 in zip(sorted_scr_list[0].indices, sorted_scr_list[1].indices,\n",
    "                                        sorted_scr_list[2].indices, sorted_scr_list[3].indices,\n",
    "                                        sorted_scr_list[4].indices):\n",
    "    print(\"{:1}- {:11}({:.2E})|{:1}- {:11}({:.2E})|{:1}- {:11}({:.2E})|{:1}- {:11}({:.2E})|{:1}- {:11}({:.2E})\".format(\n",
    "        i+1, words_set[X_te[exp][idx1]], sorted_scr_list[0].values[i],\n",
    "        i+1, words_set[X_te[exp][idx2]], sorted_scr_list[1].values[i],\n",
    "        i+1, words_set[X_te[exp][idx3]], sorted_scr_list[2].values[i],\n",
    "        i+1, words_set[X_te[exp][idx4]], sorted_scr_list[3].values[i],\n",
    "        i+1, words_set[X_te[exp][idx5]], sorted_scr_list[4].values[i]))\n",
    "    if i+1 == print_top_rel:\n",
    "        break\n",
    "    i += 1"
   ]
  },
  {
   "cell_type": "code",
   "execution_count": null,
   "id": "6b02f63f",
   "metadata": {},
   "outputs": [],
   "source": []
  },
  {
   "cell_type": "code",
   "execution_count": null,
   "id": "6d35654b",
   "metadata": {},
   "outputs": [],
   "source": []
  },
  {
   "cell_type": "markdown",
   "id": "47f8ec21",
   "metadata": {},
   "source": [
    "## Test Sent B-LOC 2"
   ]
  },
  {
   "cell_type": "code",
   "execution_count": 139,
   "id": "931bafb6",
   "metadata": {},
   "outputs": [
    {
     "name": "stdout",
     "output_type": "stream",
     "text": [
      "australia went on to win the match at the sydney cricket ground by 124 runs to take a two-nil lead in the five-test series after lara failed in both innings .\n"
     ]
    }
   ],
   "source": [
    "exp = 310\n",
    "test_sent = X_te[exp]\n",
    "sentence_str = []\n",
    "for w in test_sent:\n",
    "    if w == 0:\n",
    "        break\n",
    "    sentence_str.append(words_set[w])\n",
    "print(' '.join(sentence_str))\n",
    "\n",
    "end_sent = np.where(test_sent == 0)[0][0]\n",
    "test_true = np.argmax(y_te[exp], -1)"
   ]
  },
  {
   "cell_type": "code",
   "execution_count": 50,
   "id": "d17a1559",
   "metadata": {},
   "outputs": [
    {
     "name": "stdout",
     "output_type": "stream",
     "text": [
      "Alvo\n",
      "Word: australia      \n",
      "Tag : B-LOC\n"
     ]
    }
   ],
   "source": [
    "word_idx_target = 0\n",
    "tag_target = 'B-LOC'\n",
    "print(\"Alvo\")\n",
    "print(\"{:4}: {:15}\".format('Word', words_set[X_te[exp][word_idx_target]]))\n",
    "print(\"{:4}: {:5}\".format('Tag', tag_target))"
   ]
  },
  {
   "cell_type": "code",
   "execution_count": 51,
   "id": "589671ed",
   "metadata": {},
   "outputs": [],
   "source": [
    "pf = []\n",
    "for model in models:\n",
    "    p = model.predict(np.array([test_sent]))\n",
    "    pf.append(np.argmax(p, axis=-1))"
   ]
  },
  {
   "cell_type": "code",
   "execution_count": 52,
   "id": "21cb244d",
   "metadata": {},
   "outputs": [
    {
     "name": "stdout",
     "output_type": "stream",
     "text": [
      "    Word           | True    -  Pred1   -  Pred2   -  Pred3   -  Pred4   -  Pred5 \n",
      " 0- australia      | B-LOC   -  B-LOC   -  B-LOC   -  B-LOC   -  B-LOC   -  B-LOC \n",
      " 1- went           | O       -  O       -  O       -  O       -  O       -  O     \n",
      " 2- on             | O       -  O       -  O       -  O       -  O       -  O     \n",
      " 3- to             | O       -  O       -  O       -  O       -  O       -  O     \n",
      " 4- win            | O       -  O       -  O       -  O       -  O       -  O     \n",
      " 5- the            | O       -  O       -  O       -  O       -  O       -  O     \n",
      " 6- match          | O       -  O       -  O       -  O       -  O       -  O     \n",
      " 7- at             | O       -  O       -  O       -  O       -  O       -  O     \n",
      " 8- the            | O       -  O       -  O       -  O       -  O       -  O     \n",
      " 9- sydney         | B-LOC   -  B-LOC   -  B-LOC   -  B-LOC   -  B-LOC   -  B-LOC \n",
      "10- cricket        | I-LOC   -  I-LOC   -  O       -  O       -  O       -  O     \n",
      "11- ground         | I-LOC   -  O       -  O       -  O       -  O       -  O     \n",
      "12- by             | O       -  O       -  O       -  O       -  O       -  O     \n",
      "13- 124            | O       -  O       -  O       -  O       -  O       -  O     \n",
      "14- runs           | O       -  O       -  O       -  O       -  O       -  O     \n",
      "15- to             | O       -  O       -  O       -  O       -  O       -  O     \n",
      "16- take           | O       -  O       -  O       -  O       -  O       -  O     \n",
      "17- a              | O       -  O       -  O       -  O       -  O       -  O     \n",
      "18- two-nil        | O       -  O       -  O       -  O       -  O       -  O     \n",
      "19- lead           | O       -  O       -  O       -  O       -  O       -  O     \n",
      "20- in             | O       -  O       -  O       -  O       -  O       -  O     \n",
      "21- the            | O       -  O       -  O       -  O       -  O       -  O     \n",
      "22- five-test      | O       -  B-MISC  -  B-MISC  -  O       -  O       -  O     \n",
      "23- series         | O       -  I-MISC  -  O       -  O       -  O       -  O     \n",
      "24- after          | O       -  O       -  O       -  O       -  O       -  O     \n",
      "25- lara           | B-PER   -  B-PER   -  B-PER   -  B-PER   -  B-PER   -  B-PER \n",
      "26- failed         | O       -  O       -  O       -  O       -  O       -  O     \n",
      "27- in             | O       -  O       -  O       -  O       -  O       -  O     \n",
      "28- both           | O       -  O       -  O       -  O       -  O       -  O     \n",
      "29- innings        | O       -  O       -  O       -  O       -  O       -  O     \n",
      "30- .              | O       -  O       -  O       -  O       -  O       -  O     \n"
     ]
    }
   ],
   "source": [
    "seq_len=0\n",
    "print(\"{:2}  {:15}| {:6}  -  {:6}  -  {:6}  -  {:6}  -  {:6}  -  {:6}\".format(\n",
    "    \"\", \"Word\", \"True\", \"Pred1\", \"Pred2\", \"Pred3\", \"Pred4\", \"Pred5\"))\n",
    "for w, t, pred1, pred2, pred3, pred4, pred5 in zip(X_te[exp], test_true, pf[0][0], pf[1][0], pf[2][0], pf[3][0], pf[4][0]):\n",
    "    if w != 0:\n",
    "        seq_len += 1\n",
    "        print(\"{:2}- {:15}| {:6}  -  {:6}  -  {:6}  -  {:6}  -  {:6}  -  {:6}\".format(\n",
    "            seq_len - 1, words_set[w], tags_set[t],\n",
    "            tags_set[pred1], tags_set[pred2], tags_set[pred3], tags_set[pred4], tags_set[pred5]))"
   ]
  },
  {
   "cell_type": "code",
   "execution_count": 53,
   "id": "2d32a420",
   "metadata": {},
   "outputs": [],
   "source": [
    "sorted_scr_list = []\n",
    "for model in models:\n",
    "    sorted_scr_list.append(oclusion (test_sent, tags_set, word_idx_target, tag_target, model))"
   ]
  },
  {
   "cell_type": "code",
   "execution_count": 54,
   "id": "2556c4a5",
   "metadata": {
    "scrolled": true
   },
   "outputs": [
    {
     "name": "stdout",
     "output_type": "stream",
     "text": [
      "Alvo\n",
      "Word: australia      \n",
      "Tag : B-LOC\n",
      "\n",
      "  Ranked Relecance 1    |  Ranked Relecance 2    |  Ranked Relecance 3    |  Ranked Relecance 4    |  Ranked Relecance 5  \n",
      "1- australia  (9.37E-01)|1- australia  (9.85E-01)|1- australia  (9.95E-01)|1- australia  (9.99E-01)|1- australia  (1.00E+00)\n",
      "2- went       (2.06E-03)|2- the        (1.55E-03)|2- the        (1.45E-02)|2- the        (3.82E-02)|2- the        (9.79E-03)\n",
      "3- sydney     (7.65E-04)|3- sydney     (1.04E-03)|3- sydney     (2.45E-03)|3- sydney     (1.51E-03)|3- sydney     (3.16E-05)\n",
      "4- cricket    (2.85E-04)|4- went       (1.04E-04)|4- went       (5.69E-06)|4- cricket    (1.76E-06)|4- five-test  (2.10E-07)\n",
      "5- the        (2.55E-04)|5- on         (4.76E-06)|5- five-test  (3.26E-06)|5- five-test  (1.22E-06)|5- went       (1.69E-07)\n"
     ]
    }
   ],
   "source": [
    "print_top_rel = 5\n",
    "i=0\n",
    "print(\"Alvo\")\n",
    "print(\"{:4}: {:15}\".format('Word', words_set[X_te[exp][word_idx_target]]))\n",
    "print(\"{:4}: {:5}\".format('Tag', tag_target))\n",
    "print()\n",
    "print(\"  {:20}  |  {:20}  |  {:20}  |  {:20}  |  {:20}\".format(\"Ranked Relecance 1\", \"Ranked Relecance 2\",\n",
    "                                                        \"Ranked Relecance 3\", \"Ranked Relecance 4\", \"Ranked Relecance 5\"))\n",
    "for idx1, idx2, idx3, idx4, idx5 in zip(sorted_scr_list[0].indices, sorted_scr_list[1].indices,\n",
    "                                        sorted_scr_list[2].indices, sorted_scr_list[3].indices,\n",
    "                                        sorted_scr_list[4].indices):\n",
    "    print(\"{:1}- {:11}({:.2E})|{:1}- {:11}({:.2E})|{:1}- {:11}({:.2E})|{:1}- {:11}({:.2E})|{:1}- {:11}({:.2E})\".format(\n",
    "        i+1, words_set[X_te[exp][idx1]], sorted_scr_list[0].values[i],\n",
    "        i+1, words_set[X_te[exp][idx2]], sorted_scr_list[1].values[i],\n",
    "        i+1, words_set[X_te[exp][idx3]], sorted_scr_list[2].values[i],\n",
    "        i+1, words_set[X_te[exp][idx4]], sorted_scr_list[3].values[i],\n",
    "        i+1, words_set[X_te[exp][idx5]], sorted_scr_list[4].values[i]))\n",
    "    if i+1 == print_top_rel:\n",
    "        break\n",
    "    i += 1"
   ]
  },
  {
   "cell_type": "code",
   "execution_count": null,
   "id": "27ec409c",
   "metadata": {},
   "outputs": [],
   "source": []
  },
  {
   "cell_type": "markdown",
   "id": "4df33670",
   "metadata": {},
   "source": [
    "## Test Sent B-PER 4"
   ]
  },
  {
   "cell_type": "code",
   "execution_count": 64,
   "id": "6d01bcb6",
   "metadata": {},
   "outputs": [
    {
     "name": "stdout",
     "output_type": "stream",
     "text": [
      "west indies batsman brian lara suffered another blow to his australian tour , after already being disciplined for misconduct , when he was dismissed cheaply in the first limited overs match against australia on friday .\n"
     ]
    }
   ],
   "source": [
    "exp = 300\n",
    "test_sent = X_te[exp]\n",
    "sentence_str = []\n",
    "for w in test_sent:\n",
    "    if w == 0:\n",
    "        break\n",
    "    sentence_str.append(words_set[w])\n",
    "print(' '.join(sentence_str))\n",
    "\n",
    "end_sent = np.where(test_sent == 0)[0][0]\n",
    "test_true = np.argmax(y_te[exp], -1)"
   ]
  },
  {
   "cell_type": "code",
   "execution_count": 65,
   "id": "b32e41b9",
   "metadata": {},
   "outputs": [
    {
     "name": "stdout",
     "output_type": "stream",
     "text": [
      "Alvo\n",
      "Word: brian          \n",
      "Tag : B-PER\n"
     ]
    }
   ],
   "source": [
    "word_idx_target = 3\n",
    "tag_target = 'B-PER'\n",
    "print(\"Alvo\")\n",
    "print(\"{:4}: {:15}\".format('Word', words_set[X_te[exp][word_idx_target]]))\n",
    "print(\"{:4}: {:5}\".format('Tag', tag_target))"
   ]
  },
  {
   "cell_type": "code",
   "execution_count": 66,
   "id": "17dfb33a",
   "metadata": {},
   "outputs": [],
   "source": [
    "pf = []\n",
    "for model in models:\n",
    "    p = model.predict(np.array([test_sent]))\n",
    "    pf.append(np.argmax(p, axis=-1))"
   ]
  },
  {
   "cell_type": "code",
   "execution_count": 67,
   "id": "baeee753",
   "metadata": {},
   "outputs": [
    {
     "name": "stdout",
     "output_type": "stream",
     "text": [
      "    Word           | True    -  Pred1   -  Pred2   -  Pred3   -  Pred4   -  Pred5 \n",
      " 0- west           | B-LOC   -  B-LOC   -  B-LOC   -  B-LOC   -  B-LOC   -  B-LOC \n",
      " 1- indies         | I-LOC   -  I-LOC   -  I-LOC   -  I-LOC   -  I-LOC   -  I-LOC \n",
      " 2- batsman        | O       -  O       -  O       -  O       -  O       -  O     \n",
      " 3- brian          | B-PER   -  B-PER   -  B-PER   -  B-PER   -  B-PER   -  B-PER \n",
      " 4- lara           | I-PER   -  I-PER   -  I-PER   -  I-PER   -  I-PER   -  I-PER \n",
      " 5- suffered       | O       -  O       -  O       -  O       -  O       -  O     \n",
      " 6- another        | O       -  O       -  O       -  O       -  O       -  O     \n",
      " 7- blow           | O       -  O       -  O       -  O       -  O       -  O     \n",
      " 8- to             | O       -  O       -  O       -  O       -  O       -  O     \n",
      " 9- his            | O       -  O       -  O       -  O       -  O       -  O     \n",
      "10- australian     | B-MISC  -  B-MISC  -  B-MISC  -  B-MISC  -  B-MISC  -  B-MISC\n",
      "11- tour           | O       -  O       -  O       -  O       -  O       -  O     \n",
      "12- ,              | O       -  O       -  O       -  O       -  O       -  O     \n",
      "13- after          | O       -  O       -  O       -  O       -  O       -  O     \n",
      "14- already        | O       -  O       -  O       -  O       -  O       -  O     \n",
      "15- being          | O       -  O       -  O       -  O       -  O       -  O     \n",
      "16- disciplined    | O       -  O       -  O       -  O       -  O       -  O     \n",
      "17- for            | O       -  O       -  O       -  O       -  O       -  O     \n",
      "18- misconduct     | O       -  O       -  O       -  O       -  O       -  O     \n",
      "19- ,              | O       -  O       -  O       -  O       -  O       -  O     \n",
      "20- when           | O       -  O       -  O       -  O       -  O       -  O     \n",
      "21- he             | O       -  O       -  O       -  O       -  O       -  O     \n",
      "22- was            | O       -  O       -  O       -  O       -  O       -  O     \n",
      "23- dismissed      | O       -  O       -  O       -  O       -  O       -  O     \n",
      "24- cheaply        | O       -  O       -  O       -  O       -  O       -  O     \n",
      "25- in             | O       -  O       -  O       -  O       -  O       -  O     \n",
      "26- the            | O       -  O       -  O       -  O       -  O       -  O     \n",
      "27- first          | O       -  O       -  O       -  O       -  O       -  O     \n",
      "28- limited        | O       -  O       -  O       -  O       -  O       -  O     \n",
      "29- overs          | O       -  O       -  O       -  O       -  O       -  O     \n",
      "30- match          | O       -  O       -  O       -  O       -  O       -  O     \n",
      "31- against        | O       -  O       -  O       -  O       -  O       -  O     \n",
      "32- australia      | B-LOC   -  B-LOC   -  B-LOC   -  B-LOC   -  B-LOC   -  B-LOC \n",
      "33- on             | O       -  O       -  O       -  O       -  O       -  O     \n",
      "34- friday         | O       -  O       -  O       -  O       -  O       -  O     \n",
      "35- .              | O       -  O       -  O       -  O       -  O       -  O     \n"
     ]
    }
   ],
   "source": [
    "seq_len=0\n",
    "print(\"{:2}  {:15}| {:6}  -  {:6}  -  {:6}  -  {:6}  -  {:6}  -  {:6}\".format(\n",
    "    \"\", \"Word\", \"True\", \"Pred1\", \"Pred2\", \"Pred3\", \"Pred4\", \"Pred5\"))\n",
    "for w, t, pred1, pred2, pred3, pred4, pred5 in zip(X_te[exp], test_true, pf[0][0], pf[1][0], pf[2][0], pf[3][0], pf[4][0]):\n",
    "    if w != 0:\n",
    "        seq_len += 1\n",
    "        print(\"{:2}- {:15}| {:6}  -  {:6}  -  {:6}  -  {:6}  -  {:6}  -  {:6}\".format(\n",
    "            seq_len - 1, words_set[w], tags_set[t],\n",
    "            tags_set[pred1], tags_set[pred2], tags_set[pred3], tags_set[pred4], tags_set[pred5]))"
   ]
  },
  {
   "cell_type": "code",
   "execution_count": 68,
   "id": "078abd59",
   "metadata": {},
   "outputs": [],
   "source": [
    "sorted_scr_list = []\n",
    "for model in models:\n",
    "    sorted_scr_list.append(oclusion (test_sent, tags_set, word_idx_target, tag_target, model))"
   ]
  },
  {
   "cell_type": "code",
   "execution_count": 69,
   "id": "2db90e1e",
   "metadata": {
    "scrolled": true
   },
   "outputs": [
    {
     "name": "stdout",
     "output_type": "stream",
     "text": [
      "Alvo\n",
      "Word: brian          \n",
      "Tag : B-PER\n",
      "\n",
      "  Ranked Relecance 1    |  Ranked Relecance 2    |  Ranked Relecance 3    |  Ranked Relecance 4    |  Ranked Relecance 5  \n",
      "1- brian      (9.94E-01)|1- brian      (1.00E+00)|1- brian      (1.00E+00)|1- brian      (1.00E+00)|1- brian      (1.00E+00)\n",
      "2- batsman    (7.16E-01)|2- lara       (8.36E-01)|2- lara       (9.44E-01)|2- lara       (9.97E-01)|2- lara       (9.91E-01)\n",
      "3- lara       (2.88E-01)|3- batsman    (1.88E-01)|3- batsman    (4.21E-02)|3- batsman    (6.29E-04)|3- batsman    (1.72E-04)\n",
      "4- indies     (1.76E-03)|4- indies     (1.14E-04)|4- west       (4.98E-04)|4- west       (3.19E-04)|4- west       (2.65E-05)\n",
      "5- west       (2.88E-04)|5- west       (5.11E-05)|5- misconduct (3.20E-06)|5- blow       (1.05E-06)|5- australia  (1.38E-08)\n"
     ]
    }
   ],
   "source": [
    "print_top_rel = 5\n",
    "i=0\n",
    "print(\"Alvo\")\n",
    "print(\"{:4}: {:15}\".format('Word', words_set[X_te[exp][word_idx_target]]))\n",
    "print(\"{:4}: {:5}\".format('Tag', tag_target))\n",
    "print()\n",
    "print(\"  {:20}  |  {:20}  |  {:20}  |  {:20}  |  {:20}\".format(\"Ranked Relecance 1\", \"Ranked Relecance 2\",\n",
    "                                                        \"Ranked Relecance 3\", \"Ranked Relecance 4\", \"Ranked Relecance 5\"))\n",
    "for idx1, idx2, idx3, idx4, idx5 in zip(sorted_scr_list[0].indices, sorted_scr_list[1].indices,\n",
    "                                        sorted_scr_list[2].indices, sorted_scr_list[3].indices,\n",
    "                                        sorted_scr_list[4].indices):\n",
    "    print(\"{:1}- {:11}({:.2E})|{:1}- {:11}({:.2E})|{:1}- {:11}({:.2E})|{:1}- {:11}({:.2E})|{:1}- {:11}({:.2E})\".format(\n",
    "        i+1, words_set[X_te[exp][idx1]], sorted_scr_list[0].values[i],\n",
    "        i+1, words_set[X_te[exp][idx2]], sorted_scr_list[1].values[i],\n",
    "        i+1, words_set[X_te[exp][idx3]], sorted_scr_list[2].values[i],\n",
    "        i+1, words_set[X_te[exp][idx4]], sorted_scr_list[3].values[i],\n",
    "        i+1, words_set[X_te[exp][idx5]], sorted_scr_list[4].values[i]))\n",
    "    if i+1 == print_top_rel:\n",
    "        break\n",
    "    i += 1"
   ]
  },
  {
   "cell_type": "markdown",
   "id": "e6c68455",
   "metadata": {},
   "source": [
    "## Test Sent B-LOC 3"
   ]
  },
  {
   "cell_type": "code",
   "execution_count": 70,
   "id": "a30e0972",
   "metadata": {},
   "outputs": [
    {
     "name": "stdout",
     "output_type": "stream",
     "text": [
      "west indies batsman brian lara suffered another blow to his australian tour , after already being disciplined for misconduct , when he was dismissed cheaply in the first limited overs match against australia on friday .\n"
     ]
    }
   ],
   "source": [
    "exp = 300\n",
    "test_sent = X_te[exp]\n",
    "sentence_str = []\n",
    "for w in test_sent:\n",
    "    if w == 0:\n",
    "        break\n",
    "    sentence_str.append(words_set[w])\n",
    "print(' '.join(sentence_str))\n",
    "\n",
    "end_sent = np.where(test_sent == 0)[0][0]\n",
    "test_true = np.argmax(y_te[exp], -1)"
   ]
  },
  {
   "cell_type": "code",
   "execution_count": 74,
   "id": "c7ea72cc",
   "metadata": {},
   "outputs": [
    {
     "name": "stdout",
     "output_type": "stream",
     "text": [
      "Alvo\n",
      "Word: west           \n",
      "Tag : B-LOC\n"
     ]
    }
   ],
   "source": [
    "word_idx_target = 0\n",
    "tag_target = 'B-LOC'\n",
    "print(\"Alvo\")\n",
    "print(\"{:4}: {:15}\".format('Word', words_set[X_te[exp][word_idx_target]]))\n",
    "print(\"{:4}: {:5}\".format('Tag', tag_target))"
   ]
  },
  {
   "cell_type": "code",
   "execution_count": 75,
   "id": "6ef3597e",
   "metadata": {},
   "outputs": [],
   "source": [
    "pf = []\n",
    "for model in models:\n",
    "    p = model.predict(np.array([test_sent]))\n",
    "    pf.append(np.argmax(p, axis=-1))"
   ]
  },
  {
   "cell_type": "code",
   "execution_count": 76,
   "id": "fa56585b",
   "metadata": {},
   "outputs": [
    {
     "name": "stdout",
     "output_type": "stream",
     "text": [
      "    Word           | True    -  Pred1   -  Pred2   -  Pred3   -  Pred4   -  Pred5 \n",
      " 0- west           | B-LOC   -  B-LOC   -  B-LOC   -  B-LOC   -  B-LOC   -  B-LOC \n",
      " 1- indies         | I-LOC   -  I-LOC   -  I-LOC   -  I-LOC   -  I-LOC   -  I-LOC \n",
      " 2- batsman        | O       -  O       -  O       -  O       -  O       -  O     \n",
      " 3- brian          | B-PER   -  B-PER   -  B-PER   -  B-PER   -  B-PER   -  B-PER \n",
      " 4- lara           | I-PER   -  I-PER   -  I-PER   -  I-PER   -  I-PER   -  I-PER \n",
      " 5- suffered       | O       -  O       -  O       -  O       -  O       -  O     \n",
      " 6- another        | O       -  O       -  O       -  O       -  O       -  O     \n",
      " 7- blow           | O       -  O       -  O       -  O       -  O       -  O     \n",
      " 8- to             | O       -  O       -  O       -  O       -  O       -  O     \n",
      " 9- his            | O       -  O       -  O       -  O       -  O       -  O     \n",
      "10- australian     | B-MISC  -  B-MISC  -  B-MISC  -  B-MISC  -  B-MISC  -  B-MISC\n",
      "11- tour           | O       -  O       -  O       -  O       -  O       -  O     \n",
      "12- ,              | O       -  O       -  O       -  O       -  O       -  O     \n",
      "13- after          | O       -  O       -  O       -  O       -  O       -  O     \n",
      "14- already        | O       -  O       -  O       -  O       -  O       -  O     \n",
      "15- being          | O       -  O       -  O       -  O       -  O       -  O     \n",
      "16- disciplined    | O       -  O       -  O       -  O       -  O       -  O     \n",
      "17- for            | O       -  O       -  O       -  O       -  O       -  O     \n",
      "18- misconduct     | O       -  O       -  O       -  O       -  O       -  O     \n",
      "19- ,              | O       -  O       -  O       -  O       -  O       -  O     \n",
      "20- when           | O       -  O       -  O       -  O       -  O       -  O     \n",
      "21- he             | O       -  O       -  O       -  O       -  O       -  O     \n",
      "22- was            | O       -  O       -  O       -  O       -  O       -  O     \n",
      "23- dismissed      | O       -  O       -  O       -  O       -  O       -  O     \n",
      "24- cheaply        | O       -  O       -  O       -  O       -  O       -  O     \n",
      "25- in             | O       -  O       -  O       -  O       -  O       -  O     \n",
      "26- the            | O       -  O       -  O       -  O       -  O       -  O     \n",
      "27- first          | O       -  O       -  O       -  O       -  O       -  O     \n",
      "28- limited        | O       -  O       -  O       -  O       -  O       -  O     \n",
      "29- overs          | O       -  O       -  O       -  O       -  O       -  O     \n",
      "30- match          | O       -  O       -  O       -  O       -  O       -  O     \n",
      "31- against        | O       -  O       -  O       -  O       -  O       -  O     \n",
      "32- australia      | B-LOC   -  B-LOC   -  B-LOC   -  B-LOC   -  B-LOC   -  B-LOC \n",
      "33- on             | O       -  O       -  O       -  O       -  O       -  O     \n",
      "34- friday         | O       -  O       -  O       -  O       -  O       -  O     \n",
      "35- .              | O       -  O       -  O       -  O       -  O       -  O     \n"
     ]
    }
   ],
   "source": [
    "seq_len=0\n",
    "print(\"{:2}  {:15}| {:6}  -  {:6}  -  {:6}  -  {:6}  -  {:6}  -  {:6}\".format(\n",
    "    \"\", \"Word\", \"True\", \"Pred1\", \"Pred2\", \"Pred3\", \"Pred4\", \"Pred5\"))\n",
    "for w, t, pred1, pred2, pred3, pred4, pred5 in zip(X_te[exp], test_true, pf[0][0], pf[1][0], pf[2][0], pf[3][0], pf[4][0]):\n",
    "    if w != 0:\n",
    "        seq_len += 1\n",
    "        print(\"{:2}- {:15}| {:6}  -  {:6}  -  {:6}  -  {:6}  -  {:6}  -  {:6}\".format(\n",
    "            seq_len - 1, words_set[w], tags_set[t],\n",
    "            tags_set[pred1], tags_set[pred2], tags_set[pred3], tags_set[pred4], tags_set[pred5]))"
   ]
  },
  {
   "cell_type": "code",
   "execution_count": 77,
   "id": "62d6eebd",
   "metadata": {},
   "outputs": [],
   "source": [
    "sorted_scr_list = []\n",
    "for model in models:\n",
    "    sorted_scr_list.append(oclusion (test_sent, tags_set, word_idx_target, tag_target, model))"
   ]
  },
  {
   "cell_type": "code",
   "execution_count": 78,
   "id": "14e818db",
   "metadata": {
    "scrolled": true
   },
   "outputs": [
    {
     "name": "stdout",
     "output_type": "stream",
     "text": [
      "Alvo\n",
      "Word: west           \n",
      "Tag : B-LOC\n",
      "\n",
      "  Ranked Relecance 1    |  Ranked Relecance 2    |  Ranked Relecance 3    |  Ranked Relecance 4    |  Ranked Relecance 5  \n",
      "1- west       (8.57E-01)|1- west       (9.24E-01)|1- indies     (8.62E-01)|1- west       (9.49E-01)|1- west       (9.84E-01)\n",
      "2- indies     (4.58E-01)|2- indies     (7.30E-01)|2- west       (8.18E-01)|2- indies     (9.12E-01)|2- indies     (6.49E-01)\n",
      "3- tour       (2.70E-05)|3- australian (9.75E-05)|3- australian (3.90E-05)|3- australia  (4.79E-05)|3- australia  (1.03E-04)\n",
      "4- blow       (2.03E-05)|4- australia  (3.46E-06)|4- australia  (3.87E-06)|4- australian (1.67E-05)|4- australian (3.83E-06)\n",
      "5- australian (1.66E-05)|5- blow       (1.35E-06)|5- against    (8.55E-07)|5- against    (1.07E-07)|5- against    (1.02E-08)\n"
     ]
    }
   ],
   "source": [
    "print_top_rel = 5\n",
    "i=0\n",
    "print(\"Alvo\")\n",
    "print(\"{:4}: {:15}\".format('Word', words_set[X_te[exp][word_idx_target]]))\n",
    "print(\"{:4}: {:5}\".format('Tag', tag_target))\n",
    "print()\n",
    "print(\"  {:20}  |  {:20}  |  {:20}  |  {:20}  |  {:20}\".format(\"Ranked Relecance 1\", \"Ranked Relecance 2\",\n",
    "                                                        \"Ranked Relecance 3\", \"Ranked Relecance 4\", \"Ranked Relecance 5\"))\n",
    "for idx1, idx2, idx3, idx4, idx5 in zip(sorted_scr_list[0].indices, sorted_scr_list[1].indices,\n",
    "                                        sorted_scr_list[2].indices, sorted_scr_list[3].indices,\n",
    "                                        sorted_scr_list[4].indices):\n",
    "    print(\"{:1}- {:11}({:.2E})|{:1}- {:11}({:.2E})|{:1}- {:11}({:.2E})|{:1}- {:11}({:.2E})|{:1}- {:11}({:.2E})\".format(\n",
    "        i+1, words_set[X_te[exp][idx1]], sorted_scr_list[0].values[i],\n",
    "        i+1, words_set[X_te[exp][idx2]], sorted_scr_list[1].values[i],\n",
    "        i+1, words_set[X_te[exp][idx3]], sorted_scr_list[2].values[i],\n",
    "        i+1, words_set[X_te[exp][idx4]], sorted_scr_list[3].values[i],\n",
    "        i+1, words_set[X_te[exp][idx5]], sorted_scr_list[4].values[i]))\n",
    "    if i+1 == print_top_rel:\n",
    "        break\n",
    "    i += 1"
   ]
  },
  {
   "cell_type": "code",
   "execution_count": null,
   "id": "56649dd6",
   "metadata": {},
   "outputs": [],
   "source": []
  },
  {
   "cell_type": "markdown",
   "id": "6e1d024d",
   "metadata": {},
   "source": [
    "## Test Sent B-LOC 4"
   ]
  },
  {
   "cell_type": "code",
   "execution_count": 79,
   "id": "6ed67c00",
   "metadata": {},
   "outputs": [
    {
     "name": "stdout",
     "output_type": "stream",
     "text": [
      "west indies batsman brian lara suffered another blow to his australian tour , after already being disciplined for misconduct , when he was dismissed cheaply in the first limited overs match against australia on friday .\n"
     ]
    }
   ],
   "source": [
    "exp = 300\n",
    "test_sent = X_te[exp]\n",
    "sentence_str = []\n",
    "for w in test_sent:\n",
    "    if w == 0:\n",
    "        break\n",
    "    sentence_str.append(words_set[w])\n",
    "print(' '.join(sentence_str))\n",
    "\n",
    "end_sent = np.where(test_sent == 0)[0][0]\n",
    "test_true = np.argmax(y_te[exp], -1)"
   ]
  },
  {
   "cell_type": "code",
   "execution_count": 81,
   "id": "8ff46ddc",
   "metadata": {},
   "outputs": [
    {
     "name": "stdout",
     "output_type": "stream",
     "text": [
      "Alvo\n",
      "Word: australia      \n",
      "Tag : B-LOC\n"
     ]
    }
   ],
   "source": [
    "word_idx_target = 32\n",
    "tag_target = 'B-LOC'\n",
    "print(\"Alvo\")\n",
    "print(\"{:4}: {:15}\".format('Word', words_set[X_te[exp][word_idx_target]]))\n",
    "print(\"{:4}: {:5}\".format('Tag', tag_target))"
   ]
  },
  {
   "cell_type": "code",
   "execution_count": 82,
   "id": "836a396d",
   "metadata": {},
   "outputs": [],
   "source": [
    "pf = []\n",
    "for model in models:\n",
    "    p = model.predict(np.array([test_sent]))\n",
    "    pf.append(np.argmax(p, axis=-1))"
   ]
  },
  {
   "cell_type": "code",
   "execution_count": 83,
   "id": "8a78a6b2",
   "metadata": {},
   "outputs": [
    {
     "name": "stdout",
     "output_type": "stream",
     "text": [
      "    Word           | True    -  Pred1   -  Pred2   -  Pred3   -  Pred4   -  Pred5 \n",
      " 0- west           | B-LOC   -  B-LOC   -  B-LOC   -  B-LOC   -  B-LOC   -  B-LOC \n",
      " 1- indies         | I-LOC   -  I-LOC   -  I-LOC   -  I-LOC   -  I-LOC   -  I-LOC \n",
      " 2- batsman        | O       -  O       -  O       -  O       -  O       -  O     \n",
      " 3- brian          | B-PER   -  B-PER   -  B-PER   -  B-PER   -  B-PER   -  B-PER \n",
      " 4- lara           | I-PER   -  I-PER   -  I-PER   -  I-PER   -  I-PER   -  I-PER \n",
      " 5- suffered       | O       -  O       -  O       -  O       -  O       -  O     \n",
      " 6- another        | O       -  O       -  O       -  O       -  O       -  O     \n",
      " 7- blow           | O       -  O       -  O       -  O       -  O       -  O     \n",
      " 8- to             | O       -  O       -  O       -  O       -  O       -  O     \n",
      " 9- his            | O       -  O       -  O       -  O       -  O       -  O     \n",
      "10- australian     | B-MISC  -  B-MISC  -  B-MISC  -  B-MISC  -  B-MISC  -  B-MISC\n",
      "11- tour           | O       -  O       -  O       -  O       -  O       -  O     \n",
      "12- ,              | O       -  O       -  O       -  O       -  O       -  O     \n",
      "13- after          | O       -  O       -  O       -  O       -  O       -  O     \n",
      "14- already        | O       -  O       -  O       -  O       -  O       -  O     \n",
      "15- being          | O       -  O       -  O       -  O       -  O       -  O     \n",
      "16- disciplined    | O       -  O       -  O       -  O       -  O       -  O     \n",
      "17- for            | O       -  O       -  O       -  O       -  O       -  O     \n",
      "18- misconduct     | O       -  O       -  O       -  O       -  O       -  O     \n",
      "19- ,              | O       -  O       -  O       -  O       -  O       -  O     \n",
      "20- when           | O       -  O       -  O       -  O       -  O       -  O     \n",
      "21- he             | O       -  O       -  O       -  O       -  O       -  O     \n",
      "22- was            | O       -  O       -  O       -  O       -  O       -  O     \n",
      "23- dismissed      | O       -  O       -  O       -  O       -  O       -  O     \n",
      "24- cheaply        | O       -  O       -  O       -  O       -  O       -  O     \n",
      "25- in             | O       -  O       -  O       -  O       -  O       -  O     \n",
      "26- the            | O       -  O       -  O       -  O       -  O       -  O     \n",
      "27- first          | O       -  O       -  O       -  O       -  O       -  O     \n",
      "28- limited        | O       -  O       -  O       -  O       -  O       -  O     \n",
      "29- overs          | O       -  O       -  O       -  O       -  O       -  O     \n",
      "30- match          | O       -  O       -  O       -  O       -  O       -  O     \n",
      "31- against        | O       -  O       -  O       -  O       -  O       -  O     \n",
      "32- australia      | B-LOC   -  B-LOC   -  B-LOC   -  B-LOC   -  B-LOC   -  B-LOC \n",
      "33- on             | O       -  O       -  O       -  O       -  O       -  O     \n",
      "34- friday         | O       -  O       -  O       -  O       -  O       -  O     \n",
      "35- .              | O       -  O       -  O       -  O       -  O       -  O     \n"
     ]
    }
   ],
   "source": [
    "seq_len=0\n",
    "print(\"{:2}  {:15}| {:6}  -  {:6}  -  {:6}  -  {:6}  -  {:6}  -  {:6}\".format(\n",
    "    \"\", \"Word\", \"True\", \"Pred1\", \"Pred2\", \"Pred3\", \"Pred4\", \"Pred5\"))\n",
    "for w, t, pred1, pred2, pred3, pred4, pred5 in zip(X_te[exp], test_true, pf[0][0], pf[1][0], pf[2][0], pf[3][0], pf[4][0]):\n",
    "    if w != 0:\n",
    "        seq_len += 1\n",
    "        print(\"{:2}- {:15}| {:6}  -  {:6}  -  {:6}  -  {:6}  -  {:6}  -  {:6}\".format(\n",
    "            seq_len - 1, words_set[w], tags_set[t],\n",
    "            tags_set[pred1], tags_set[pred2], tags_set[pred3], tags_set[pred4], tags_set[pred5]))"
   ]
  },
  {
   "cell_type": "code",
   "execution_count": 84,
   "id": "c4c06ce2",
   "metadata": {},
   "outputs": [],
   "source": [
    "sorted_scr_list = []\n",
    "for model in models:\n",
    "    sorted_scr_list.append(oclusion (test_sent, tags_set, word_idx_target, tag_target, model))"
   ]
  },
  {
   "cell_type": "code",
   "execution_count": 85,
   "id": "fe734507",
   "metadata": {
    "scrolled": true
   },
   "outputs": [
    {
     "name": "stdout",
     "output_type": "stream",
     "text": [
      "Alvo\n",
      "Word: australia      \n",
      "Tag : B-LOC\n",
      "\n",
      "  Ranked Relecance 1    |  Ranked Relecance 2    |  Ranked Relecance 3    |  Ranked Relecance 4    |  Ranked Relecance 5  \n",
      "1- australia  (8.97E-01)|1- australia  (9.83E-01)|1- australia  (9.93E-01)|1- australia  (9.97E-01)|1- australia  (9.99E-01)\n",
      "2- against    (2.16E-02)|2- against    (3.34E-03)|2- against    (1.91E-03)|2- west       (9.33E-05)|2- west       (3.42E-05)\n",
      "3- friday     (1.03E-03)|3- west       (3.01E-04)|3- australian (3.93E-05)|3- against    (8.58E-06)|3- against    (4.40E-07)\n",
      "4- on         (6.38E-04)|4- friday     (1.45E-04)|4- west       (3.52E-05)|4- australian (4.84E-06)|4- australian (6.04E-08)\n",
      "5- first      (8.39E-05)|5- indies     (1.01E-04)|5- friday     (4.08E-06)|5- friday     (2.45E-07)|5- friday     (2.60E-08)\n"
     ]
    }
   ],
   "source": [
    "print_top_rel = 5\n",
    "i=0\n",
    "print(\"Alvo\")\n",
    "print(\"{:4}: {:15}\".format('Word', words_set[X_te[exp][word_idx_target]]))\n",
    "print(\"{:4}: {:5}\".format('Tag', tag_target))\n",
    "print()\n",
    "print(\"  {:20}  |  {:20}  |  {:20}  |  {:20}  |  {:20}\".format(\"Ranked Relecance 1\", \"Ranked Relecance 2\",\n",
    "                                                        \"Ranked Relecance 3\", \"Ranked Relecance 4\", \"Ranked Relecance 5\"))\n",
    "for idx1, idx2, idx3, idx4, idx5 in zip(sorted_scr_list[0].indices, sorted_scr_list[1].indices,\n",
    "                                        sorted_scr_list[2].indices, sorted_scr_list[3].indices,\n",
    "                                        sorted_scr_list[4].indices):\n",
    "    print(\"{:1}- {:11}({:.2E})|{:1}- {:11}({:.2E})|{:1}- {:11}({:.2E})|{:1}- {:11}({:.2E})|{:1}- {:11}({:.2E})\".format(\n",
    "        i+1, words_set[X_te[exp][idx1]], sorted_scr_list[0].values[i],\n",
    "        i+1, words_set[X_te[exp][idx2]], sorted_scr_list[1].values[i],\n",
    "        i+1, words_set[X_te[exp][idx3]], sorted_scr_list[2].values[i],\n",
    "        i+1, words_set[X_te[exp][idx4]], sorted_scr_list[3].values[i],\n",
    "        i+1, words_set[X_te[exp][idx5]], sorted_scr_list[4].values[i]))\n",
    "    if i+1 == print_top_rel:\n",
    "        break\n",
    "    i += 1"
   ]
  },
  {
   "cell_type": "code",
   "execution_count": null,
   "id": "09cb2c79",
   "metadata": {},
   "outputs": [],
   "source": []
  },
  {
   "cell_type": "markdown",
   "id": "97b3667c",
   "metadata": {},
   "source": [
    "## Test Sent B-LOC 5"
   ]
  },
  {
   "cell_type": "code",
   "execution_count": 130,
   "id": "97ad6bed",
   "metadata": {},
   "outputs": [
    {
     "name": "stdout",
     "output_type": "stream",
     "text": [
      "china controlled most of the match and saw several chances missed until the 78th minute when uzbek striker igor shkvyrin took advantage of a misdirected defensive header to lob the ball over the advancing chinese keeper and into an empty net .\n"
     ]
    }
   ],
   "source": [
    "exp = 5\n",
    "test_sent = X_te[exp]\n",
    "sentence_str = []\n",
    "for w in test_sent:\n",
    "    if w == 0:\n",
    "        break\n",
    "    sentence_str.append(words_set[w])\n",
    "print(' '.join(sentence_str))\n",
    "\n",
    "end_sent = np.where(test_sent == 0)[0][0]\n",
    "test_true = np.argmax(y_te[exp], -1)"
   ]
  },
  {
   "cell_type": "code",
   "execution_count": 131,
   "id": "169e2119",
   "metadata": {},
   "outputs": [
    {
     "name": "stdout",
     "output_type": "stream",
     "text": [
      "Alvo\n",
      "Word: china          \n",
      "Tag : B-LOC\n"
     ]
    }
   ],
   "source": [
    "word_idx_target = 0\n",
    "tag_target = 'B-LOC'\n",
    "print(\"Alvo\")\n",
    "print(\"{:4}: {:15}\".format('Word', words_set[X_te[exp][word_idx_target]]))\n",
    "print(\"{:4}: {:5}\".format('Tag', tag_target))"
   ]
  },
  {
   "cell_type": "code",
   "execution_count": 132,
   "id": "cee7bfe7",
   "metadata": {},
   "outputs": [],
   "source": [
    "pf = []\n",
    "for model in models:\n",
    "    p = model.predict(np.array([test_sent]))\n",
    "    pf.append(np.argmax(p, axis=-1))"
   ]
  },
  {
   "cell_type": "code",
   "execution_count": 133,
   "id": "755998bb",
   "metadata": {},
   "outputs": [
    {
     "name": "stdout",
     "output_type": "stream",
     "text": [
      "    Word           | True    -  Pred1   -  Pred2   -  Pred3   -  Pred4   -  Pred5 \n",
      " 0- china          | B-LOC   -  B-LOC   -  B-LOC   -  B-LOC   -  B-LOC   -  B-LOC \n",
      " 1- controlled     | O       -  O       -  O       -  O       -  O       -  O     \n",
      " 2- most           | O       -  O       -  O       -  O       -  O       -  O     \n",
      " 3- of             | O       -  O       -  O       -  O       -  O       -  O     \n",
      " 4- the            | O       -  O       -  O       -  O       -  O       -  O     \n",
      " 5- match          | O       -  O       -  O       -  O       -  O       -  O     \n",
      " 6- and            | O       -  O       -  O       -  O       -  O       -  O     \n",
      " 7- saw            | O       -  O       -  O       -  O       -  O       -  O     \n",
      " 8- several        | O       -  O       -  O       -  O       -  O       -  O     \n",
      " 9- chances        | O       -  O       -  O       -  O       -  O       -  O     \n",
      "10- missed         | O       -  O       -  O       -  O       -  O       -  O     \n",
      "11- until          | O       -  O       -  O       -  O       -  O       -  O     \n",
      "12- the            | O       -  O       -  O       -  O       -  O       -  O     \n",
      "13- 78th           | O       -  O       -  O       -  O       -  O       -  O     \n",
      "14- minute         | O       -  O       -  O       -  O       -  O       -  O     \n",
      "15- when           | O       -  O       -  O       -  O       -  O       -  O     \n",
      "16- uzbek          | B-MISC  -  B-MISC  -  B-MISC  -  B-MISC  -  B-MISC  -  B-MISC\n",
      "17- striker        | O       -  O       -  O       -  O       -  O       -  O     \n",
      "18- igor           | B-PER   -  B-PER   -  B-PER   -  B-PER   -  B-PER   -  B-PER \n",
      "19- shkvyrin       | I-PER   -  I-PER   -  I-PER   -  I-PER   -  I-PER   -  I-PER \n",
      "20- took           | O       -  O       -  O       -  O       -  O       -  O     \n",
      "21- advantage      | O       -  O       -  O       -  O       -  O       -  O     \n",
      "22- of             | O       -  O       -  O       -  O       -  O       -  O     \n",
      "23- a              | O       -  O       -  O       -  O       -  O       -  O     \n",
      "24- misdirected    | O       -  O       -  O       -  O       -  O       -  O     \n",
      "25- defensive      | O       -  O       -  O       -  O       -  O       -  O     \n",
      "26- header         | O       -  O       -  O       -  O       -  O       -  O     \n",
      "27- to             | O       -  O       -  O       -  O       -  O       -  O     \n",
      "28- lob            | O       -  O       -  O       -  O       -  O       -  O     \n",
      "29- the            | O       -  O       -  O       -  O       -  O       -  O     \n",
      "30- ball           | O       -  O       -  O       -  O       -  O       -  O     \n",
      "31- over           | O       -  O       -  O       -  O       -  O       -  O     \n",
      "32- the            | O       -  O       -  O       -  O       -  O       -  O     \n",
      "33- advancing      | O       -  O       -  O       -  O       -  O       -  O     \n",
      "34- chinese        | B-MISC  -  B-MISC  -  B-MISC  -  B-MISC  -  B-MISC  -  B-MISC\n",
      "35- keeper         | O       -  O       -  O       -  O       -  O       -  O     \n",
      "36- and            | O       -  O       -  O       -  O       -  O       -  O     \n",
      "37- into           | O       -  O       -  O       -  O       -  O       -  O     \n",
      "38- an             | O       -  O       -  O       -  O       -  O       -  O     \n",
      "39- empty          | O       -  O       -  O       -  O       -  O       -  O     \n",
      "40- net            | O       -  O       -  O       -  O       -  O       -  O     \n",
      "41- .              | O       -  O       -  O       -  O       -  O       -  O     \n"
     ]
    }
   ],
   "source": [
    "seq_len=0\n",
    "print(\"{:2}  {:15}| {:6}  -  {:6}  -  {:6}  -  {:6}  -  {:6}  -  {:6}\".format(\n",
    "    \"\", \"Word\", \"True\", \"Pred1\", \"Pred2\", \"Pred3\", \"Pred4\", \"Pred5\"))\n",
    "for w, t, pred1, pred2, pred3, pred4, pred5 in zip(X_te[exp], test_true, pf[0][0], pf[1][0], pf[2][0], pf[3][0], pf[4][0]):\n",
    "    if w != 0:\n",
    "        seq_len += 1\n",
    "        print(\"{:2}- {:15}| {:6}  -  {:6}  -  {:6}  -  {:6}  -  {:6}  -  {:6}\".format(\n",
    "            seq_len - 1, words_set[w], tags_set[t],\n",
    "            tags_set[pred1], tags_set[pred2], tags_set[pred3], tags_set[pred4], tags_set[pred5]))"
   ]
  },
  {
   "cell_type": "code",
   "execution_count": 134,
   "id": "fdf5ea0d",
   "metadata": {},
   "outputs": [],
   "source": [
    "sorted_scr_list = []\n",
    "for model in models:\n",
    "    sorted_scr_list.append(oclusion (test_sent, tags_set, word_idx_target, tag_target, model))"
   ]
  },
  {
   "cell_type": "code",
   "execution_count": 135,
   "id": "1e087845",
   "metadata": {
    "scrolled": true
   },
   "outputs": [
    {
     "name": "stdout",
     "output_type": "stream",
     "text": [
      "Alvo\n",
      "Word: china          \n",
      "Tag : B-LOC\n",
      "\n",
      "  Ranked Relecance 1    |  Ranked Relecance 2    |  Ranked Relecance 3    |  Ranked Relecance 4    |  Ranked Relecance 5  \n",
      "1- china      (9.54E-01)|1- china      (9.90E-01)|1- china      (9.98E-01)|1- china      (1.00E+00)|1- china      (1.00E+00)\n",
      "2- controlled (2.37E-03)|2- controlled (7.28E-04)|2- controlled (1.75E-04)|2- uzbek      (5.33E-05)|2- uzbek      (2.48E-05)\n",
      "3- most       (1.01E-04)|3- most       (2.62E-05)|3- uzbek      (2.11E-05)|3- controlled (4.19E-05)|3- controlled (1.46E-06)\n",
      "4- the        (5.23E-05)|4- uzbek      (8.19E-06)|4- most       (5.83E-06)|4- chinese    (5.10E-06)|4- chinese    (5.41E-07)\n",
      "5- of         (4.77E-05)|5- chinese    (5.42E-06)|5- chinese    (6.55E-07)|5- most       (1.36E-07)|5- most       (5.66E-09)\n"
     ]
    }
   ],
   "source": [
    "print_top_rel = 5\n",
    "i=0\n",
    "print(\"Alvo\")\n",
    "print(\"{:4}: {:15}\".format('Word', words_set[X_te[exp][word_idx_target]]))\n",
    "print(\"{:4}: {:5}\".format('Tag', tag_target))\n",
    "print()\n",
    "print(\"  {:20}  |  {:20}  |  {:20}  |  {:20}  |  {:20}\".format(\"Ranked Relecance 1\", \"Ranked Relecance 2\",\n",
    "                                                        \"Ranked Relecance 3\", \"Ranked Relecance 4\", \"Ranked Relecance 5\"))\n",
    "for idx1, idx2, idx3, idx4, idx5 in zip(sorted_scr_list[0].indices, sorted_scr_list[1].indices,\n",
    "                                        sorted_scr_list[2].indices, sorted_scr_list[3].indices,\n",
    "                                        sorted_scr_list[4].indices):\n",
    "    print(\"{:1}- {:11}({:.2E})|{:1}- {:11}({:.2E})|{:1}- {:11}({:.2E})|{:1}- {:11}({:.2E})|{:1}- {:11}({:.2E})\".format(\n",
    "        i+1, words_set[X_te[exp][idx1]], sorted_scr_list[0].values[i],\n",
    "        i+1, words_set[X_te[exp][idx2]], sorted_scr_list[1].values[i],\n",
    "        i+1, words_set[X_te[exp][idx3]], sorted_scr_list[2].values[i],\n",
    "        i+1, words_set[X_te[exp][idx4]], sorted_scr_list[3].values[i],\n",
    "        i+1, words_set[X_te[exp][idx5]], sorted_scr_list[4].values[i]))\n",
    "    if i+1 == print_top_rel:\n",
    "        break\n",
    "    i += 1"
   ]
  },
  {
   "cell_type": "code",
   "execution_count": null,
   "id": "5e0e3588",
   "metadata": {},
   "outputs": [],
   "source": []
  },
  {
   "cell_type": "markdown",
   "id": "733daf5c",
   "metadata": {},
   "source": [
    "## Test Sent B-PER 5"
   ]
  },
  {
   "cell_type": "code",
   "execution_count": 123,
   "id": "5519e02f",
   "metadata": {},
   "outputs": [
    {
     "name": "stdout",
     "output_type": "stream",
     "text": [
      "china controlled most of the match and saw several chances missed until the 78th minute when uzbek striker igor shkvyrin took advantage of a misdirected defensive header to lob the ball over the advancing chinese keeper and into an empty net .\n"
     ]
    }
   ],
   "source": [
    "exp = 5\n",
    "test_sent = X_te[exp]\n",
    "sentence_str = []\n",
    "for w in test_sent:\n",
    "    if w == 0:\n",
    "        break\n",
    "    sentence_str.append(words_set[w])\n",
    "print(' '.join(sentence_str))\n",
    "\n",
    "end_sent = np.where(test_sent == 0)[0][0]\n",
    "test_true = np.argmax(y_te[exp], -1)"
   ]
  },
  {
   "cell_type": "code",
   "execution_count": 127,
   "id": "d5f7bea4",
   "metadata": {},
   "outputs": [
    {
     "name": "stdout",
     "output_type": "stream",
     "text": [
      "Alvo\n",
      "Word: igor           \n",
      "Tag : B-PER\n"
     ]
    }
   ],
   "source": [
    "word_idx_target = 18\n",
    "tag_target = 'B-PER'\n",
    "print(\"Alvo\")\n",
    "print(\"{:4}: {:15}\".format('Word', words_set[X_te[exp][word_idx_target]]))\n",
    "print(\"{:4}: {:5}\".format('Tag', tag_target))"
   ]
  },
  {
   "cell_type": "code",
   "execution_count": 125,
   "id": "0de02424",
   "metadata": {},
   "outputs": [],
   "source": [
    "pf = []\n",
    "for model in models:\n",
    "    p = model.predict(np.array([test_sent]))\n",
    "    pf.append(np.argmax(p, axis=-1))"
   ]
  },
  {
   "cell_type": "code",
   "execution_count": 126,
   "id": "fc16371c",
   "metadata": {},
   "outputs": [
    {
     "name": "stdout",
     "output_type": "stream",
     "text": [
      "    Word           | True    -  Pred1   -  Pred2   -  Pred3   -  Pred4   -  Pred5 \n",
      " 0- china          | B-LOC   -  B-LOC   -  B-LOC   -  B-LOC   -  B-LOC   -  B-LOC \n",
      " 1- controlled     | O       -  O       -  O       -  O       -  O       -  O     \n",
      " 2- most           | O       -  O       -  O       -  O       -  O       -  O     \n",
      " 3- of             | O       -  O       -  O       -  O       -  O       -  O     \n",
      " 4- the            | O       -  O       -  O       -  O       -  O       -  O     \n",
      " 5- match          | O       -  O       -  O       -  O       -  O       -  O     \n",
      " 6- and            | O       -  O       -  O       -  O       -  O       -  O     \n",
      " 7- saw            | O       -  O       -  O       -  O       -  O       -  O     \n",
      " 8- several        | O       -  O       -  O       -  O       -  O       -  O     \n",
      " 9- chances        | O       -  O       -  O       -  O       -  O       -  O     \n",
      "10- missed         | O       -  O       -  O       -  O       -  O       -  O     \n",
      "11- until          | O       -  O       -  O       -  O       -  O       -  O     \n",
      "12- the            | O       -  O       -  O       -  O       -  O       -  O     \n",
      "13- 78th           | O       -  O       -  O       -  O       -  O       -  O     \n",
      "14- minute         | O       -  O       -  O       -  O       -  O       -  O     \n",
      "15- when           | O       -  O       -  O       -  O       -  O       -  O     \n",
      "16- uzbek          | B-MISC  -  B-MISC  -  B-MISC  -  B-MISC  -  B-MISC  -  B-MISC\n",
      "17- striker        | O       -  O       -  O       -  O       -  O       -  O     \n",
      "18- igor           | B-PER   -  B-PER   -  B-PER   -  B-PER   -  B-PER   -  B-PER \n",
      "19- shkvyrin       | I-PER   -  I-PER   -  I-PER   -  I-PER   -  I-PER   -  I-PER \n",
      "20- took           | O       -  O       -  O       -  O       -  O       -  O     \n",
      "21- advantage      | O       -  O       -  O       -  O       -  O       -  O     \n",
      "22- of             | O       -  O       -  O       -  O       -  O       -  O     \n",
      "23- a              | O       -  O       -  O       -  O       -  O       -  O     \n",
      "24- misdirected    | O       -  O       -  O       -  O       -  O       -  O     \n",
      "25- defensive      | O       -  O       -  O       -  O       -  O       -  O     \n",
      "26- header         | O       -  O       -  O       -  O       -  O       -  O     \n",
      "27- to             | O       -  O       -  O       -  O       -  O       -  O     \n",
      "28- lob            | O       -  O       -  O       -  O       -  O       -  O     \n",
      "29- the            | O       -  O       -  O       -  O       -  O       -  O     \n",
      "30- ball           | O       -  O       -  O       -  O       -  O       -  O     \n",
      "31- over           | O       -  O       -  O       -  O       -  O       -  O     \n",
      "32- the            | O       -  O       -  O       -  O       -  O       -  O     \n",
      "33- advancing      | O       -  O       -  O       -  O       -  O       -  O     \n",
      "34- chinese        | B-MISC  -  B-MISC  -  B-MISC  -  B-MISC  -  B-MISC  -  B-MISC\n",
      "35- keeper         | O       -  O       -  O       -  O       -  O       -  O     \n",
      "36- and            | O       -  O       -  O       -  O       -  O       -  O     \n",
      "37- into           | O       -  O       -  O       -  O       -  O       -  O     \n",
      "38- an             | O       -  O       -  O       -  O       -  O       -  O     \n",
      "39- empty          | O       -  O       -  O       -  O       -  O       -  O     \n",
      "40- net            | O       -  O       -  O       -  O       -  O       -  O     \n",
      "41- .              | O       -  O       -  O       -  O       -  O       -  O     \n"
     ]
    }
   ],
   "source": [
    "seq_len=0\n",
    "print(\"{:2}  {:15}| {:6}  -  {:6}  -  {:6}  -  {:6}  -  {:6}  -  {:6}\".format(\n",
    "    \"\", \"Word\", \"True\", \"Pred1\", \"Pred2\", \"Pred3\", \"Pred4\", \"Pred5\"))\n",
    "for w, t, pred1, pred2, pred3, pred4, pred5 in zip(X_te[exp], test_true, pf[0][0], pf[1][0], pf[2][0], pf[3][0], pf[4][0]):\n",
    "    if w != 0:\n",
    "        seq_len += 1\n",
    "        print(\"{:2}- {:15}| {:6}  -  {:6}  -  {:6}  -  {:6}  -  {:6}  -  {:6}\".format(\n",
    "            seq_len - 1, words_set[w], tags_set[t],\n",
    "            tags_set[pred1], tags_set[pred2], tags_set[pred3], tags_set[pred4], tags_set[pred5]))"
   ]
  },
  {
   "cell_type": "code",
   "execution_count": 128,
   "id": "acb45914",
   "metadata": {},
   "outputs": [],
   "source": [
    "sorted_scr_list = []\n",
    "for model in models:\n",
    "    sorted_scr_list.append(oclusion (test_sent, tags_set, word_idx_target, tag_target, model))"
   ]
  },
  {
   "cell_type": "code",
   "execution_count": 129,
   "id": "a17dc0e7",
   "metadata": {
    "scrolled": false
   },
   "outputs": [
    {
     "name": "stdout",
     "output_type": "stream",
     "text": [
      "Alvo\n",
      "Word: igor           \n",
      "Tag : B-PER\n",
      "\n",
      "  Ranked Relecance 1    |  Ranked Relecance 2    |  Ranked Relecance 3    |  Ranked Relecance 4    |  Ranked Relecance 5  \n",
      "1- igor       (9.44E-01)|1- igor       (9.99E-01)|1- igor       (1.00E+00)|1- igor       (1.00E+00)|1- igor       (1.00E+00)\n",
      "2- striker    (1.04E-01)|2- shkvyrin   (5.60E-01)|2- shkvyrin   (9.44E-01)|2- shkvyrin   (9.98E-01)|2- shkvyrin   (1.00E+00)\n",
      "3- shkvyrin   (5.75E-02)|3- striker    (1.90E-02)|3- striker    (3.68E-04)|3- striker    (8.85E-05)|3- header     (1.05E-05)\n",
      "4- keeper     (1.68E-04)|4- defensive  (7.53E-05)|4- defensive  (1.77E-05)|4- keeper     (4.05E-06)|4- striker    (1.77E-06)\n",
      "5- lob        (1.16E-04)|5- lob        (1.91E-05)|5- uzbek      (9.56E-06)|5- header     (1.59E-06)|5- uzbek      (6.58E-07)\n"
     ]
    }
   ],
   "source": [
    "print_top_rel = 5\n",
    "i=0\n",
    "print(\"Alvo\")\n",
    "print(\"{:4}: {:15}\".format('Word', words_set[X_te[exp][word_idx_target]]))\n",
    "print(\"{:4}: {:5}\".format('Tag', tag_target))\n",
    "print()\n",
    "print(\"  {:20}  |  {:20}  |  {:20}  |  {:20}  |  {:20}\".format(\"Ranked Relecance 1\", \"Ranked Relecance 2\",\n",
    "                                                        \"Ranked Relecance 3\", \"Ranked Relecance 4\", \"Ranked Relecance 5\"))\n",
    "for idx1, idx2, idx3, idx4, idx5 in zip(sorted_scr_list[0].indices, sorted_scr_list[1].indices,\n",
    "                                        sorted_scr_list[2].indices, sorted_scr_list[3].indices,\n",
    "                                        sorted_scr_list[4].indices):\n",
    "    print(\"{:1}- {:11}({:.2E})|{:1}- {:11}({:.2E})|{:1}- {:11}({:.2E})|{:1}- {:11}({:.2E})|{:1}- {:11}({:.2E})\".format(\n",
    "        i+1, words_set[X_te[exp][idx1]], sorted_scr_list[0].values[i],\n",
    "        i+1, words_set[X_te[exp][idx2]], sorted_scr_list[1].values[i],\n",
    "        i+1, words_set[X_te[exp][idx3]], sorted_scr_list[2].values[i],\n",
    "        i+1, words_set[X_te[exp][idx4]], sorted_scr_list[3].values[i],\n",
    "        i+1, words_set[X_te[exp][idx5]], sorted_scr_list[4].values[i]))\n",
    "    if i+1 == print_top_rel:\n",
    "        break\n",
    "    i += 1"
   ]
  },
  {
   "cell_type": "code",
   "execution_count": null,
   "id": "7bf8cede",
   "metadata": {},
   "outputs": [],
   "source": []
  },
  {
   "cell_type": "markdown",
   "id": "ee07d82c",
   "metadata": {},
   "source": [
    "## Test Sent I-PER 1"
   ]
  },
  {
   "cell_type": "code",
   "execution_count": 10,
   "id": "2e1feb9b",
   "metadata": {},
   "outputs": [
    {
     "name": "stdout",
     "output_type": "stream",
     "text": [
      "tour manager clive lloyd on wednesday apologised for lara 's behaviour in confronting australia coach geoff marsh in the opposition dressing room to protest against his dismissal in the second test on tuesday .\n"
     ]
    }
   ],
   "source": [
    "exp = 307\n",
    "test_sent = X_te[exp]\n",
    "sentence_str = []\n",
    "for w in test_sent:\n",
    "    if w == 0:\n",
    "        break\n",
    "    sentence_str.append(words_set[w])\n",
    "print(' '.join(sentence_str))\n",
    "\n",
    "end_sent = np.where(test_sent == 0)[0][0]\n",
    "test_true = np.argmax(y_te[exp], -1)"
   ]
  },
  {
   "cell_type": "code",
   "execution_count": 11,
   "id": "280f2eb1",
   "metadata": {},
   "outputs": [
    {
     "name": "stdout",
     "output_type": "stream",
     "text": [
      "Alvo\n",
      "Word: lloyd          \n",
      "Tag : I-PER\n"
     ]
    }
   ],
   "source": [
    "word_idx_target = 3\n",
    "tag_target = 'I-PER'\n",
    "print(\"Alvo\")\n",
    "print(\"{:4}: {:15}\".format('Word', words_set[X_te[exp][word_idx_target]]))\n",
    "print(\"{:4}: {:5}\".format('Tag', tag_target))"
   ]
  },
  {
   "cell_type": "code",
   "execution_count": 12,
   "id": "4d9c62c0",
   "metadata": {},
   "outputs": [],
   "source": [
    "pf = []\n",
    "for model in models:\n",
    "    p = model.predict(np.array([test_sent]))\n",
    "    pf.append(np.argmax(p, axis=-1))"
   ]
  },
  {
   "cell_type": "code",
   "execution_count": 13,
   "id": "b24ba3de",
   "metadata": {},
   "outputs": [
    {
     "name": "stdout",
     "output_type": "stream",
     "text": [
      "    Word           | True    -  Pred1   -  Pred2   -  Pred3   -  Pred4   -  Pred5 \n",
      " 0- tour           | O       -  O       -  O       -  O       -  O       -  O     \n",
      " 1- manager        | O       -  O       -  O       -  O       -  O       -  O     \n",
      " 2- clive          | B-PER   -  B-PER   -  B-PER   -  B-PER   -  B-PER   -  B-PER \n",
      " 3- lloyd          | I-PER   -  I-PER   -  I-PER   -  I-PER   -  I-PER   -  I-PER \n",
      " 4- on             | O       -  O       -  O       -  O       -  O       -  O     \n",
      " 5- wednesday      | O       -  O       -  O       -  O       -  O       -  O     \n",
      " 6- apologised     | O       -  O       -  O       -  O       -  O       -  O     \n",
      " 7- for            | O       -  O       -  O       -  O       -  O       -  O     \n",
      " 8- lara           | B-PER   -  B-PER   -  B-PER   -  B-PER   -  B-PER   -  B-PER \n",
      " 9- 's             | O       -  O       -  O       -  O       -  O       -  O     \n",
      "10- behaviour      | O       -  O       -  O       -  O       -  O       -  O     \n",
      "11- in             | O       -  O       -  O       -  O       -  O       -  O     \n",
      "12- confronting    | O       -  O       -  O       -  O       -  O       -  O     \n",
      "13- australia      | B-LOC   -  I-LOC   -  B-LOC   -  B-LOC   -  B-LOC   -  B-LOC \n",
      "14- coach          | O       -  O       -  O       -  O       -  O       -  O     \n",
      "15- geoff          | B-PER   -  B-PER   -  B-PER   -  B-PER   -  B-PER   -  B-PER \n",
      "16- marsh          | I-PER   -  I-PER   -  I-PER   -  I-PER   -  I-PER   -  I-PER \n",
      "17- in             | O       -  O       -  O       -  O       -  O       -  O     \n",
      "18- the            | O       -  O       -  O       -  O       -  O       -  O     \n",
      "19- opposition     | O       -  O       -  O       -  O       -  O       -  O     \n",
      "20- dressing       | O       -  O       -  O       -  O       -  O       -  O     \n",
      "21- room           | O       -  O       -  O       -  O       -  O       -  O     \n",
      "22- to             | O       -  O       -  O       -  O       -  O       -  O     \n",
      "23- protest        | O       -  O       -  O       -  O       -  O       -  O     \n",
      "24- against        | O       -  O       -  O       -  O       -  O       -  O     \n",
      "25- his            | O       -  O       -  O       -  O       -  O       -  O     \n",
      "26- dismissal      | O       -  O       -  O       -  O       -  O       -  O     \n",
      "27- in             | O       -  O       -  O       -  O       -  O       -  O     \n",
      "28- the            | O       -  O       -  O       -  O       -  O       -  O     \n",
      "29- second         | O       -  O       -  O       -  O       -  O       -  O     \n",
      "30- test           | O       -  O       -  O       -  O       -  O       -  O     \n",
      "31- on             | O       -  O       -  O       -  O       -  O       -  O     \n",
      "32- tuesday        | O       -  O       -  O       -  O       -  O       -  O     \n",
      "33- .              | O       -  O       -  O       -  O       -  O       -  O     \n"
     ]
    }
   ],
   "source": [
    "seq_len=0\n",
    "print(\"{:2}  {:15}| {:6}  -  {:6}  -  {:6}  -  {:6}  -  {:6}  -  {:6}\".format(\n",
    "    \"\", \"Word\", \"True\", \"Pred1\", \"Pred2\", \"Pred3\", \"Pred4\", \"Pred5\"))\n",
    "for w, t, pred1, pred2, pred3, pred4, pred5 in zip(X_te[exp], test_true, pf[0][0], pf[1][0], pf[2][0], pf[3][0], pf[4][0]):\n",
    "    if w != 0:\n",
    "        seq_len += 1\n",
    "        print(\"{:2}- {:15}| {:6}  -  {:6}  -  {:6}  -  {:6}  -  {:6}  -  {:6}\".format(\n",
    "            seq_len - 1, words_set[w], tags_set[t],\n",
    "            tags_set[pred1], tags_set[pred2], tags_set[pred3], tags_set[pred4], tags_set[pred5]))"
   ]
  },
  {
   "cell_type": "code",
   "execution_count": 14,
   "id": "d93c89c9",
   "metadata": {},
   "outputs": [],
   "source": [
    "sorted_scr_list = []\n",
    "for model in models:\n",
    "    sorted_scr_list.append(oclusion (test_sent, tags_set, word_idx_target, tag_target, model))"
   ]
  },
  {
   "cell_type": "code",
   "execution_count": 15,
   "id": "0f8f7ec2",
   "metadata": {},
   "outputs": [
    {
     "name": "stdout",
     "output_type": "stream",
     "text": [
      "Alvo\n",
      "Word: lloyd          \n",
      "Tag : I-PER\n",
      "\n",
      "  Ranked Relecance 1    |  Ranked Relecance 2    |  Ranked Relecance 3    |  Ranked Relecance 4    |  Ranked Relecance 5  \n",
      "1- lloyd      (9.70E-01)|1- lloyd      (9.81E-01)|1- lloyd      (9.57E-01)|1- lloyd      (1.00E+00)|1- lloyd      (1.00E+00)\n",
      "2- clive      (3.94E-01)|2- clive      (1.93E-01)|2- clive      (6.21E-03)|2- on         (1.12E-03)|2- clive      (6.73E-05)\n",
      "3- on         (1.70E-03)|3- on         (9.60E-04)|3- on         (1.51E-03)|3- clive      (1.83E-04)|3- on         (5.98E-05)\n",
      "4- manager    (5.96E-04)|4- manager    (1.88E-04)|4- room       (9.22E-05)|4- 's         (5.79E-06)|4- 's         (5.83E-06)\n",
      "5- apologised (1.88E-04)|5- 's         (1.27E-04)|5- manager    (3.24E-05)|5- lara       (3.46E-07)|5- lara       (1.55E-07)\n"
     ]
    }
   ],
   "source": [
    "print_top_rel = 5\n",
    "i=0\n",
    "print(\"Alvo\")\n",
    "print(\"{:4}: {:15}\".format('Word', words_set[X_te[exp][word_idx_target]]))\n",
    "print(\"{:4}: {:5}\".format('Tag', tag_target))\n",
    "print()\n",
    "print(\"  {:20}  |  {:20}  |  {:20}  |  {:20}  |  {:20}\".format(\"Ranked Relecance 1\", \"Ranked Relecance 2\",\n",
    "                                                        \"Ranked Relecance 3\", \"Ranked Relecance 4\", \"Ranked Relecance 5\"))\n",
    "for idx1, idx2, idx3, idx4, idx5 in zip(sorted_scr_list[0].indices, sorted_scr_list[1].indices,\n",
    "                                        sorted_scr_list[2].indices, sorted_scr_list[3].indices,\n",
    "                                        sorted_scr_list[4].indices):\n",
    "    print(\"{:1}- {:11}({:.2E})|{:1}- {:11}({:.2E})|{:1}- {:11}({:.2E})|{:1}- {:11}({:.2E})|{:1}- {:11}({:.2E})\".format(\n",
    "        i+1, words_set[X_te[exp][idx1]], sorted_scr_list[0].values[i],\n",
    "        i+1, words_set[X_te[exp][idx2]], sorted_scr_list[1].values[i],\n",
    "        i+1, words_set[X_te[exp][idx3]], sorted_scr_list[2].values[i],\n",
    "        i+1, words_set[X_te[exp][idx4]], sorted_scr_list[3].values[i],\n",
    "        i+1, words_set[X_te[exp][idx5]], sorted_scr_list[4].values[i]))\n",
    "    if i+1 == print_top_rel:\n",
    "        break\n",
    "    i += 1"
   ]
  },
  {
   "cell_type": "code",
   "execution_count": null,
   "id": "543ed43a",
   "metadata": {},
   "outputs": [],
   "source": []
  },
  {
   "cell_type": "markdown",
   "id": "44f00717",
   "metadata": {},
   "source": [
    "## Test Sent I-PER 2"
   ]
  },
  {
   "cell_type": "code",
   "execution_count": 55,
   "id": "906f3e95",
   "metadata": {},
   "outputs": [
    {
     "name": "stdout",
     "output_type": "stream",
     "text": [
      "west indies batsman brian lara suffered another blow to his australian tour , after already being disciplined for misconduct , when he was dismissed cheaply in the first limited overs match against australia on friday .\n"
     ]
    }
   ],
   "source": [
    "exp = 300\n",
    "test_sent = X_te[exp]\n",
    "sentence_str = []\n",
    "for w in test_sent:\n",
    "    if w == 0:\n",
    "        break\n",
    "    sentence_str.append(words_set[w])\n",
    "print(' '.join(sentence_str))\n",
    "\n",
    "end_sent = np.where(test_sent == 0)[0][0]\n",
    "test_true = np.argmax(y_te[exp], -1)"
   ]
  },
  {
   "cell_type": "code",
   "execution_count": 59,
   "id": "d2c37271",
   "metadata": {},
   "outputs": [
    {
     "name": "stdout",
     "output_type": "stream",
     "text": [
      "Alvo\n",
      "Word: lara           \n",
      "Tag : I-PER\n"
     ]
    }
   ],
   "source": [
    "word_idx_target = 4\n",
    "tag_target = 'I-PER'\n",
    "print(\"Alvo\")\n",
    "print(\"{:4}: {:15}\".format('Word', words_set[X_te[exp][word_idx_target]]))\n",
    "print(\"{:4}: {:5}\".format('Tag', tag_target))"
   ]
  },
  {
   "cell_type": "code",
   "execution_count": 60,
   "id": "bed6f679",
   "metadata": {},
   "outputs": [],
   "source": [
    "pf = []\n",
    "for model in models:\n",
    "    p = model.predict(np.array([test_sent]))\n",
    "    pf.append(np.argmax(p, axis=-1))"
   ]
  },
  {
   "cell_type": "code",
   "execution_count": 61,
   "id": "c71e62b2",
   "metadata": {},
   "outputs": [
    {
     "name": "stdout",
     "output_type": "stream",
     "text": [
      "    Word           | True    -  Pred1   -  Pred2   -  Pred3   -  Pred4   -  Pred5 \n",
      " 0- west           | B-LOC   -  B-LOC   -  B-LOC   -  B-LOC   -  B-LOC   -  B-LOC \n",
      " 1- indies         | I-LOC   -  I-LOC   -  I-LOC   -  I-LOC   -  I-LOC   -  I-LOC \n",
      " 2- batsman        | O       -  O       -  O       -  O       -  O       -  O     \n",
      " 3- brian          | B-PER   -  B-PER   -  B-PER   -  B-PER   -  B-PER   -  B-PER \n",
      " 4- lara           | I-PER   -  I-PER   -  I-PER   -  I-PER   -  I-PER   -  I-PER \n",
      " 5- suffered       | O       -  O       -  O       -  O       -  O       -  O     \n",
      " 6- another        | O       -  O       -  O       -  O       -  O       -  O     \n",
      " 7- blow           | O       -  O       -  O       -  O       -  O       -  O     \n",
      " 8- to             | O       -  O       -  O       -  O       -  O       -  O     \n",
      " 9- his            | O       -  O       -  O       -  O       -  O       -  O     \n",
      "10- australian     | B-MISC  -  B-MISC  -  B-MISC  -  B-MISC  -  B-MISC  -  B-MISC\n",
      "11- tour           | O       -  O       -  O       -  O       -  O       -  O     \n",
      "12- ,              | O       -  O       -  O       -  O       -  O       -  O     \n",
      "13- after          | O       -  O       -  O       -  O       -  O       -  O     \n",
      "14- already        | O       -  O       -  O       -  O       -  O       -  O     \n",
      "15- being          | O       -  O       -  O       -  O       -  O       -  O     \n",
      "16- disciplined    | O       -  O       -  O       -  O       -  O       -  O     \n",
      "17- for            | O       -  O       -  O       -  O       -  O       -  O     \n",
      "18- misconduct     | O       -  O       -  O       -  O       -  O       -  O     \n",
      "19- ,              | O       -  O       -  O       -  O       -  O       -  O     \n",
      "20- when           | O       -  O       -  O       -  O       -  O       -  O     \n",
      "21- he             | O       -  O       -  O       -  O       -  O       -  O     \n",
      "22- was            | O       -  O       -  O       -  O       -  O       -  O     \n",
      "23- dismissed      | O       -  O       -  O       -  O       -  O       -  O     \n",
      "24- cheaply        | O       -  O       -  O       -  O       -  O       -  O     \n",
      "25- in             | O       -  O       -  O       -  O       -  O       -  O     \n",
      "26- the            | O       -  O       -  O       -  O       -  O       -  O     \n",
      "27- first          | O       -  O       -  O       -  O       -  O       -  O     \n",
      "28- limited        | O       -  O       -  O       -  O       -  O       -  O     \n",
      "29- overs          | O       -  O       -  O       -  O       -  O       -  O     \n",
      "30- match          | O       -  O       -  O       -  O       -  O       -  O     \n",
      "31- against        | O       -  O       -  O       -  O       -  O       -  O     \n",
      "32- australia      | B-LOC   -  B-LOC   -  B-LOC   -  B-LOC   -  B-LOC   -  B-LOC \n",
      "33- on             | O       -  O       -  O       -  O       -  O       -  O     \n",
      "34- friday         | O       -  O       -  O       -  O       -  O       -  O     \n",
      "35- .              | O       -  O       -  O       -  O       -  O       -  O     \n"
     ]
    }
   ],
   "source": [
    "seq_len=0\n",
    "print(\"{:2}  {:15}| {:6}  -  {:6}  -  {:6}  -  {:6}  -  {:6}  -  {:6}\".format(\n",
    "    \"\", \"Word\", \"True\", \"Pred1\", \"Pred2\", \"Pred3\", \"Pred4\", \"Pred5\"))\n",
    "for w, t, pred1, pred2, pred3, pred4, pred5 in zip(X_te[exp], test_true, pf[0][0], pf[1][0], pf[2][0], pf[3][0], pf[4][0]):\n",
    "    if w != 0:\n",
    "        seq_len += 1\n",
    "        print(\"{:2}- {:15}| {:6}  -  {:6}  -  {:6}  -  {:6}  -  {:6}  -  {:6}\".format(\n",
    "            seq_len - 1, words_set[w], tags_set[t],\n",
    "            tags_set[pred1], tags_set[pred2], tags_set[pred3], tags_set[pred4], tags_set[pred5]))"
   ]
  },
  {
   "cell_type": "code",
   "execution_count": 62,
   "id": "bf8894f9",
   "metadata": {},
   "outputs": [],
   "source": [
    "sorted_scr_list = []\n",
    "for model in models:\n",
    "    sorted_scr_list.append(oclusion (test_sent, tags_set, word_idx_target, tag_target, model))"
   ]
  },
  {
   "cell_type": "code",
   "execution_count": 63,
   "id": "b3bc13e4",
   "metadata": {
    "scrolled": true
   },
   "outputs": [
    {
     "name": "stdout",
     "output_type": "stream",
     "text": [
      "Alvo\n",
      "Word: lara           \n",
      "Tag : I-PER\n",
      "\n",
      "  Ranked Relecance 1    |  Ranked Relecance 2    |  Ranked Relecance 3    |  Ranked Relecance 4    |  Ranked Relecance 5  \n",
      "1- lara       (9.83E-01)|1- lara       (9.97E-01)|1- lara       (1.00E+00)|1- lara       (1.00E+00)|1- lara       (1.00E+00)\n",
      "2- brian      (1.91E-01)|2- brian      (1.05E-02)|2- suffered   (1.47E-02)|2- brian      (3.87E-04)|2- suffered   (3.40E-04)\n",
      "3- batsman    (3.14E-02)|3- suffered   (7.56E-03)|3- brian      (5.15E-03)|3- suffered   (4.41E-05)|3- brian      (1.87E-04)\n",
      "4- suffered   (3.13E-03)|4- batsman    (3.52E-04)|4- tour       (1.56E-04)|4- tour       (1.88E-06)|4- tour       (8.65E-05)\n",
      "5- indies     (8.67E-04)|5- indies     (3.34E-04)|5- indies     (1.11E-04)|5- west       (3.51E-07)|5- indies     (4.97E-07)\n"
     ]
    }
   ],
   "source": [
    "print_top_rel = 5\n",
    "i=0\n",
    "print(\"Alvo\")\n",
    "print(\"{:4}: {:15}\".format('Word', words_set[X_te[exp][word_idx_target]]))\n",
    "print(\"{:4}: {:5}\".format('Tag', tag_target))\n",
    "print()\n",
    "print(\"  {:20}  |  {:20}  |  {:20}  |  {:20}  |  {:20}\".format(\"Ranked Relecance 1\", \"Ranked Relecance 2\",\n",
    "                                                        \"Ranked Relecance 3\", \"Ranked Relecance 4\", \"Ranked Relecance 5\"))\n",
    "for idx1, idx2, idx3, idx4, idx5 in zip(sorted_scr_list[0].indices, sorted_scr_list[1].indices,\n",
    "                                        sorted_scr_list[2].indices, sorted_scr_list[3].indices,\n",
    "                                        sorted_scr_list[4].indices):\n",
    "    print(\"{:1}- {:11}({:.2E})|{:1}- {:11}({:.2E})|{:1}- {:11}({:.2E})|{:1}- {:11}({:.2E})|{:1}- {:11}({:.2E})\".format(\n",
    "        i+1, words_set[X_te[exp][idx1]], sorted_scr_list[0].values[i],\n",
    "        i+1, words_set[X_te[exp][idx2]], sorted_scr_list[1].values[i],\n",
    "        i+1, words_set[X_te[exp][idx3]], sorted_scr_list[2].values[i],\n",
    "        i+1, words_set[X_te[exp][idx4]], sorted_scr_list[3].values[i],\n",
    "        i+1, words_set[X_te[exp][idx5]], sorted_scr_list[4].values[i]))\n",
    "    if i+1 == print_top_rel:\n",
    "        break\n",
    "    i += 1"
   ]
  },
  {
   "cell_type": "code",
   "execution_count": null,
   "id": "4dfb6b31",
   "metadata": {},
   "outputs": [],
   "source": []
  },
  {
   "cell_type": "markdown",
   "id": "fa90932a",
   "metadata": {},
   "source": [
    "## Test Sent I-LOC 1"
   ]
  },
  {
   "cell_type": "code",
   "execution_count": 137,
   "id": "7ccea3a6",
   "metadata": {},
   "outputs": [
    {
     "name": "stdout",
     "output_type": "stream",
     "text": [
      "australia went on to win the match at the sydney cricket ground by 124 runs to take a two-nil lead in the five-test series after lara failed in both innings .\n"
     ]
    }
   ],
   "source": [
    "exp = 310\n",
    "test_sent = X_te[exp]\n",
    "sentence_str = []\n",
    "for w in test_sent:\n",
    "    if w == 0:\n",
    "        break\n",
    "    sentence_str.append(words_set[w])\n",
    "print(' '.join(sentence_str))\n",
    "\n",
    "end_sent = np.where(test_sent == 0)[0][0]\n",
    "test_true = np.argmax(y_te[exp], -1)"
   ]
  },
  {
   "cell_type": "code",
   "execution_count": 138,
   "id": "d6a57767",
   "metadata": {},
   "outputs": [
    {
     "name": "stdout",
     "output_type": "stream",
     "text": [
      "Alvo\n",
      "Word: cricket        \n",
      "Tag : I-LOC\n"
     ]
    }
   ],
   "source": [
    "word_idx_target = 10\n",
    "tag_target = 'I-LOC'\n",
    "print(\"Alvo\")\n",
    "print(\"{:4}: {:15}\".format('Word', words_set[X_te[exp][word_idx_target]]))\n",
    "print(\"{:4}: {:5}\".format('Tag', tag_target))"
   ]
  },
  {
   "cell_type": "code",
   "execution_count": 46,
   "id": "df14e54c",
   "metadata": {},
   "outputs": [],
   "source": [
    "pf = []\n",
    "for model in models:\n",
    "    p = model.predict(np.array([test_sent]))\n",
    "    pf.append(np.argmax(p, axis=-1))"
   ]
  },
  {
   "cell_type": "code",
   "execution_count": 47,
   "id": "3b4d5b21",
   "metadata": {},
   "outputs": [
    {
     "name": "stdout",
     "output_type": "stream",
     "text": [
      "    Word           | True    -  Pred1   -  Pred2   -  Pred3   -  Pred4   -  Pred5 \n",
      " 0- australia      | B-LOC   -  B-LOC   -  B-LOC   -  B-LOC   -  B-LOC   -  B-LOC \n",
      " 1- went           | O       -  O       -  O       -  O       -  O       -  O     \n",
      " 2- on             | O       -  O       -  O       -  O       -  O       -  O     \n",
      " 3- to             | O       -  O       -  O       -  O       -  O       -  O     \n",
      " 4- win            | O       -  O       -  O       -  O       -  O       -  O     \n",
      " 5- the            | O       -  O       -  O       -  O       -  O       -  O     \n",
      " 6- match          | O       -  O       -  O       -  O       -  O       -  O     \n",
      " 7- at             | O       -  O       -  O       -  O       -  O       -  O     \n",
      " 8- the            | O       -  O       -  O       -  O       -  O       -  O     \n",
      " 9- sydney         | B-LOC   -  B-LOC   -  B-LOC   -  B-LOC   -  B-LOC   -  B-LOC \n",
      "10- cricket        | I-LOC   -  I-LOC   -  O       -  O       -  O       -  O     \n",
      "11- ground         | I-LOC   -  O       -  O       -  O       -  O       -  O     \n",
      "12- by             | O       -  O       -  O       -  O       -  O       -  O     \n",
      "13- 124            | O       -  O       -  O       -  O       -  O       -  O     \n",
      "14- runs           | O       -  O       -  O       -  O       -  O       -  O     \n",
      "15- to             | O       -  O       -  O       -  O       -  O       -  O     \n",
      "16- take           | O       -  O       -  O       -  O       -  O       -  O     \n",
      "17- a              | O       -  O       -  O       -  O       -  O       -  O     \n",
      "18- two-nil        | O       -  O       -  O       -  O       -  O       -  O     \n",
      "19- lead           | O       -  O       -  O       -  O       -  O       -  O     \n",
      "20- in             | O       -  O       -  O       -  O       -  O       -  O     \n",
      "21- the            | O       -  O       -  O       -  O       -  O       -  O     \n",
      "22- five-test      | O       -  B-MISC  -  B-MISC  -  O       -  O       -  O     \n",
      "23- series         | O       -  I-MISC  -  O       -  O       -  O       -  O     \n",
      "24- after          | O       -  O       -  O       -  O       -  O       -  O     \n",
      "25- lara           | B-PER   -  B-PER   -  B-PER   -  B-PER   -  B-PER   -  B-PER \n",
      "26- failed         | O       -  O       -  O       -  O       -  O       -  O     \n",
      "27- in             | O       -  O       -  O       -  O       -  O       -  O     \n",
      "28- both           | O       -  O       -  O       -  O       -  O       -  O     \n",
      "29- innings        | O       -  O       -  O       -  O       -  O       -  O     \n",
      "30- .              | O       -  O       -  O       -  O       -  O       -  O     \n"
     ]
    }
   ],
   "source": [
    "seq_len=0\n",
    "print(\"{:2}  {:15}| {:6}  -  {:6}  -  {:6}  -  {:6}  -  {:6}  -  {:6}\".format(\n",
    "    \"\", \"Word\", \"True\", \"Pred1\", \"Pred2\", \"Pred3\", \"Pred4\", \"Pred5\"))\n",
    "for w, t, pred1, pred2, pred3, pred4, pred5 in zip(X_te[exp], test_true, pf[0][0], pf[1][0], pf[2][0], pf[3][0], pf[4][0]):\n",
    "    if w != 0:\n",
    "        seq_len += 1\n",
    "        print(\"{:2}- {:15}| {:6}  -  {:6}  -  {:6}  -  {:6}  -  {:6}  -  {:6}\".format(\n",
    "            seq_len - 1, words_set[w], tags_set[t],\n",
    "            tags_set[pred1], tags_set[pred2], tags_set[pred3], tags_set[pred4], tags_set[pred5]))"
   ]
  },
  {
   "cell_type": "code",
   "execution_count": 48,
   "id": "e6f160e0",
   "metadata": {},
   "outputs": [],
   "source": [
    "sorted_scr_list = []\n",
    "for model in models:\n",
    "    sorted_scr_list.append(oclusion (test_sent, tags_set, word_idx_target, tag_target, model))"
   ]
  },
  {
   "cell_type": "code",
   "execution_count": 49,
   "id": "d164e941",
   "metadata": {
    "scrolled": false
   },
   "outputs": [
    {
     "name": "stdout",
     "output_type": "stream",
     "text": [
      "Alvo\n",
      "Word: cricket        \n",
      "Tag : I-LOC\n",
      "\n",
      "  Ranked Relecance 1    |  Ranked Relecance 2    |  Ranked Relecance 3    |  Ranked Relecance 4    |  Ranked Relecance 5  \n",
      "1- cricket    (5.58E-01)|1- cricket    (3.29E-01)|1- cricket    (3.27E-01)|1- cricket    (2.37E-02)|1- ground     (2.84E-03)\n",
      "2- sydney     (4.96E-02)|2- sydney     (2.12E-02)|2- ground     (7.54E-03)|2- ground     (2.13E-03)|2- cricket    (8.60E-04)\n",
      "3- ground     (6.60E-03)|3- ground     (4.63E-03)|3- sydney     (4.75E-03)|3- sydney     (9.07E-05)|3- sydney     (1.26E-06)\n",
      "4- runs       (4.62E-03)|4- the        (4.50E-04)|4- australia  (6.96E-05)|4- australia  (5.08E-06)|4- went       (4.62E-08)\n",
      "5- australia  (7.14E-04)|5- runs       (3.15E-04)|5- at         (4.74E-05)|5- failed     (2.87E-07)|5- australia  (3.31E-08)\n"
     ]
    }
   ],
   "source": [
    "print_top_rel = 5\n",
    "i=0\n",
    "print(\"Alvo\")\n",
    "print(\"{:4}: {:15}\".format('Word', words_set[X_te[exp][word_idx_target]]))\n",
    "print(\"{:4}: {:5}\".format('Tag', tag_target))\n",
    "print()\n",
    "print(\"  {:20}  |  {:20}  |  {:20}  |  {:20}  |  {:20}\".format(\"Ranked Relecance 1\", \"Ranked Relecance 2\",\n",
    "                                                        \"Ranked Relecance 3\", \"Ranked Relecance 4\", \"Ranked Relecance 5\"))\n",
    "for idx1, idx2, idx3, idx4, idx5 in zip(sorted_scr_list[0].indices, sorted_scr_list[1].indices,\n",
    "                                        sorted_scr_list[2].indices, sorted_scr_list[3].indices,\n",
    "                                        sorted_scr_list[4].indices):\n",
    "    print(\"{:1}- {:11}({:.2E})|{:1}- {:11}({:.2E})|{:1}- {:11}({:.2E})|{:1}- {:11}({:.2E})|{:1}- {:11}({:.2E})\".format(\n",
    "        i+1, words_set[X_te[exp][idx1]], sorted_scr_list[0].values[i],\n",
    "        i+1, words_set[X_te[exp][idx2]], sorted_scr_list[1].values[i],\n",
    "        i+1, words_set[X_te[exp][idx3]], sorted_scr_list[2].values[i],\n",
    "        i+1, words_set[X_te[exp][idx4]], sorted_scr_list[3].values[i],\n",
    "        i+1, words_set[X_te[exp][idx5]], sorted_scr_list[4].values[i]))\n",
    "    if i+1 == print_top_rel:\n",
    "        break\n",
    "    i += 1"
   ]
  },
  {
   "cell_type": "code",
   "execution_count": null,
   "id": "f684d521",
   "metadata": {},
   "outputs": [],
   "source": []
  },
  {
   "cell_type": "markdown",
   "id": "b376451f",
   "metadata": {},
   "source": [
    "## Test Sent I-LOC 2"
   ]
  },
  {
   "cell_type": "code",
   "execution_count": 140,
   "id": "ac833477",
   "metadata": {},
   "outputs": [
    {
     "name": "stdout",
     "output_type": "stream",
     "text": [
      "west indies batsman brian lara suffered another blow to his australian tour , after already being disciplined for misconduct , when he was dismissed cheaply in the first limited overs match against australia on friday .\n"
     ]
    }
   ],
   "source": [
    "exp = 300\n",
    "test_sent = X_te[exp]\n",
    "sentence_str = []\n",
    "for w in test_sent:\n",
    "    if w == 0:\n",
    "        break\n",
    "    sentence_str.append(words_set[w])\n",
    "print(' '.join(sentence_str))\n",
    "\n",
    "end_sent = np.where(test_sent == 0)[0][0]\n",
    "test_true = np.argmax(y_te[exp], -1)"
   ]
  },
  {
   "cell_type": "code",
   "execution_count": 146,
   "id": "5e77991d",
   "metadata": {},
   "outputs": [
    {
     "name": "stdout",
     "output_type": "stream",
     "text": [
      "Alvo\n",
      "Word: indies         \n",
      "Tag : I-LOC\n"
     ]
    }
   ],
   "source": [
    "word_idx_target = 1\n",
    "tag_target = 'I-LOC'\n",
    "print(\"Alvo\")\n",
    "print(\"{:4}: {:15}\".format('Word', words_set[X_te[exp][word_idx_target]]))\n",
    "print(\"{:4}: {:5}\".format('Tag', tag_target))"
   ]
  },
  {
   "cell_type": "code",
   "execution_count": 147,
   "id": "3da7021d",
   "metadata": {},
   "outputs": [],
   "source": [
    "pf = []\n",
    "for model in models:\n",
    "    p = model.predict(np.array([test_sent]))\n",
    "    pf.append(np.argmax(p, axis=-1))"
   ]
  },
  {
   "cell_type": "code",
   "execution_count": 148,
   "id": "30355287",
   "metadata": {},
   "outputs": [
    {
     "name": "stdout",
     "output_type": "stream",
     "text": [
      "    Word           | True    -  Pred1   -  Pred2   -  Pred3   -  Pred4   -  Pred5 \n",
      " 0- west           | B-LOC   -  B-LOC   -  B-LOC   -  B-LOC   -  B-LOC   -  B-LOC \n",
      " 1- indies         | I-LOC   -  I-LOC   -  I-LOC   -  I-LOC   -  I-LOC   -  I-LOC \n",
      " 2- batsman        | O       -  O       -  O       -  O       -  O       -  O     \n",
      " 3- brian          | B-PER   -  B-PER   -  B-PER   -  B-PER   -  B-PER   -  B-PER \n",
      " 4- lara           | I-PER   -  I-PER   -  I-PER   -  I-PER   -  I-PER   -  I-PER \n",
      " 5- suffered       | O       -  O       -  O       -  O       -  O       -  O     \n",
      " 6- another        | O       -  O       -  O       -  O       -  O       -  O     \n",
      " 7- blow           | O       -  O       -  O       -  O       -  O       -  O     \n",
      " 8- to             | O       -  O       -  O       -  O       -  O       -  O     \n",
      " 9- his            | O       -  O       -  O       -  O       -  O       -  O     \n",
      "10- australian     | B-MISC  -  B-MISC  -  B-MISC  -  B-MISC  -  B-MISC  -  B-MISC\n",
      "11- tour           | O       -  O       -  O       -  O       -  O       -  O     \n",
      "12- ,              | O       -  O       -  O       -  O       -  O       -  O     \n",
      "13- after          | O       -  O       -  O       -  O       -  O       -  O     \n",
      "14- already        | O       -  O       -  O       -  O       -  O       -  O     \n",
      "15- being          | O       -  O       -  O       -  O       -  O       -  O     \n",
      "16- disciplined    | O       -  O       -  O       -  O       -  O       -  O     \n",
      "17- for            | O       -  O       -  O       -  O       -  O       -  O     \n",
      "18- misconduct     | O       -  O       -  O       -  O       -  O       -  O     \n",
      "19- ,              | O       -  O       -  O       -  O       -  O       -  O     \n",
      "20- when           | O       -  O       -  O       -  O       -  O       -  O     \n",
      "21- he             | O       -  O       -  O       -  O       -  O       -  O     \n",
      "22- was            | O       -  O       -  O       -  O       -  O       -  O     \n",
      "23- dismissed      | O       -  O       -  O       -  O       -  O       -  O     \n",
      "24- cheaply        | O       -  O       -  O       -  O       -  O       -  O     \n",
      "25- in             | O       -  O       -  O       -  O       -  O       -  O     \n",
      "26- the            | O       -  O       -  O       -  O       -  O       -  O     \n",
      "27- first          | O       -  O       -  O       -  O       -  O       -  O     \n",
      "28- limited        | O       -  O       -  O       -  O       -  O       -  O     \n",
      "29- overs          | O       -  O       -  O       -  O       -  O       -  O     \n",
      "30- match          | O       -  O       -  O       -  O       -  O       -  O     \n",
      "31- against        | O       -  O       -  O       -  O       -  O       -  O     \n",
      "32- australia      | B-LOC   -  B-LOC   -  B-LOC   -  B-LOC   -  B-LOC   -  B-LOC \n",
      "33- on             | O       -  O       -  O       -  O       -  O       -  O     \n",
      "34- friday         | O       -  O       -  O       -  O       -  O       -  O     \n",
      "35- .              | O       -  O       -  O       -  O       -  O       -  O     \n"
     ]
    }
   ],
   "source": [
    "seq_len=0\n",
    "print(\"{:2}  {:15}| {:6}  -  {:6}  -  {:6}  -  {:6}  -  {:6}  -  {:6}\".format(\n",
    "    \"\", \"Word\", \"True\", \"Pred1\", \"Pred2\", \"Pred3\", \"Pred4\", \"Pred5\"))\n",
    "for w, t, pred1, pred2, pred3, pred4, pred5 in zip(X_te[exp], test_true, pf[0][0], pf[1][0], pf[2][0], pf[3][0], pf[4][0]):\n",
    "    if w != 0:\n",
    "        seq_len += 1\n",
    "        print(\"{:2}- {:15}| {:6}  -  {:6}  -  {:6}  -  {:6}  -  {:6}  -  {:6}\".format(\n",
    "            seq_len - 1, words_set[w], tags_set[t],\n",
    "            tags_set[pred1], tags_set[pred2], tags_set[pred3], tags_set[pred4], tags_set[pred5]))"
   ]
  },
  {
   "cell_type": "code",
   "execution_count": 149,
   "id": "d16f6c76",
   "metadata": {},
   "outputs": [],
   "source": [
    "sorted_scr_list = []\n",
    "for model in models:\n",
    "    sorted_scr_list.append(oclusion (test_sent, tags_set, word_idx_target, tag_target, model))"
   ]
  },
  {
   "cell_type": "code",
   "execution_count": 150,
   "id": "00c735e7",
   "metadata": {
    "scrolled": true
   },
   "outputs": [
    {
     "name": "stdout",
     "output_type": "stream",
     "text": [
      "Alvo\n",
      "Word: indies         \n",
      "Tag : I-LOC\n",
      "\n",
      "  Ranked Relecance 1    |  Ranked Relecance 2    |  Ranked Relecance 3    |  Ranked Relecance 4    |  Ranked Relecance 5  \n",
      "1- indies     (6.59E-01)|1- indies     (8.32E-01)|1- indies     (8.41E-01)|1- indies     (9.49E-01)|1- indies     (5.84E-01)\n",
      "2- west       (1.90E-01)|2- west       (8.51E-02)|2- west       (3.02E-02)|2- west       (7.47E-03)|2- west       (2.95E-02)\n",
      "3- batsman    (3.62E-04)|3- batsman    (2.19E-04)|3- batsman    (8.22E-05)|3- tour       (9.47E-05)|3- tour       (9.21E-06)\n",
      "4- tour       (3.42E-04)|4- tour       (2.50E-05)|4- tour       (3.34E-05)|4- lara       (4.47E-07)|4- lara       (1.82E-08)\n",
      "5- suffered   (1.01E-05)|5- lara       (3.54E-06)|5- australia  (3.31E-06)|5- australia  (7.48E-08)|5- australia  (5.90E-09)\n"
     ]
    }
   ],
   "source": [
    "print_top_rel = 5\n",
    "i=0\n",
    "print(\"Alvo\")\n",
    "print(\"{:4}: {:15}\".format('Word', words_set[X_te[exp][word_idx_target]]))\n",
    "print(\"{:4}: {:5}\".format('Tag', tag_target))\n",
    "print()\n",
    "print(\"  {:20}  |  {:20}  |  {:20}  |  {:20}  |  {:20}\".format(\"Ranked Relecance 1\", \"Ranked Relecance 2\",\n",
    "                                                        \"Ranked Relecance 3\", \"Ranked Relecance 4\", \"Ranked Relecance 5\"))\n",
    "for idx1, idx2, idx3, idx4, idx5 in zip(sorted_scr_list[0].indices, sorted_scr_list[1].indices,\n",
    "                                        sorted_scr_list[2].indices, sorted_scr_list[3].indices,\n",
    "                                        sorted_scr_list[4].indices):\n",
    "    print(\"{:1}- {:11}({:.2E})|{:1}- {:11}({:.2E})|{:1}- {:11}({:.2E})|{:1}- {:11}({:.2E})|{:1}- {:11}({:.2E})\".format(\n",
    "        i+1, words_set[X_te[exp][idx1]], sorted_scr_list[0].values[i],\n",
    "        i+1, words_set[X_te[exp][idx2]], sorted_scr_list[1].values[i],\n",
    "        i+1, words_set[X_te[exp][idx3]], sorted_scr_list[2].values[i],\n",
    "        i+1, words_set[X_te[exp][idx4]], sorted_scr_list[3].values[i],\n",
    "        i+1, words_set[X_te[exp][idx5]], sorted_scr_list[4].values[i]))\n",
    "    if i+1 == print_top_rel:\n",
    "        break\n",
    "    i += 1"
   ]
  },
  {
   "cell_type": "code",
   "execution_count": null,
   "id": "1a394548",
   "metadata": {},
   "outputs": [],
   "source": [
    "19 (borg o) 349 (bloc borg)"
   ]
  },
  {
   "cell_type": "markdown",
   "id": "fb91337b",
   "metadata": {},
   "source": [
    "## Test Sent I-ORG 1"
   ]
  },
  {
   "cell_type": "code",
   "execution_count": 513,
   "id": "e85e79ee",
   "metadata": {},
   "outputs": [
    {
     "name": "stdout",
     "output_type": "stream",
     "text": [
      "( corrects headline from nba to nhl and corrects team name in second result from la clippers to ny islanders .\n"
     ]
    }
   ],
   "source": [
    "exp = 405\n",
    "test_sent = X_te[exp]\n",
    "sentence_str = []\n",
    "for w in test_sent:\n",
    "    if w == 0:\n",
    "        break\n",
    "    sentence_str.append(words_set[w])\n",
    "print(' '.join(sentence_str))\n",
    "\n",
    "end_sent = np.where(test_sent == 0)[0][0]\n",
    "test_true = np.argmax(y_te[exp], -1)"
   ]
  },
  {
   "cell_type": "code",
   "execution_count": 514,
   "id": "179cee64",
   "metadata": {},
   "outputs": [
    {
     "name": "stdout",
     "output_type": "stream",
     "text": [
      "Alvo\n",
      "Word: clippers       \n",
      "Tag : I-ORG\n"
     ]
    }
   ],
   "source": [
    "word_idx_target = 16\n",
    "tag_target = 'I-ORG'\n",
    "print(\"Alvo\")\n",
    "print(\"{:4}: {:15}\".format('Word', words_set[X_te[exp][word_idx_target]]))\n",
    "print(\"{:4}: {:5}\".format('Tag', tag_target))"
   ]
  },
  {
   "cell_type": "code",
   "execution_count": 515,
   "id": "ba6e7726",
   "metadata": {},
   "outputs": [],
   "source": [
    "pf = []\n",
    "for model in models:\n",
    "    p = model.predict(np.array([test_sent]))\n",
    "    pf.append(np.argmax(p, axis=-1))"
   ]
  },
  {
   "cell_type": "code",
   "execution_count": 516,
   "id": "68d6e92b",
   "metadata": {},
   "outputs": [
    {
     "name": "stdout",
     "output_type": "stream",
     "text": [
      "    Word           | True    -  Pred1   -  Pred2   -  Pred3   -  Pred4   -  Pred5 \n",
      " 0- (              | O       -  O       -  O       -  O       -  O       -  O     \n",
      " 1- corrects       | O       -  O       -  O       -  O       -  O       -  O     \n",
      " 2- headline       | O       -  O       -  O       -  O       -  O       -  O     \n",
      " 3- from           | O       -  O       -  O       -  O       -  O       -  O     \n",
      " 4- nba            | B-ORG   -  O       -  O       -  O       -  O       -  O     \n",
      " 5- to             | O       -  O       -  O       -  O       -  O       -  O     \n",
      " 6- nhl            | B-ORG   -  O       -  O       -  O       -  O       -  O     \n",
      " 7- and            | O       -  O       -  O       -  O       -  O       -  O     \n",
      " 8- corrects       | O       -  O       -  O       -  O       -  O       -  O     \n",
      " 9- team           | O       -  O       -  O       -  O       -  O       -  O     \n",
      "10- name           | O       -  O       -  O       -  O       -  O       -  O     \n",
      "11- in             | O       -  O       -  O       -  O       -  O       -  O     \n",
      "12- second         | O       -  O       -  O       -  O       -  O       -  O     \n",
      "13- result         | O       -  O       -  O       -  O       -  O       -  O     \n",
      "14- from           | O       -  O       -  O       -  O       -  O       -  O     \n",
      "15- la             | B-ORG   -  B-ORG   -  B-ORG   -  B-ORG   -  B-ORG   -  B-ORG \n",
      "16- clippers       | I-ORG   -  I-ORG   -  I-ORG   -  I-ORG   -  I-ORG   -  I-ORG \n",
      "17- to             | O       -  O       -  O       -  O       -  O       -  O     \n",
      "18- ny             | B-ORG   -  B-ORG   -  O       -  O       -  O       -  O     \n",
      "19- islanders      | I-ORG   -  I-ORG   -  I-ORG   -  I-ORG   -  I-ORG   -  I-ORG \n",
      "20- .              | O       -  O       -  O       -  O       -  O       -  O     \n"
     ]
    }
   ],
   "source": [
    "seq_len=0\n",
    "print(\"{:2}  {:15}| {:6}  -  {:6}  -  {:6}  -  {:6}  -  {:6}  -  {:6}\".format(\n",
    "    \"\", \"Word\", \"True\", \"Pred1\", \"Pred2\", \"Pred3\", \"Pred4\", \"Pred5\"))\n",
    "for w, t, pred1, pred2, pred3, pred4, pred5 in zip(X_te[exp], test_true, pf[0][0], pf[1][0], pf[2][0], pf[3][0], pf[4][0]):\n",
    "    if w != 0:\n",
    "        seq_len += 1\n",
    "        print(\"{:2}- {:15}| {:6}  -  {:6}  -  {:6}  -  {:6}  -  {:6}  -  {:6}\".format(\n",
    "            seq_len - 1, words_set[w], tags_set[t],\n",
    "            tags_set[pred1], tags_set[pred2], tags_set[pred3], tags_set[pred4], tags_set[pred5]))"
   ]
  },
  {
   "cell_type": "code",
   "execution_count": 517,
   "id": "b6f42edb",
   "metadata": {},
   "outputs": [],
   "source": [
    "sorted_scr_list = []\n",
    "for model in models:\n",
    "    sorted_scr_list.append(oclusion (test_sent, tags_set, word_idx_target, tag_target, model))"
   ]
  },
  {
   "cell_type": "code",
   "execution_count": 518,
   "id": "8d004757",
   "metadata": {
    "scrolled": true
   },
   "outputs": [
    {
     "name": "stdout",
     "output_type": "stream",
     "text": [
      "Alvo\n",
      "Word: clippers       \n",
      "Tag : I-ORG\n",
      "\n",
      "  Ranked Relecance 1    |  Ranked Relecance 2    |  Ranked Relecance 3    |  Ranked Relecance 4    |  Ranked Relecance 5  \n",
      "1- clippers   (8.19E-01)|1- clippers   (9.63E-01)|1- clippers   (9.93E-01)|1- clippers   (9.83E-01)|1- clippers   (5.08E-01)\n",
      "2- to         (8.57E-02)|2- to         (4.87E-02)|2- to         (2.71E-02)|2- islanders  (1.11E-02)|2- islanders  (2.00E-03)\n",
      "3- la         (5.46E-02)|3- ny         (3.09E-02)|3- islanders  (1.68E-02)|3- to         (8.62E-05)|3- ny         (5.22E-05)\n",
      "4- ny         (2.08E-02)|4- islanders  (6.42E-03)|4- ny         (1.00E-02)|4- nba        (2.24E-05)|4- team       (5.23E-07)\n",
      "5- islanders  (1.62E-03)|5- la         (5.74E-03)|5- la         (2.42E-03)|5- ny         (1.93E-05)|5- to         (5.22E-07)\n"
     ]
    }
   ],
   "source": [
    "print_top_rel = 5\n",
    "i=0\n",
    "print(\"Alvo\")\n",
    "print(\"{:4}: {:15}\".format('Word', words_set[X_te[exp][word_idx_target]]))\n",
    "print(\"{:4}: {:5}\".format('Tag', tag_target))\n",
    "print()\n",
    "print(\"  {:20}  |  {:20}  |  {:20}  |  {:20}  |  {:20}\".format(\"Ranked Relecance 1\", \"Ranked Relecance 2\",\n",
    "                                                        \"Ranked Relecance 3\", \"Ranked Relecance 4\", \"Ranked Relecance 5\"))\n",
    "for idx1, idx2, idx3, idx4, idx5 in zip(sorted_scr_list[0].indices, sorted_scr_list[1].indices,\n",
    "                                        sorted_scr_list[2].indices, sorted_scr_list[3].indices,\n",
    "                                        sorted_scr_list[4].indices):\n",
    "    print(\"{:1}- {:11}({:.2E})|{:1}- {:11}({:.2E})|{:1}- {:11}({:.2E})|{:1}- {:11}({:.2E})|{:1}- {:11}({:.2E})\".format(\n",
    "        i+1, words_set[X_te[exp][idx1]], sorted_scr_list[0].values[i],\n",
    "        i+1, words_set[X_te[exp][idx2]], sorted_scr_list[1].values[i],\n",
    "        i+1, words_set[X_te[exp][idx3]], sorted_scr_list[2].values[i],\n",
    "        i+1, words_set[X_te[exp][idx4]], sorted_scr_list[3].values[i],\n",
    "        i+1, words_set[X_te[exp][idx5]], sorted_scr_list[4].values[i]))\n",
    "    if i+1 == print_top_rel:\n",
    "        break\n",
    "    i += 1"
   ]
  },
  {
   "cell_type": "code",
   "execution_count": null,
   "id": "2abfd9ca",
   "metadata": {},
   "outputs": [],
   "source": []
  },
  {
   "cell_type": "markdown",
   "id": "7271776c",
   "metadata": {},
   "source": [
    "## Test Sent O - B-PER"
   ]
  },
  {
   "cell_type": "code",
   "execution_count": 519,
   "id": "0f3d344c",
   "metadata": {},
   "outputs": [
    {
     "name": "stdout",
     "output_type": "stream",
     "text": [
      "nader jokhadar had given syria the lead with a well-struck header in the seventh minute .\n"
     ]
    }
   ],
   "source": [
    "exp = 13\n",
    "test_sent = X_te[exp]\n",
    "sentence_str = []\n",
    "for w in test_sent:\n",
    "    if w == 0:\n",
    "        break\n",
    "    sentence_str.append(words_set[w])\n",
    "print(' '.join(sentence_str))\n",
    "\n",
    "end_sent = np.where(test_sent == 0)[0][0]\n",
    "test_true = np.argmax(y_te[exp], -1)"
   ]
  },
  {
   "cell_type": "code",
   "execution_count": 520,
   "id": "94f9449c",
   "metadata": {},
   "outputs": [
    {
     "name": "stdout",
     "output_type": "stream",
     "text": [
      "Alvo\n",
      "Word: well-struck    \n",
      "Tag : O    \n"
     ]
    }
   ],
   "source": [
    "word_idx_target = 9\n",
    "tag_target = 'O'\n",
    "print(\"Alvo\")\n",
    "print(\"{:4}: {:15}\".format('Word', words_set[X_te[exp][word_idx_target]]))\n",
    "print(\"{:4}: {:5}\".format('Tag', tag_target))"
   ]
  },
  {
   "cell_type": "code",
   "execution_count": 521,
   "id": "1af84b1b",
   "metadata": {},
   "outputs": [],
   "source": [
    "pf = []\n",
    "for model in models:\n",
    "    p = model.predict(np.array([test_sent]))\n",
    "    pf.append(np.argmax(p, axis=-1))"
   ]
  },
  {
   "cell_type": "code",
   "execution_count": 522,
   "id": "0e2296d9",
   "metadata": {},
   "outputs": [
    {
     "name": "stdout",
     "output_type": "stream",
     "text": [
      "    Word           | True    -  Pred1   -  Pred2   -  Pred3   -  Pred4   -  Pred5 \n",
      " 0- nader          | B-PER   -  B-PER   -  B-PER   -  B-PER   -  B-PER   -  B-PER \n",
      " 1- jokhadar       | I-PER   -  I-PER   -  I-PER   -  I-PER   -  I-PER   -  I-PER \n",
      " 2- had            | O       -  O       -  O       -  O       -  O       -  O     \n",
      " 3- given          | O       -  O       -  O       -  O       -  O       -  O     \n",
      " 4- syria          | B-LOC   -  B-LOC   -  B-LOC   -  B-LOC   -  B-LOC   -  B-LOC \n",
      " 5- the            | O       -  O       -  O       -  O       -  O       -  O     \n",
      " 6- lead           | O       -  O       -  O       -  O       -  O       -  O     \n",
      " 7- with           | O       -  O       -  O       -  O       -  O       -  O     \n",
      " 8- a              | O       -  O       -  O       -  O       -  O       -  O     \n",
      " 9- well-struck    | O       -  B-PER   -  O       -  O       -  O       -  O     \n",
      "10- header         | O       -  O       -  O       -  O       -  O       -  O     \n",
      "11- in             | O       -  O       -  O       -  O       -  O       -  O     \n",
      "12- the            | O       -  O       -  O       -  O       -  O       -  O     \n",
      "13- seventh        | O       -  O       -  O       -  O       -  O       -  O     \n",
      "14- minute         | O       -  O       -  O       -  O       -  O       -  O     \n",
      "15- .              | O       -  O       -  O       -  O       -  O       -  O     \n"
     ]
    }
   ],
   "source": [
    "seq_len=0\n",
    "print(\"{:2}  {:15}| {:6}  -  {:6}  -  {:6}  -  {:6}  -  {:6}  -  {:6}\".format(\n",
    "    \"\", \"Word\", \"True\", \"Pred1\", \"Pred2\", \"Pred3\", \"Pred4\", \"Pred5\"))\n",
    "for w, t, pred1, pred2, pred3, pred4, pred5 in zip(X_te[exp], test_true, pf[0][0], pf[1][0], pf[2][0], pf[3][0], pf[4][0]):\n",
    "    if w != 0:\n",
    "        seq_len += 1\n",
    "        print(\"{:2}- {:15}| {:6}  -  {:6}  -  {:6}  -  {:6}  -  {:6}  -  {:6}\".format(\n",
    "            seq_len - 1, words_set[w], tags_set[t],\n",
    "            tags_set[pred1], tags_set[pred2], tags_set[pred3], tags_set[pred4], tags_set[pred5]))"
   ]
  },
  {
   "cell_type": "code",
   "execution_count": 523,
   "id": "13eff332",
   "metadata": {},
   "outputs": [],
   "source": [
    "sorted_scr_list = []\n",
    "for model in models:\n",
    "    sorted_scr_list.append(oclusion (test_sent, tags_set, word_idx_target, tag_target, model))"
   ]
  },
  {
   "cell_type": "code",
   "execution_count": 524,
   "id": "e4e4b836",
   "metadata": {
    "scrolled": true
   },
   "outputs": [
    {
     "name": "stdout",
     "output_type": "stream",
     "text": [
      "Alvo\n",
      "Word: well-struck    \n",
      "Tag : O    \n",
      "\n",
      "  Ranked Relecance 1    |  Ranked Relecance 2    |  Ranked Relecance 3    |  Ranked Relecance 4    |  Ranked Relecance 5  \n",
      "1- well-struck(4.07E-01)|1- well-struck(7.02E-01)|1- well-struck(9.12E-01)|1- well-struck(9.52E-01)|1- well-struck(9.98E-01)\n",
      "2- header     (2.21E-02)|2- a          (1.18E-03)|2- a          (4.14E-03)|2- a          (2.21E-04)|2- a          (1.33E-04)\n",
      "3- jokhadar   (2.94E-03)|3- jokhadar   (9.79E-04)|3- nader      (9.60E-04)|3- nader      (6.04E-05)|3- nader      (2.86E-06)\n",
      "4- syria      (8.25E-04)|4- syria      (5.68E-04)|4- jokhadar   (4.49E-04)|4- jokhadar   (5.46E-05)|4- jokhadar   (1.76E-06)\n",
      "5- nader      (2.87E-04)|5- header     (4.78E-04)|5- syria      (1.91E-04)|5- syria      (1.86E-05)|5- minute     (1.19E-07)\n"
     ]
    }
   ],
   "source": [
    "print_top_rel = 5\n",
    "i=0\n",
    "print(\"Alvo\")\n",
    "print(\"{:4}: {:15}\".format('Word', words_set[X_te[exp][word_idx_target]]))\n",
    "print(\"{:4}: {:5}\".format('Tag', tag_target))\n",
    "print()\n",
    "print(\"  {:20}  |  {:20}  |  {:20}  |  {:20}  |  {:20}\".format(\"Ranked Relecance 1\", \"Ranked Relecance 2\",\n",
    "                                                        \"Ranked Relecance 3\", \"Ranked Relecance 4\", \"Ranked Relecance 5\"))\n",
    "for idx1, idx2, idx3, idx4, idx5 in zip(sorted_scr_list[0].indices, sorted_scr_list[1].indices,\n",
    "                                        sorted_scr_list[2].indices, sorted_scr_list[3].indices,\n",
    "                                        sorted_scr_list[4].indices):\n",
    "    print(\"{:1}- {:11}({:.2E})|{:1}- {:11}({:.2E})|{:1}- {:11}({:.2E})|{:1}- {:11}({:.2E})|{:1}- {:11}({:.2E})\".format(\n",
    "        i+1, words_set[X_te[exp][idx1]], sorted_scr_list[0].values[i],\n",
    "        i+1, words_set[X_te[exp][idx2]], sorted_scr_list[1].values[i],\n",
    "        i+1, words_set[X_te[exp][idx3]], sorted_scr_list[2].values[i],\n",
    "        i+1, words_set[X_te[exp][idx4]], sorted_scr_list[3].values[i],\n",
    "        i+1, words_set[X_te[exp][idx5]], sorted_scr_list[4].values[i]))\n",
    "    if i+1 == print_top_rel:\n",
    "        break\n",
    "    i += 1"
   ]
  },
  {
   "cell_type": "code",
   "execution_count": 525,
   "id": "5d68ce97",
   "metadata": {},
   "outputs": [
    {
     "name": "stdout",
     "output_type": "stream",
     "text": [
      "Alvo\n",
      "Word: well-struck    \n",
      "Tag : B-PER\n"
     ]
    }
   ],
   "source": [
    "tag_target = 'B-PER'\n",
    "print(\"Alvo\")\n",
    "print(\"{:4}: {:15}\".format('Word', words_set[X_te[exp][word_idx_target]]))\n",
    "print(\"{:4}: {:5}\".format('Tag', tag_target))"
   ]
  },
  {
   "cell_type": "code",
   "execution_count": 526,
   "id": "cc6503cc",
   "metadata": {},
   "outputs": [],
   "source": [
    "sorted_scr_list = []\n",
    "for model in models:\n",
    "    sorted_scr_list.append(oclusion (test_sent, tags_set, word_idx_target, tag_target, model))"
   ]
  },
  {
   "cell_type": "code",
   "execution_count": 527,
   "id": "120e5dd2",
   "metadata": {},
   "outputs": [
    {
     "name": "stdout",
     "output_type": "stream",
     "text": [
      "Alvo\n",
      "Word: well-struck    \n",
      "Tag : B-PER\n",
      "\n",
      "  Ranked Relecance 1    |  Ranked Relecance 2    |  Ranked Relecance 3    |  Ranked Relecance 4    |  Ranked Relecance 5  \n",
      "1- well-struck(5.51E-01)|1- well-struck(2.87E-01)|1- well-struck(7.35E-02)|1- well-struck(9.12E-03)|1- well-struck(7.40E-04)\n",
      "2- jokhadar   (2.89E-03)|2- a          (1.08E-03)|2- a          (4.02E-03)|2- a          (2.20E-04)|2- a          (1.32E-04)\n",
      "3- header     (1.92E-03)|3- jokhadar   (5.01E-04)|3- nader      (1.71E-03)|3- nader      (7.81E-05)|3- nader      (3.70E-06)\n",
      "4- nader      (6.41E-04)|4- nader      (4.01E-04)|4- syria      (8.52E-05)|4- syria      (1.06E-05)|4- jokhadar   (5.15E-07)\n",
      "5- a          (1.18E-04)|5- syria      (8.01E-05)|5- jokhadar   (4.58E-05)|5- jokhadar   (4.18E-06)|5- syria      (2.37E-07)\n"
     ]
    }
   ],
   "source": [
    "print_top_rel = 5\n",
    "i=0\n",
    "print(\"Alvo\")\n",
    "print(\"{:4}: {:15}\".format('Word', words_set[X_te[exp][word_idx_target]]))\n",
    "print(\"{:4}: {:5}\".format('Tag', tag_target))\n",
    "print()\n",
    "print(\"  {:20}  |  {:20}  |  {:20}  |  {:20}  |  {:20}\".format(\"Ranked Relecance 1\", \"Ranked Relecance 2\",\n",
    "                                                        \"Ranked Relecance 3\", \"Ranked Relecance 4\", \"Ranked Relecance 5\"))\n",
    "for idx1, idx2, idx3, idx4, idx5 in zip(sorted_scr_list[0].indices, sorted_scr_list[1].indices,\n",
    "                                        sorted_scr_list[2].indices, sorted_scr_list[3].indices,\n",
    "                                        sorted_scr_list[4].indices):\n",
    "    print(\"{:1}- {:11}({:.2E})|{:1}- {:11}({:.2E})|{:1}- {:11}({:.2E})|{:1}- {:11}({:.2E})|{:1}- {:11}({:.2E})\".format(\n",
    "        i+1, words_set[X_te[exp][idx1]], sorted_scr_list[0].values[i],\n",
    "        i+1, words_set[X_te[exp][idx2]], sorted_scr_list[1].values[i],\n",
    "        i+1, words_set[X_te[exp][idx3]], sorted_scr_list[2].values[i],\n",
    "        i+1, words_set[X_te[exp][idx4]], sorted_scr_list[3].values[i],\n",
    "        i+1, words_set[X_te[exp][idx5]], sorted_scr_list[4].values[i]))\n",
    "    if i+1 == print_top_rel:\n",
    "        break\n",
    "    i += 1"
   ]
  },
  {
   "cell_type": "code",
   "execution_count": 528,
   "id": "550ead72",
   "metadata": {},
   "outputs": [
    {
     "name": "stdout",
     "output_type": "stream",
     "text": [
      "Alvo\n",
      "Word: header         \n",
      "Tag : I-PER\n"
     ]
    }
   ],
   "source": [
    "word_idx_target = 10\n",
    "tag_target = 'I-PER'\n",
    "print(\"Alvo\")\n",
    "print(\"{:4}: {:15}\".format('Word', words_set[X_te[exp][word_idx_target]]))\n",
    "print(\"{:4}: {:5}\".format('Tag', tag_target))"
   ]
  },
  {
   "cell_type": "code",
   "execution_count": 529,
   "id": "2be09185",
   "metadata": {},
   "outputs": [],
   "source": [
    "sorted_scr_list = []\n",
    "for model in models:\n",
    "    sorted_scr_list.append(oclusion (test_sent, tags_set, word_idx_target, tag_target, model))"
   ]
  },
  {
   "cell_type": "code",
   "execution_count": 530,
   "id": "868b90a3",
   "metadata": {
    "scrolled": true
   },
   "outputs": [
    {
     "name": "stdout",
     "output_type": "stream",
     "text": [
      "Alvo\n",
      "Word: header         \n",
      "Tag : I-PER\n",
      "\n",
      "  Ranked Relecance 1    |  Ranked Relecance 2    |  Ranked Relecance 3    |  Ranked Relecance 4    |  Ranked Relecance 5  \n",
      "1- header     (2.43E-02)|1- jokhadar   (8.34E-04)|1- well-struck(2.88E-04)|1- jokhadar   (3.57E-04)|1- jokhadar   (8.73E-04)\n",
      "2- jokhadar   (1.54E-03)|2- header     (4.07E-04)|2- jokhadar   (7.04E-05)|2- well-struck(1.37E-04)|2- well-struck(1.36E-05)\n",
      "3- well-struck(1.96E-04)|3- well-struck(1.61E-04)|3- header     (3.28E-05)|3- nader      (5.76E-06)|3- nader      (2.41E-06)\n",
      "4- minute     (3.97E-05)|4- nader      (2.44E-05)|4- in         (2.05E-06)|4- header     (1.20E-07)|4- the        (2.31E-10)\n",
      "5- nader      (3.31E-05)|5- in         (4.83E-06)|5- nader      (1.85E-06)|5- syria      (3.25E-08)|5- syria      (2.16E-10)\n"
     ]
    }
   ],
   "source": [
    "print_top_rel = 5\n",
    "i=0\n",
    "print(\"Alvo\")\n",
    "print(\"{:4}: {:15}\".format('Word', words_set[X_te[exp][word_idx_target]]))\n",
    "print(\"{:4}: {:5}\".format('Tag', tag_target))\n",
    "print()\n",
    "print(\"  {:20}  |  {:20}  |  {:20}  |  {:20}  |  {:20}\".format(\"Ranked Relecance 1\", \"Ranked Relecance 2\",\n",
    "                                                        \"Ranked Relecance 3\", \"Ranked Relecance 4\", \"Ranked Relecance 5\"))\n",
    "for idx1, idx2, idx3, idx4, idx5 in zip(sorted_scr_list[0].indices, sorted_scr_list[1].indices,\n",
    "                                        sorted_scr_list[2].indices, sorted_scr_list[3].indices,\n",
    "                                        sorted_scr_list[4].indices):\n",
    "    print(\"{:1}- {:11}({:.2E})|{:1}- {:11}({:.2E})|{:1}- {:11}({:.2E})|{:1}- {:11}({:.2E})|{:1}- {:11}({:.2E})\".format(\n",
    "        i+1, words_set[X_te[exp][idx1]], sorted_scr_list[0].values[i],\n",
    "        i+1, words_set[X_te[exp][idx2]], sorted_scr_list[1].values[i],\n",
    "        i+1, words_set[X_te[exp][idx3]], sorted_scr_list[2].values[i],\n",
    "        i+1, words_set[X_te[exp][idx4]], sorted_scr_list[3].values[i],\n",
    "        i+1, words_set[X_te[exp][idx5]], sorted_scr_list[4].values[i]))\n",
    "    if i+1 == print_top_rel:\n",
    "        break\n",
    "    i += 1"
   ]
  },
  {
   "cell_type": "markdown",
   "id": "955db7dd",
   "metadata": {},
   "source": [
    "## Test Sent O - B-LOC"
   ]
  },
  {
   "cell_type": "code",
   "execution_count": 531,
   "id": "6339da17",
   "metadata": {},
   "outputs": [
    {
     "name": "stdout",
     "output_type": "stream",
     "text": [
      "japan coach shu kamo said : ' ' the syrian own goal proved lucky for us .\n"
     ]
    }
   ],
   "source": [
    "exp = 16\n",
    "test_sent = X_te[exp]\n",
    "sentence_str = []\n",
    "for w in test_sent:\n",
    "    if w == 0:\n",
    "        break\n",
    "    sentence_str.append(words_set[w])\n",
    "print(' '.join(sentence_str))\n",
    "\n",
    "end_sent = np.where(test_sent == 0)[0][0]\n",
    "test_true = np.argmax(y_te[exp], -1)"
   ]
  },
  {
   "cell_type": "code",
   "execution_count": 532,
   "id": "89fcfbb8",
   "metadata": {},
   "outputs": [
    {
     "name": "stdout",
     "output_type": "stream",
     "text": [
      "Alvo\n",
      "Word: us             \n",
      "Tag : O    \n"
     ]
    }
   ],
   "source": [
    "word_idx_target = 15\n",
    "tag_target = 'O'\n",
    "print(\"Alvo\")\n",
    "print(\"{:4}: {:15}\".format('Word', words_set[X_te[exp][word_idx_target]]))\n",
    "print(\"{:4}: {:5}\".format('Tag', tag_target))"
   ]
  },
  {
   "cell_type": "code",
   "execution_count": 533,
   "id": "a4a79b43",
   "metadata": {},
   "outputs": [],
   "source": [
    "pf = []\n",
    "for model in models:\n",
    "    p = model.predict(np.array([test_sent]))\n",
    "    pf.append(np.argmax(p, axis=-1))"
   ]
  },
  {
   "cell_type": "code",
   "execution_count": 534,
   "id": "31109929",
   "metadata": {},
   "outputs": [
    {
     "name": "stdout",
     "output_type": "stream",
     "text": [
      "    Word           | True    -  Pred1   -  Pred2   -  Pred3   -  Pred4   -  Pred5 \n",
      " 0- japan          | B-LOC   -  B-LOC   -  B-LOC   -  B-LOC   -  B-LOC   -  B-LOC \n",
      " 1- coach          | O       -  O       -  O       -  O       -  O       -  O     \n",
      " 2- shu            | B-PER   -  B-PER   -  B-PER   -  B-PER   -  B-PER   -  B-PER \n",
      " 3- kamo           | I-PER   -  I-PER   -  I-PER   -  I-PER   -  I-PER   -  I-PER \n",
      " 4- said           | O       -  O       -  O       -  O       -  O       -  O     \n",
      " 5- :              | O       -  O       -  O       -  O       -  O       -  O     \n",
      " 6- '              | O       -  O       -  O       -  O       -  O       -  O     \n",
      " 7- '              | O       -  O       -  O       -  O       -  O       -  O     \n",
      " 8- the            | O       -  O       -  O       -  O       -  O       -  O     \n",
      " 9- syrian         | B-MISC  -  B-MISC  -  B-MISC  -  B-MISC  -  B-MISC  -  B-MISC\n",
      "10- own            | O       -  O       -  O       -  O       -  O       -  O     \n",
      "11- goal           | O       -  O       -  O       -  O       -  O       -  O     \n",
      "12- proved         | O       -  O       -  O       -  O       -  O       -  O     \n",
      "13- lucky          | O       -  O       -  O       -  O       -  O       -  O     \n",
      "14- for            | O       -  O       -  O       -  O       -  O       -  O     \n",
      "15- us             | O       -  B-LOC   -  O       -  O       -  O       -  O     \n",
      "16- .              | O       -  O       -  O       -  O       -  O       -  O     \n"
     ]
    }
   ],
   "source": [
    "seq_len=0\n",
    "print(\"{:2}  {:15}| {:6}  -  {:6}  -  {:6}  -  {:6}  -  {:6}  -  {:6}\".format(\n",
    "    \"\", \"Word\", \"True\", \"Pred1\", \"Pred2\", \"Pred3\", \"Pred4\", \"Pred5\"))\n",
    "for w, t, pred1, pred2, pred3, pred4, pred5 in zip(X_te[exp], test_true, pf[0][0], pf[1][0], pf[2][0], pf[3][0], pf[4][0]):\n",
    "    if w != 0:\n",
    "        seq_len += 1\n",
    "        print(\"{:2}- {:15}| {:6}  -  {:6}  -  {:6}  -  {:6}  -  {:6}  -  {:6}\".format(\n",
    "            seq_len - 1, words_set[w], tags_set[t],\n",
    "            tags_set[pred1], tags_set[pred2], tags_set[pred3], tags_set[pred4], tags_set[pred5]))"
   ]
  },
  {
   "cell_type": "code",
   "execution_count": 535,
   "id": "36b12b17",
   "metadata": {},
   "outputs": [],
   "source": [
    "sorted_scr_list = []\n",
    "for model in models:\n",
    "    sorted_scr_list.append(oclusion (test_sent, tags_set, word_idx_target, tag_target, model))"
   ]
  },
  {
   "cell_type": "code",
   "execution_count": 536,
   "id": "93aaf1ef",
   "metadata": {
    "scrolled": true
   },
   "outputs": [
    {
     "name": "stdout",
     "output_type": "stream",
     "text": [
      "Alvo\n",
      "Word: us             \n",
      "Tag : O    \n",
      "\n",
      "  Ranked Relecance 1    |  Ranked Relecance 2    |  Ranked Relecance 3    |  Ranked Relecance 4    |  Ranked Relecance 5  \n",
      "1- us         (3.80E-01)|1- us         (7.75E-01)|1- us         (9.60E-01)|1- us         (9.73E-01)|1- us         (9.98E-01)\n",
      "2- .          (6.31E-03)|2- .          (1.35E-03)|2- :          (7.40E-04)|2- :          (7.24E-03)|2- said       (2.15E-02)\n",
      "3- lucky      (4.39E-03)|3- own        (9.19E-04)|3- .          (5.74E-04)|3- said       (1.13E-03)|3- :          (2.84E-04)\n",
      "4- '          (1.44E-03)|4- lucky      (7.54E-04)|4- coach      (2.03E-04)|4- kamo       (2.42E-05)|4- own        (1.03E-05)\n",
      "5- '          (7.91E-04)|5- :          (5.61E-04)|5- goal       (2.00E-04)|5- lucky      (2.21E-05)|5- goal       (3.81E-06)\n"
     ]
    }
   ],
   "source": [
    "print_top_rel = 5\n",
    "i=0\n",
    "print(\"Alvo\")\n",
    "print(\"{:4}: {:15}\".format('Word', words_set[X_te[exp][word_idx_target]]))\n",
    "print(\"{:4}: {:5}\".format('Tag', tag_target))\n",
    "print()\n",
    "print(\"  {:20}  |  {:20}  |  {:20}  |  {:20}  |  {:20}\".format(\"Ranked Relecance 1\", \"Ranked Relecance 2\",\n",
    "                                                        \"Ranked Relecance 3\", \"Ranked Relecance 4\", \"Ranked Relecance 5\"))\n",
    "for idx1, idx2, idx3, idx4, idx5 in zip(sorted_scr_list[0].indices, sorted_scr_list[1].indices,\n",
    "                                        sorted_scr_list[2].indices, sorted_scr_list[3].indices,\n",
    "                                        sorted_scr_list[4].indices):\n",
    "    print(\"{:1}- {:11}({:.2E})|{:1}- {:11}({:.2E})|{:1}- {:11}({:.2E})|{:1}- {:11}({:.2E})|{:1}- {:11}({:.2E})\".format(\n",
    "        i+1, words_set[X_te[exp][idx1]], sorted_scr_list[0].values[i],\n",
    "        i+1, words_set[X_te[exp][idx2]], sorted_scr_list[1].values[i],\n",
    "        i+1, words_set[X_te[exp][idx3]], sorted_scr_list[2].values[i],\n",
    "        i+1, words_set[X_te[exp][idx4]], sorted_scr_list[3].values[i],\n",
    "        i+1, words_set[X_te[exp][idx5]], sorted_scr_list[4].values[i]))\n",
    "    if i+1 == print_top_rel:\n",
    "        break\n",
    "    i += 1"
   ]
  },
  {
   "cell_type": "code",
   "execution_count": 537,
   "id": "76ad77d8",
   "metadata": {},
   "outputs": [
    {
     "name": "stdout",
     "output_type": "stream",
     "text": [
      "Alvo\n",
      "Word: us             \n",
      "Tag : B-LOC\n"
     ]
    }
   ],
   "source": [
    "tag_target = 'B-LOC'\n",
    "print(\"Alvo\")\n",
    "print(\"{:4}: {:15}\".format('Word', words_set[X_te[exp][word_idx_target]]))\n",
    "print(\"{:4}: {:5}\".format('Tag', tag_target))"
   ]
  },
  {
   "cell_type": "code",
   "execution_count": 538,
   "id": "ba54174d",
   "metadata": {},
   "outputs": [],
   "source": [
    "sorted_scr_list = []\n",
    "for model in models:\n",
    "    sorted_scr_list.append(oclusion (test_sent, tags_set, word_idx_target, tag_target, model))"
   ]
  },
  {
   "cell_type": "code",
   "execution_count": 539,
   "id": "845d06d7",
   "metadata": {},
   "outputs": [
    {
     "name": "stdout",
     "output_type": "stream",
     "text": [
      "Alvo\n",
      "Word: us             \n",
      "Tag : B-LOC\n",
      "\n",
      "  Ranked Relecance 1    |  Ranked Relecance 2    |  Ranked Relecance 3    |  Ranked Relecance 4    |  Ranked Relecance 5  \n",
      "1- us         (4.90E-01)|1- us         (1.79E-01)|1- us         (3.27E-02)|1- us         (2.57E-02)|1- us         (2.08E-03)\n",
      "2- lucky      (2.03E-04)|2- :          (4.01E-04)|2- :          (4.83E-04)|2- :          (7.12E-03)|2- :          (2.18E-04)\n",
      "3- syrian     (1.92E-04)|3- syrian     (1.14E-04)|3- syrian     (7.26E-05)|3- syrian     (3.65E-04)|3- syrian     (5.60E-06)\n",
      "4- .          (7.70E-05)|4- japan      (8.40E-05)|4- japan      (2.09E-05)|4- japan      (3.88E-05)|4- japan      (3.58E-07)\n",
      "5- japan      (4.05E-05)|5- shu        (2.90E-05)|5- .          (7.79E-06)|5- .          (3.20E-06)|5- .          (2.36E-07)\n"
     ]
    }
   ],
   "source": [
    "print_top_rel = 5\n",
    "i=0\n",
    "print(\"Alvo\")\n",
    "print(\"{:4}: {:15}\".format('Word', words_set[X_te[exp][word_idx_target]]))\n",
    "print(\"{:4}: {:5}\".format('Tag', tag_target))\n",
    "print()\n",
    "print(\"  {:20}  |  {:20}  |  {:20}  |  {:20}  |  {:20}\".format(\"Ranked Relecance 1\", \"Ranked Relecance 2\",\n",
    "                                                        \"Ranked Relecance 3\", \"Ranked Relecance 4\", \"Ranked Relecance 5\"))\n",
    "for idx1, idx2, idx3, idx4, idx5 in zip(sorted_scr_list[0].indices, sorted_scr_list[1].indices,\n",
    "                                        sorted_scr_list[2].indices, sorted_scr_list[3].indices,\n",
    "                                        sorted_scr_list[4].indices):\n",
    "    print(\"{:1}- {:11}({:.2E})|{:1}- {:11}({:.2E})|{:1}- {:11}({:.2E})|{:1}- {:11}({:.2E})|{:1}- {:11}({:.2E})\".format(\n",
    "        i+1, words_set[X_te[exp][idx1]], sorted_scr_list[0].values[i],\n",
    "        i+1, words_set[X_te[exp][idx2]], sorted_scr_list[1].values[i],\n",
    "        i+1, words_set[X_te[exp][idx3]], sorted_scr_list[2].values[i],\n",
    "        i+1, words_set[X_te[exp][idx4]], sorted_scr_list[3].values[i],\n",
    "        i+1, words_set[X_te[exp][idx5]], sorted_scr_list[4].values[i]))\n",
    "    if i+1 == print_top_rel:\n",
    "        break\n",
    "    i += 1"
   ]
  },
  {
   "cell_type": "code",
   "execution_count": null,
   "id": "866460f7",
   "metadata": {},
   "outputs": [],
   "source": []
  },
  {
   "cell_type": "markdown",
   "id": "9909b692",
   "metadata": {},
   "source": [
    "## Test Sent B-ORG - O"
   ]
  },
  {
   "cell_type": "code",
   "execution_count": 540,
   "id": "9c419929",
   "metadata": {},
   "outputs": [
    {
     "name": "stdout",
     "output_type": "stream",
     "text": [
      "nfl american football-colts clobber eagles to stay in playoff hunt .\n"
     ]
    }
   ],
   "source": [
    "exp = 414\n",
    "test_sent = X_te[exp]\n",
    "sentence_str = []\n",
    "for w in test_sent:\n",
    "    if w == 0:\n",
    "        break\n",
    "    sentence_str.append(words_set[w])\n",
    "print(' '.join(sentence_str))\n",
    "\n",
    "end_sent = np.where(test_sent == 0)[0][0]\n",
    "test_true = np.argmax(y_te[exp], -1)"
   ]
  },
  {
   "cell_type": "code",
   "execution_count": 541,
   "id": "e690ea5a",
   "metadata": {},
   "outputs": [
    {
     "name": "stdout",
     "output_type": "stream",
     "text": [
      "Alvo\n",
      "Word: nfl            \n",
      "Tag : B-ORG\n"
     ]
    }
   ],
   "source": [
    "word_idx_target = 0\n",
    "tag_target = 'B-ORG'\n",
    "print(\"Alvo\")\n",
    "print(\"{:4}: {:15}\".format('Word', words_set[X_te[exp][word_idx_target]]))\n",
    "print(\"{:4}: {:5}\".format('Tag', tag_target))"
   ]
  },
  {
   "cell_type": "code",
   "execution_count": 542,
   "id": "dcbdc8f8",
   "metadata": {},
   "outputs": [],
   "source": [
    "pf = []\n",
    "for model in models:\n",
    "    p = model.predict(np.array([test_sent]))\n",
    "    pf.append(np.argmax(p, axis=-1))"
   ]
  },
  {
   "cell_type": "code",
   "execution_count": 543,
   "id": "cba26ce8",
   "metadata": {},
   "outputs": [
    {
     "name": "stdout",
     "output_type": "stream",
     "text": [
      "    Word           | True    -  Pred1   -  Pred2   -  Pred3   -  Pred4   -  Pred5 \n",
      " 0- nfl            | B-ORG   -  O       -  B-ORG   -  O       -  O       -  O     \n",
      " 1- american       | O       -  B-MISC  -  B-MISC  -  B-MISC  -  B-MISC  -  B-MISC\n",
      " 2- football-colts | O       -  O       -  O       -  O       -  O       -  O     \n",
      " 3- clobber        | O       -  O       -  O       -  O       -  O       -  O     \n",
      " 4- eagles         | B-ORG   -  B-ORG   -  B-ORG   -  B-ORG   -  B-ORG   -  O     \n",
      " 5- to             | O       -  O       -  O       -  O       -  O       -  O     \n",
      " 6- stay           | O       -  O       -  O       -  O       -  O       -  O     \n",
      " 7- in             | O       -  O       -  O       -  O       -  O       -  O     \n",
      " 8- playoff        | O       -  O       -  O       -  O       -  O       -  O     \n",
      " 9- hunt           | O       -  O       -  O       -  O       -  O       -  O     \n",
      "10- .              | O       -  O       -  O       -  O       -  O       -  O     \n"
     ]
    }
   ],
   "source": [
    "seq_len=0\n",
    "print(\"{:2}  {:15}| {:6}  -  {:6}  -  {:6}  -  {:6}  -  {:6}  -  {:6}\".format(\n",
    "    \"\", \"Word\", \"True\", \"Pred1\", \"Pred2\", \"Pred3\", \"Pred4\", \"Pred5\"))\n",
    "for w, t, pred1, pred2, pred3, pred4, pred5 in zip(X_te[exp], test_true, pf[0][0], pf[1][0], pf[2][0], pf[3][0], pf[4][0]):\n",
    "    if w != 0:\n",
    "        seq_len += 1\n",
    "        print(\"{:2}- {:15}| {:6}  -  {:6}  -  {:6}  -  {:6}  -  {:6}  -  {:6}\".format(\n",
    "            seq_len - 1, words_set[w], tags_set[t],\n",
    "            tags_set[pred1], tags_set[pred2], tags_set[pred3], tags_set[pred4], tags_set[pred5]))"
   ]
  },
  {
   "cell_type": "code",
   "execution_count": 544,
   "id": "8cc980e7",
   "metadata": {},
   "outputs": [],
   "source": [
    "sorted_scr_list = []\n",
    "for model in models:\n",
    "    sorted_scr_list.append(oclusion (test_sent, tags_set, word_idx_target, tag_target, model))"
   ]
  },
  {
   "cell_type": "code",
   "execution_count": 545,
   "id": "409b37c1",
   "metadata": {
    "scrolled": true
   },
   "outputs": [
    {
     "name": "stdout",
     "output_type": "stream",
     "text": [
      "Alvo\n",
      "Word: nfl            \n",
      "Tag : B-ORG\n",
      "\n",
      "  Ranked Relecance 1    |  Ranked Relecance 2    |  Ranked Relecance 3    |  Ranked Relecance 4    |  Ranked Relecance 5  \n",
      "1- nfl        (2.47E-01)|1- nfl        (4.85E-01)|1- nfl        (1.87E-01)|1- eagles     (9.87E-02)|1- eagles     (1.87E-02)\n",
      "2- clobber    (1.26E-01)|2- eagles     (9.49E-02)|2- eagles     (7.44E-03)|2- nfl        (3.77E-02)|2- nfl        (1.13E-03)\n",
      "3- eagles     (1.22E-01)|3- american   (2.38E-02)|3- clobber    (3.26E-03)|3- clobber    (1.58E-04)|3- clobber    (4.48E-05)\n",
      "4- football-colts(2.13E-02)|4- football-colts(7.63E-03)|4- american   (2.29E-03)|4- american   (6.77E-05)|4- football-colts(8.77E-07)\n",
      "5- american   (1.22E-02)|5- clobber    (6.64E-03)|5- football-colts(1.84E-03)|5- football-colts(3.27E-06)|5- american   (3.87E-07)\n"
     ]
    }
   ],
   "source": [
    "print_top_rel = 5\n",
    "i=0\n",
    "print(\"Alvo\")\n",
    "print(\"{:4}: {:15}\".format('Word', words_set[X_te[exp][word_idx_target]]))\n",
    "print(\"{:4}: {:5}\".format('Tag', tag_target))\n",
    "print()\n",
    "print(\"  {:20}  |  {:20}  |  {:20}  |  {:20}  |  {:20}\".format(\"Ranked Relecance 1\", \"Ranked Relecance 2\",\n",
    "                                                        \"Ranked Relecance 3\", \"Ranked Relecance 4\", \"Ranked Relecance 5\"))\n",
    "for idx1, idx2, idx3, idx4, idx5 in zip(sorted_scr_list[0].indices, sorted_scr_list[1].indices,\n",
    "                                        sorted_scr_list[2].indices, sorted_scr_list[3].indices,\n",
    "                                        sorted_scr_list[4].indices):\n",
    "    print(\"{:1}- {:11}({:.2E})|{:1}- {:11}({:.2E})|{:1}- {:11}({:.2E})|{:1}- {:11}({:.2E})|{:1}- {:11}({:.2E})\".format(\n",
    "        i+1, words_set[X_te[exp][idx1]], sorted_scr_list[0].values[i],\n",
    "        i+1, words_set[X_te[exp][idx2]], sorted_scr_list[1].values[i],\n",
    "        i+1, words_set[X_te[exp][idx3]], sorted_scr_list[2].values[i],\n",
    "        i+1, words_set[X_te[exp][idx4]], sorted_scr_list[3].values[i],\n",
    "        i+1, words_set[X_te[exp][idx5]], sorted_scr_list[4].values[i]))\n",
    "    if i+1 == print_top_rel:\n",
    "        break\n",
    "    i += 1"
   ]
  },
  {
   "cell_type": "code",
   "execution_count": 546,
   "id": "eaecc20e",
   "metadata": {},
   "outputs": [
    {
     "name": "stdout",
     "output_type": "stream",
     "text": [
      "Alvo\n",
      "Word: nfl            \n",
      "Tag : O    \n"
     ]
    }
   ],
   "source": [
    "tag_target = 'O'\n",
    "print(\"Alvo\")\n",
    "print(\"{:4}: {:15}\".format('Word', words_set[X_te[exp][word_idx_target]]))\n",
    "print(\"{:4}: {:5}\".format('Tag', tag_target))"
   ]
  },
  {
   "cell_type": "code",
   "execution_count": 547,
   "id": "7f884d9d",
   "metadata": {},
   "outputs": [],
   "source": [
    "sorted_scr_list = []\n",
    "for model in models:\n",
    "    sorted_scr_list.append(oclusion (test_sent, tags_set, word_idx_target, tag_target, model))"
   ]
  },
  {
   "cell_type": "code",
   "execution_count": 548,
   "id": "4a4f1181",
   "metadata": {},
   "outputs": [
    {
     "name": "stdout",
     "output_type": "stream",
     "text": [
      "Alvo\n",
      "Word: nfl            \n",
      "Tag : O    \n",
      "\n",
      "  Ranked Relecance 1    |  Ranked Relecance 2    |  Ranked Relecance 3    |  Ranked Relecance 4    |  Ranked Relecance 5  \n",
      "1- nfl        (5.55E-01)|1- nfl        (3.23E-01)|1- nfl        (4.77E-01)|1- nfl        (8.70E-01)|1- nfl        (9.50E-01)\n",
      "2- clobber    (1.26E-01)|2- eagles     (9.97E-02)|2- eagles     (1.18E-02)|2- eagles     (1.04E-01)|2- clobber    (1.10E-02)\n",
      "3- eagles     (1.13E-01)|3- american   (2.36E-02)|3- football-colts(7.47E-03)|3- clobber    (1.14E-03)|3- eagles     (7.08E-03)\n",
      "4- football-colts(2.24E-02)|4- football-colts(2.07E-02)|4- clobber    (7.21E-03)|4- football-colts(1.89E-04)|4- football-colts(1.50E-04)\n",
      "5- hunt       (3.49E-03)|5- clobber    (1.04E-02)|5- american   (8.32E-04)|5- playoff    (1.17E-04)|5- american   (3.93E-05)\n"
     ]
    }
   ],
   "source": [
    "print_top_rel = 5\n",
    "i=0\n",
    "print(\"Alvo\")\n",
    "print(\"{:4}: {:15}\".format('Word', words_set[X_te[exp][word_idx_target]]))\n",
    "print(\"{:4}: {:5}\".format('Tag', tag_target))\n",
    "print()\n",
    "print(\"  {:20}  |  {:20}  |  {:20}  |  {:20}  |  {:20}\".format(\"Ranked Relecance 1\", \"Ranked Relecance 2\",\n",
    "                                                        \"Ranked Relecance 3\", \"Ranked Relecance 4\", \"Ranked Relecance 5\"))\n",
    "for idx1, idx2, idx3, idx4, idx5 in zip(sorted_scr_list[0].indices, sorted_scr_list[1].indices,\n",
    "                                        sorted_scr_list[2].indices, sorted_scr_list[3].indices,\n",
    "                                        sorted_scr_list[4].indices):\n",
    "    print(\"{:1}- {:11}({:.2E})|{:1}- {:11}({:.2E})|{:1}- {:11}({:.2E})|{:1}- {:11}({:.2E})|{:1}- {:11}({:.2E})\".format(\n",
    "        i+1, words_set[X_te[exp][idx1]], sorted_scr_list[0].values[i],\n",
    "        i+1, words_set[X_te[exp][idx2]], sorted_scr_list[1].values[i],\n",
    "        i+1, words_set[X_te[exp][idx3]], sorted_scr_list[2].values[i],\n",
    "        i+1, words_set[X_te[exp][idx4]], sorted_scr_list[3].values[i],\n",
    "        i+1, words_set[X_te[exp][idx5]], sorted_scr_list[4].values[i]))\n",
    "    if i+1 == print_top_rel:\n",
    "        break\n",
    "    i += 1"
   ]
  },
  {
   "cell_type": "code",
   "execution_count": 549,
   "id": "117da673",
   "metadata": {},
   "outputs": [
    {
     "name": "stdout",
     "output_type": "stream",
     "text": [
      "Alvo\n",
      "Word: clobber        \n",
      "Tag : O    \n"
     ]
    }
   ],
   "source": [
    "word_idx_target = 3\n",
    "tag_target = 'O'\n",
    "print(\"Alvo\")\n",
    "print(\"{:4}: {:15}\".format('Word', words_set[X_te[exp][word_idx_target]]))\n",
    "print(\"{:4}: {:5}\".format('Tag', tag_target))"
   ]
  },
  {
   "cell_type": "code",
   "execution_count": 550,
   "id": "92c643c7",
   "metadata": {},
   "outputs": [],
   "source": [
    "sorted_scr_list = []\n",
    "for model in models:\n",
    "    sorted_scr_list.append(oclusion (test_sent, tags_set, word_idx_target, tag_target, model))"
   ]
  },
  {
   "cell_type": "code",
   "execution_count": 551,
   "id": "44665ab5",
   "metadata": {},
   "outputs": [
    {
     "name": "stdout",
     "output_type": "stream",
     "text": [
      "Alvo\n",
      "Word: clobber        \n",
      "Tag : O    \n",
      "\n",
      "  Ranked Relecance 1    |  Ranked Relecance 2    |  Ranked Relecance 3    |  Ranked Relecance 4    |  Ranked Relecance 5  \n",
      "1- football-colts(7.21E-01)|1- clobber    (9.62E-01)|1- clobber    (9.78E-01)|1- clobber    (1.00E+00)|1- clobber    (9.99E-01)\n",
      "2- clobber    (6.64E-01)|2- football-colts(4.69E-01)|2- football-colts(2.33E-01)|2- eagles     (2.07E-01)|2- eagles     (2.72E-01)\n",
      "3- eagles     (2.25E-01)|3- eagles     (2.33E-01)|3- nfl        (8.37E-02)|3- nfl        (5.92E-02)|3- nfl        (2.96E-02)\n",
      "4- nfl        (5.56E-02)|4- american   (6.95E-03)|4- eagles     (2.79E-03)|4- football-colts(4.46E-03)|4- football-colts(1.11E-03)\n",
      "5- hunt       (4.17E-03)|5- nfl        (2.07E-03)|5- hunt       (7.37E-04)|5- playoff    (2.50E-04)|5- american   (3.94E-05)\n"
     ]
    }
   ],
   "source": [
    "print_top_rel = 5\n",
    "i=0\n",
    "print(\"Alvo\")\n",
    "print(\"{:4}: {:15}\".format('Word', words_set[X_te[exp][word_idx_target]]))\n",
    "print(\"{:4}: {:5}\".format('Tag', tag_target))\n",
    "print()\n",
    "print(\"  {:20}  |  {:20}  |  {:20}  |  {:20}  |  {:20}\".format(\"Ranked Relecance 1\", \"Ranked Relecance 2\",\n",
    "                                                        \"Ranked Relecance 3\", \"Ranked Relecance 4\", \"Ranked Relecance 5\"))\n",
    "for idx1, idx2, idx3, idx4, idx5 in zip(sorted_scr_list[0].indices, sorted_scr_list[1].indices,\n",
    "                                        sorted_scr_list[2].indices, sorted_scr_list[3].indices,\n",
    "                                        sorted_scr_list[4].indices):\n",
    "    print(\"{:1}- {:11}({:.2E})|{:1}- {:11}({:.2E})|{:1}- {:11}({:.2E})|{:1}- {:11}({:.2E})|{:1}- {:11}({:.2E})\".format(\n",
    "        i+1, words_set[X_te[exp][idx1]], sorted_scr_list[0].values[i],\n",
    "        i+1, words_set[X_te[exp][idx2]], sorted_scr_list[1].values[i],\n",
    "        i+1, words_set[X_te[exp][idx3]], sorted_scr_list[2].values[i],\n",
    "        i+1, words_set[X_te[exp][idx4]], sorted_scr_list[3].values[i],\n",
    "        i+1, words_set[X_te[exp][idx5]], sorted_scr_list[4].values[i]))\n",
    "    if i+1 == print_top_rel:\n",
    "        break\n",
    "    i += 1"
   ]
  },
  {
   "cell_type": "code",
   "execution_count": null,
   "id": "4390c15a",
   "metadata": {},
   "outputs": [],
   "source": []
  },
  {
   "cell_type": "markdown",
   "id": "7df5c15a",
   "metadata": {},
   "source": [
    "## Test Sent B-ORG - O"
   ]
  },
  {
   "cell_type": "code",
   "execution_count": 552,
   "id": "4a0f2d65",
   "metadata": {},
   "outputs": [
    {
     "name": "stdout",
     "output_type": "stream",
     "text": [
      "( corrects headline from nba to nhl and corrects team name in second result from la clippers to ny islanders .\n"
     ]
    }
   ],
   "source": [
    "exp = 405\n",
    "test_sent = X_te[exp]\n",
    "sentence_str = []\n",
    "for w in test_sent:\n",
    "    if w == 0:\n",
    "        break\n",
    "    sentence_str.append(words_set[w])\n",
    "print(' '.join(sentence_str))\n",
    "\n",
    "end_sent = np.where(test_sent == 0)[0][0]\n",
    "test_true = np.argmax(y_te[exp], -1)"
   ]
  },
  {
   "cell_type": "code",
   "execution_count": 553,
   "id": "7fe2a4e7",
   "metadata": {},
   "outputs": [
    {
     "name": "stdout",
     "output_type": "stream",
     "text": [
      "Alvo\n",
      "Word: nba            \n",
      "Tag : B-ORG\n"
     ]
    }
   ],
   "source": [
    "word_idx_target = 4\n",
    "tag_target = 'B-ORG'\n",
    "print(\"Alvo\")\n",
    "print(\"{:4}: {:15}\".format('Word', words_set[X_te[exp][word_idx_target]]))\n",
    "print(\"{:4}: {:5}\".format('Tag', tag_target))"
   ]
  },
  {
   "cell_type": "code",
   "execution_count": 554,
   "id": "d6567d61",
   "metadata": {},
   "outputs": [],
   "source": [
    "pf = []\n",
    "for model in models:\n",
    "    p = model.predict(np.array([test_sent]))\n",
    "    pf.append(np.argmax(p, axis=-1))"
   ]
  },
  {
   "cell_type": "code",
   "execution_count": 555,
   "id": "ba5a896b",
   "metadata": {},
   "outputs": [
    {
     "name": "stdout",
     "output_type": "stream",
     "text": [
      "    Word           | True    -  Pred1   -  Pred2   -  Pred3   -  Pred4   -  Pred5 \n",
      " 0- (              | O       -  O       -  O       -  O       -  O       -  O     \n",
      " 1- corrects       | O       -  O       -  O       -  O       -  O       -  O     \n",
      " 2- headline       | O       -  O       -  O       -  O       -  O       -  O     \n",
      " 3- from           | O       -  O       -  O       -  O       -  O       -  O     \n",
      " 4- nba            | B-ORG   -  O       -  O       -  O       -  O       -  O     \n",
      " 5- to             | O       -  O       -  O       -  O       -  O       -  O     \n",
      " 6- nhl            | B-ORG   -  O       -  O       -  O       -  O       -  O     \n",
      " 7- and            | O       -  O       -  O       -  O       -  O       -  O     \n",
      " 8- corrects       | O       -  O       -  O       -  O       -  O       -  O     \n",
      " 9- team           | O       -  O       -  O       -  O       -  O       -  O     \n",
      "10- name           | O       -  O       -  O       -  O       -  O       -  O     \n",
      "11- in             | O       -  O       -  O       -  O       -  O       -  O     \n",
      "12- second         | O       -  O       -  O       -  O       -  O       -  O     \n",
      "13- result         | O       -  O       -  O       -  O       -  O       -  O     \n",
      "14- from           | O       -  O       -  O       -  O       -  O       -  O     \n",
      "15- la             | B-ORG   -  B-ORG   -  B-ORG   -  B-ORG   -  B-ORG   -  B-ORG \n",
      "16- clippers       | I-ORG   -  I-ORG   -  I-ORG   -  I-ORG   -  I-ORG   -  I-ORG \n",
      "17- to             | O       -  O       -  O       -  O       -  O       -  O     \n",
      "18- ny             | B-ORG   -  B-ORG   -  O       -  O       -  O       -  O     \n",
      "19- islanders      | I-ORG   -  I-ORG   -  I-ORG   -  I-ORG   -  I-ORG   -  I-ORG \n",
      "20- .              | O       -  O       -  O       -  O       -  O       -  O     \n"
     ]
    }
   ],
   "source": [
    "seq_len=0\n",
    "print(\"{:2}  {:15}| {:6}  -  {:6}  -  {:6}  -  {:6}  -  {:6}  -  {:6}\".format(\n",
    "    \"\", \"Word\", \"True\", \"Pred1\", \"Pred2\", \"Pred3\", \"Pred4\", \"Pred5\"))\n",
    "for w, t, pred1, pred2, pred3, pred4, pred5 in zip(X_te[exp], test_true, pf[0][0], pf[1][0], pf[2][0], pf[3][0], pf[4][0]):\n",
    "    if w != 0:\n",
    "        seq_len += 1\n",
    "        print(\"{:2}- {:15}| {:6}  -  {:6}  -  {:6}  -  {:6}  -  {:6}  -  {:6}\".format(\n",
    "            seq_len - 1, words_set[w], tags_set[t],\n",
    "            tags_set[pred1], tags_set[pred2], tags_set[pred3], tags_set[pred4], tags_set[pred5]))"
   ]
  },
  {
   "cell_type": "code",
   "execution_count": 556,
   "id": "50487641",
   "metadata": {},
   "outputs": [],
   "source": [
    "sorted_scr_list = []\n",
    "for model in models:\n",
    "    sorted_scr_list.append(oclusion (test_sent, tags_set, word_idx_target, tag_target, model))"
   ]
  },
  {
   "cell_type": "code",
   "execution_count": 557,
   "id": "ead69822",
   "metadata": {
    "scrolled": true
   },
   "outputs": [
    {
     "name": "stdout",
     "output_type": "stream",
     "text": [
      "Alvo\n",
      "Word: nba            \n",
      "Tag : B-ORG\n",
      "\n",
      "  Ranked Relecance 1    |  Ranked Relecance 2    |  Ranked Relecance 3    |  Ranked Relecance 4    |  Ranked Relecance 5  \n",
      "1- nba        (3.68E-02)|1- nba        (1.07E-01)|1- nba        (7.29E-02)|1- nhl        (1.60E-02)|1- nhl        (1.21E-02)\n",
      "2- corrects   (7.45E-03)|2- nhl        (1.42E-02)|2- nhl        (7.25E-03)|2- ny         (1.10E-02)|2- ny         (6.48E-03)\n",
      "3- nhl        (5.96E-03)|3- headline   (4.93E-04)|3- la         (9.05E-04)|3- nba        (3.45E-03)|3- la         (4.81E-04)\n",
      "4- ny         (1.13E-03)|4- clippers   (4.18E-04)|4- ny         (4.37E-04)|4- la         (3.38E-03)|4- nba        (6.92E-05)\n",
      "5- headline   (9.05E-04)|5- corrects   (2.27E-04)|5- corrects   (3.70E-04)|5- islanders  (3.21E-05)|5- islanders  (3.70E-05)\n"
     ]
    }
   ],
   "source": [
    "print_top_rel = 5\n",
    "i=0\n",
    "print(\"Alvo\")\n",
    "print(\"{:4}: {:15}\".format('Word', words_set[X_te[exp][word_idx_target]]))\n",
    "print(\"{:4}: {:5}\".format('Tag', tag_target))\n",
    "print()\n",
    "print(\"  {:20}  |  {:20}  |  {:20}  |  {:20}  |  {:20}\".format(\"Ranked Relecance 1\", \"Ranked Relecance 2\",\n",
    "                                                        \"Ranked Relecance 3\", \"Ranked Relecance 4\", \"Ranked Relecance 5\"))\n",
    "for idx1, idx2, idx3, idx4, idx5 in zip(sorted_scr_list[0].indices, sorted_scr_list[1].indices,\n",
    "                                        sorted_scr_list[2].indices, sorted_scr_list[3].indices,\n",
    "                                        sorted_scr_list[4].indices):\n",
    "    print(\"{:1}- {:11}({:.2E})|{:1}- {:11}({:.2E})|{:1}- {:11}({:.2E})|{:1}- {:11}({:.2E})|{:1}- {:11}({:.2E})\".format(\n",
    "        i+1, words_set[X_te[exp][idx1]], sorted_scr_list[0].values[i],\n",
    "        i+1, words_set[X_te[exp][idx2]], sorted_scr_list[1].values[i],\n",
    "        i+1, words_set[X_te[exp][idx3]], sorted_scr_list[2].values[i],\n",
    "        i+1, words_set[X_te[exp][idx4]], sorted_scr_list[3].values[i],\n",
    "        i+1, words_set[X_te[exp][idx5]], sorted_scr_list[4].values[i]))\n",
    "    if i+1 == print_top_rel:\n",
    "        break\n",
    "    i += 1"
   ]
  },
  {
   "cell_type": "code",
   "execution_count": 558,
   "id": "fc1a539d",
   "metadata": {},
   "outputs": [
    {
     "name": "stdout",
     "output_type": "stream",
     "text": [
      "Alvo\n",
      "Word: nba            \n",
      "Tag : O    \n"
     ]
    }
   ],
   "source": [
    "tag_target = 'O'\n",
    "print(\"Alvo\")\n",
    "print(\"{:4}: {:15}\".format('Word', words_set[X_te[exp][word_idx_target]]))\n",
    "print(\"{:4}: {:5}\".format('Tag', tag_target))"
   ]
  },
  {
   "cell_type": "code",
   "execution_count": 559,
   "id": "fed05d2e",
   "metadata": {},
   "outputs": [],
   "source": [
    "sorted_scr_list = []\n",
    "for model in models:\n",
    "    sorted_scr_list.append(oclusion (test_sent, tags_set, word_idx_target, tag_target, model))"
   ]
  },
  {
   "cell_type": "code",
   "execution_count": 560,
   "id": "37ed9fc6",
   "metadata": {},
   "outputs": [
    {
     "name": "stdout",
     "output_type": "stream",
     "text": [
      "Alvo\n",
      "Word: nba            \n",
      "Tag : O    \n",
      "\n",
      "  Ranked Relecance 1    |  Ranked Relecance 2    |  Ranked Relecance 3    |  Ranked Relecance 4    |  Ranked Relecance 5  \n",
      "1- nba        (9.35E-01)|1- nba        (8.67E-01)|1- nba        (9.04E-01)|1- nba        (9.95E-01)|1- nba        (1.00E+00)\n",
      "2- nhl        (1.34E-02)|2- nhl        (1.29E-02)|2- to         (1.94E-03)|2- nhl        (1.47E-02)|2- nhl        (9.22E-03)\n",
      "3- corrects   (1.24E-02)|3- to         (2.26E-03)|3- nhl        (9.99E-04)|3- ny         (1.11E-02)|3- ny         (6.03E-03)\n",
      "4- corrects   (1.01E-02)|4- team       (1.08E-03)|4- la         (8.10E-04)|4- la         (7.18E-04)|4- la         (3.63E-04)\n",
      "5- to         (5.32E-03)|5- to         (9.10E-04)|5- corrects   (6.39E-04)|5- name       (2.00E-04)|5- islanders  (1.08E-04)\n"
     ]
    }
   ],
   "source": [
    "print_top_rel = 5\n",
    "i=0\n",
    "print(\"Alvo\")\n",
    "print(\"{:4}: {:15}\".format('Word', words_set[X_te[exp][word_idx_target]]))\n",
    "print(\"{:4}: {:5}\".format('Tag', tag_target))\n",
    "print()\n",
    "print(\"  {:20}  |  {:20}  |  {:20}  |  {:20}  |  {:20}\".format(\"Ranked Relecance 1\", \"Ranked Relecance 2\",\n",
    "                                                        \"Ranked Relecance 3\", \"Ranked Relecance 4\", \"Ranked Relecance 5\"))\n",
    "for idx1, idx2, idx3, idx4, idx5 in zip(sorted_scr_list[0].indices, sorted_scr_list[1].indices,\n",
    "                                        sorted_scr_list[2].indices, sorted_scr_list[3].indices,\n",
    "                                        sorted_scr_list[4].indices):\n",
    "    print(\"{:1}- {:11}({:.2E})|{:1}- {:11}({:.2E})|{:1}- {:11}({:.2E})|{:1}- {:11}({:.2E})|{:1}- {:11}({:.2E})\".format(\n",
    "        i+1, words_set[X_te[exp][idx1]], sorted_scr_list[0].values[i],\n",
    "        i+1, words_set[X_te[exp][idx2]], sorted_scr_list[1].values[i],\n",
    "        i+1, words_set[X_te[exp][idx3]], sorted_scr_list[2].values[i],\n",
    "        i+1, words_set[X_te[exp][idx4]], sorted_scr_list[3].values[i],\n",
    "        i+1, words_set[X_te[exp][idx5]], sorted_scr_list[4].values[i]))\n",
    "    if i+1 == print_top_rel:\n",
    "        break\n",
    "    i += 1"
   ]
  },
  {
   "cell_type": "code",
   "execution_count": null,
   "id": "e5437469",
   "metadata": {},
   "outputs": [],
   "source": []
  },
  {
   "cell_type": "markdown",
   "id": "97341c5b",
   "metadata": {},
   "source": [
    "## Test Sent B-LOC - O"
   ]
  },
  {
   "cell_type": "code",
   "execution_count": 587,
   "id": "751a8d8c",
   "metadata": {},
   "outputs": [
    {
     "name": "stdout",
     "output_type": "stream",
     "text": [
      "league game on thursday ( home team in caps ) :\n"
     ]
    }
   ],
   "source": [
    "exp = 555\n",
    "test_sent = X_te[exp]\n",
    "sentence_str = []\n",
    "for w in test_sent:\n",
    "    if w == 0:\n",
    "        break\n",
    "    sentence_str.append(words_set[w])\n",
    "print(' '.join(sentence_str))\n",
    "\n",
    "end_sent = np.where(test_sent == 0)[0][0]\n",
    "test_true = np.argmax(y_te[exp], -1)"
   ]
  },
  {
   "cell_type": "code",
   "execution_count": 589,
   "id": "436dfb0c",
   "metadata": {},
   "outputs": [],
   "source": [
    "pf = []\n",
    "for model in models:\n",
    "    p = model.predict(np.array([test_sent]))\n",
    "    pf.append(np.argmax(p, axis=-1))"
   ]
  },
  {
   "cell_type": "code",
   "execution_count": 590,
   "id": "0ef8915c",
   "metadata": {},
   "outputs": [
    {
     "name": "stdout",
     "output_type": "stream",
     "text": [
      "    Word           | True    -  Pred1   -  Pred2   -  Pred3   -  Pred4   -  Pred5 \n",
      " 0- league         | B-LOC   -  O       -  O       -  O       -  O       -  O     \n",
      " 1- game           | O       -  O       -  O       -  O       -  O       -  O     \n",
      " 2- on             | O       -  O       -  O       -  O       -  O       -  O     \n",
      " 3- thursday       | O       -  O       -  O       -  O       -  O       -  O     \n",
      " 4- (              | O       -  O       -  O       -  O       -  O       -  O     \n",
      " 5- home           | O       -  O       -  O       -  O       -  O       -  O     \n",
      " 6- team           | O       -  O       -  O       -  O       -  O       -  O     \n",
      " 7- in             | O       -  O       -  O       -  O       -  O       -  O     \n",
      " 8- caps           | O       -  O       -  O       -  O       -  O       -  O     \n",
      " 9- )              | O       -  O       -  O       -  O       -  O       -  O     \n",
      "10- :              | O       -  O       -  O       -  O       -  O       -  O     \n"
     ]
    }
   ],
   "source": [
    "seq_len=0\n",
    "print(\"{:2}  {:15}| {:6}  -  {:6}  -  {:6}  -  {:6}  -  {:6}  -  {:6}\".format(\n",
    "    \"\", \"Word\", \"True\", \"Pred1\", \"Pred2\", \"Pred3\", \"Pred4\", \"Pred5\"))\n",
    "for w, t, pred1, pred2, pred3, pred4, pred5 in zip(X_te[exp], test_true, pf[0][0], pf[1][0], pf[2][0], pf[3][0], pf[4][0]):\n",
    "    if w != 0:\n",
    "        seq_len += 1\n",
    "        print(\"{:2}- {:15}| {:6}  -  {:6}  -  {:6}  -  {:6}  -  {:6}  -  {:6}\".format(\n",
    "            seq_len - 1, words_set[w], tags_set[t],\n",
    "            tags_set[pred1], tags_set[pred2], tags_set[pred3], tags_set[pred4], tags_set[pred5]))"
   ]
  },
  {
   "cell_type": "code",
   "execution_count": 595,
   "id": "576c6099",
   "metadata": {},
   "outputs": [
    {
     "name": "stdout",
     "output_type": "stream",
     "text": [
      "Alvo\n",
      "Word: league         \n",
      "Tag : B-LOC\n"
     ]
    }
   ],
   "source": [
    "word_idx_target = 0\n",
    "tag_target = 'B-LOC'\n",
    "print(\"Alvo\")\n",
    "print(\"{:4}: {:15}\".format('Word', words_set[X_te[exp][word_idx_target]]))\n",
    "print(\"{:4}: {:5}\".format('Tag', tag_target))"
   ]
  },
  {
   "cell_type": "code",
   "execution_count": 596,
   "id": "8fc3f656",
   "metadata": {},
   "outputs": [],
   "source": [
    "sorted_scr_list = []\n",
    "for model in models:\n",
    "    sorted_scr_list.append(oclusion (test_sent, tags_set, word_idx_target, tag_target, model))"
   ]
  },
  {
   "cell_type": "code",
   "execution_count": 597,
   "id": "eb3dae73",
   "metadata": {
    "scrolled": true
   },
   "outputs": [
    {
     "name": "stdout",
     "output_type": "stream",
     "text": [
      "Alvo\n",
      "Word: league         \n",
      "Tag : B-LOC\n",
      "\n",
      "  Ranked Relecance 1    |  Ranked Relecance 2    |  Ranked Relecance 3    |  Ranked Relecance 4    |  Ranked Relecance 5  \n",
      "1- home       (2.18E-03)|1- game       (2.22E-04)|1- caps       (4.95E-04)|1- caps       (9.15E-05)|1- caps       (5.88E-07)\n",
      "2- caps       (1.78E-03)|2- caps       (1.87E-04)|2- game       (9.32E-05)|2- :          (8.25E-06)|2- game       (5.04E-07)\n",
      "3- thursday   (1.56E-03)|3- league     (1.09E-04)|3- home       (1.62E-05)|3- game       (2.51E-06)|3- home       (4.99E-07)\n",
      "4- on         (1.16E-03)|4- thursday   (6.34E-05)|4- thursday   (1.04E-05)|4- home       (4.02E-07)|4- :          (3.83E-07)\n",
      "5- league     (6.36E-04)|5- on         (3.34E-05)|5- :          (9.38E-06)|5- league     (1.46E-07)|5- league     (1.67E-08)\n"
     ]
    }
   ],
   "source": [
    "print_top_rel = 5\n",
    "i=0\n",
    "print(\"Alvo\")\n",
    "print(\"{:4}: {:15}\".format('Word', words_set[X_te[exp][word_idx_target]]))\n",
    "print(\"{:4}: {:5}\".format('Tag', tag_target))\n",
    "print()\n",
    "print(\"  {:20}  |  {:20}  |  {:20}  |  {:20}  |  {:20}\".format(\"Ranked Relecance 1\", \"Ranked Relecance 2\",\n",
    "                                                        \"Ranked Relecance 3\", \"Ranked Relecance 4\", \"Ranked Relecance 5\"))\n",
    "for idx1, idx2, idx3, idx4, idx5 in zip(sorted_scr_list[0].indices, sorted_scr_list[1].indices,\n",
    "                                        sorted_scr_list[2].indices, sorted_scr_list[3].indices,\n",
    "                                        sorted_scr_list[4].indices):\n",
    "    print(\"{:1}- {:11}({:.2E})|{:1}- {:11}({:.2E})|{:1}- {:11}({:.2E})|{:1}- {:11}({:.2E})|{:1}- {:11}({:.2E})\".format(\n",
    "        i+1, words_set[X_te[exp][idx1]], sorted_scr_list[0].values[i],\n",
    "        i+1, words_set[X_te[exp][idx2]], sorted_scr_list[1].values[i],\n",
    "        i+1, words_set[X_te[exp][idx3]], sorted_scr_list[2].values[i],\n",
    "        i+1, words_set[X_te[exp][idx4]], sorted_scr_list[3].values[i],\n",
    "        i+1, words_set[X_te[exp][idx5]], sorted_scr_list[4].values[i]))\n",
    "    if i+1 == print_top_rel:\n",
    "        break\n",
    "    i += 1"
   ]
  },
  {
   "cell_type": "code",
   "execution_count": 598,
   "id": "a875061a",
   "metadata": {},
   "outputs": [
    {
     "name": "stdout",
     "output_type": "stream",
     "text": [
      "Alvo\n",
      "Word: league         \n",
      "Tag : O    \n"
     ]
    }
   ],
   "source": [
    "tag_target = 'O'\n",
    "print(\"Alvo\")\n",
    "print(\"{:4}: {:15}\".format('Word', words_set[X_te[exp][word_idx_target]]))\n",
    "print(\"{:4}: {:5}\".format('Tag', tag_target))"
   ]
  },
  {
   "cell_type": "code",
   "execution_count": 599,
   "id": "fecc5e9a",
   "metadata": {},
   "outputs": [],
   "source": [
    "sorted_scr_list = []\n",
    "for model in models:\n",
    "    sorted_scr_list.append(oclusion (test_sent, tags_set, word_idx_target, tag_target, model))"
   ]
  },
  {
   "cell_type": "code",
   "execution_count": 600,
   "id": "7c199f57",
   "metadata": {},
   "outputs": [
    {
     "name": "stdout",
     "output_type": "stream",
     "text": [
      "Alvo\n",
      "Word: league         \n",
      "Tag : O    \n",
      "\n",
      "  Ranked Relecance 1    |  Ranked Relecance 2    |  Ranked Relecance 3    |  Ranked Relecance 4    |  Ranked Relecance 5  \n",
      "1- league     (8.39E-01)|1- league     (9.72E-01)|1- league     (9.97E-01)|1- league     (1.00E+00)|1- league     (1.00E+00)\n",
      "2- caps       (3.05E-03)|2- game       (9.41E-03)|2- game       (5.46E-03)|2- caps       (3.80E-04)|2- caps       (6.20E-06)\n",
      "3- home       (2.89E-03)|3- caps       (4.32E-04)|3- caps       (1.89E-03)|3- :          (9.66E-06)|3- thursday   (2.26E-06)\n",
      "4- game       (2.88E-03)|4- home       (4.59E-05)|4- thursday   (1.61E-04)|4- thursday   (2.74E-06)|4- home       (1.31E-06)\n",
      "5- on         (2.04E-03)|5- thursday   (3.31E-05)|5- home       (7.06E-05)|5- )          (1.67E-06)|5- game       (4.77E-07)\n"
     ]
    }
   ],
   "source": [
    "print_top_rel = 5\n",
    "i=0\n",
    "print(\"Alvo\")\n",
    "print(\"{:4}: {:15}\".format('Word', words_set[X_te[exp][word_idx_target]]))\n",
    "print(\"{:4}: {:5}\".format('Tag', tag_target))\n",
    "print()\n",
    "print(\"  {:20}  |  {:20}  |  {:20}  |  {:20}  |  {:20}\".format(\"Ranked Relecance 1\", \"Ranked Relecance 2\",\n",
    "                                                        \"Ranked Relecance 3\", \"Ranked Relecance 4\", \"Ranked Relecance 5\"))\n",
    "for idx1, idx2, idx3, idx4, idx5 in zip(sorted_scr_list[0].indices, sorted_scr_list[1].indices,\n",
    "                                        sorted_scr_list[2].indices, sorted_scr_list[3].indices,\n",
    "                                        sorted_scr_list[4].indices):\n",
    "    print(\"{:1}- {:11}({:.2E})|{:1}- {:11}({:.2E})|{:1}- {:11}({:.2E})|{:1}- {:11}({:.2E})|{:1}- {:11}({:.2E})\".format(\n",
    "        i+1, words_set[X_te[exp][idx1]], sorted_scr_list[0].values[i],\n",
    "        i+1, words_set[X_te[exp][idx2]], sorted_scr_list[1].values[i],\n",
    "        i+1, words_set[X_te[exp][idx3]], sorted_scr_list[2].values[i],\n",
    "        i+1, words_set[X_te[exp][idx4]], sorted_scr_list[3].values[i],\n",
    "        i+1, words_set[X_te[exp][idx5]], sorted_scr_list[4].values[i]))\n",
    "    if i+1 == print_top_rel:\n",
    "        break\n",
    "    i += 1"
   ]
  },
  {
   "cell_type": "code",
   "execution_count": null,
   "id": "b490554a",
   "metadata": {},
   "outputs": [],
   "source": []
  }
 ],
 "metadata": {
  "kernelspec": {
   "display_name": "Python 3",
   "language": "python",
   "name": "python3"
  },
  "language_info": {
   "codemirror_mode": {
    "name": "ipython",
    "version": 3
   },
   "file_extension": ".py",
   "mimetype": "text/x-python",
   "name": "python",
   "nbconvert_exporter": "python",
   "pygments_lexer": "ipython3",
   "version": "3.6.13"
  }
 },
 "nbformat": 4,
 "nbformat_minor": 5
}
